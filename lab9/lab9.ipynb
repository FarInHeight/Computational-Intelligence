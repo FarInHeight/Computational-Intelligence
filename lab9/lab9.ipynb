{
 "cells": [
  {
   "cell_type": "markdown",
   "metadata": {},
   "source": [
    "# LAB9\n",
    "\n",
    "Write a local-search algorithm (eg. an EA) able to solve the *Problem* instances 1, 2, 5, and 10 on a 1000-loci genomes, using a minimum number of fitness calls. That's all.\n",
    "\n",
    "### Deadlines:\n",
    "\n",
    "* Submission: Sunday, December 3 ([CET](https://www.timeanddate.com/time/zones/cet))\n",
    "* Reviews: Sunday, December 10 ([CET](https://www.timeanddate.com/time/zones/cet))\n",
    "\n",
    "Notes:\n",
    "\n",
    "* Reviews will be assigned  on Monday, December 4\n",
    "* You need to commit in order to be selected as a reviewer (ie. better to commit an empty work than not to commit)"
   ]
  },
  {
   "cell_type": "code",
   "execution_count": 1,
   "metadata": {},
   "outputs": [],
   "source": [
    "from __future__ import annotations\n",
    "from random import choices, randint\n",
    "from dataclasses import dataclass, field\n",
    "from copy import deepcopy\n",
    "import numpy as np\n",
    "\n",
    "import lab9_lib"
   ]
  },
  {
   "cell_type": "code",
   "execution_count": 2,
   "metadata": {},
   "outputs": [],
   "source": [
    "PROBLEM_SIZE = 10\n",
    "LOCI = 1000"
   ]
  },
  {
   "cell_type": "code",
   "execution_count": 3,
   "metadata": {},
   "outputs": [
    {
     "name": "stdout",
     "output_type": "stream",
     "text": [
      "11110011110000011011111110010010111111000010001111: 23.33%\n",
      "00011111101011111010101011111110111101001110101101: 9.11%\n",
      "01000001111111100100001110001111011010010101001111: 23.33%\n",
      "01000011010001100000111111110011101101010011000000: 29.56%\n",
      "01110101100010011000000100100110000011111110110100: 23.56%\n",
      "01111011111001000110110111000111000000100000000111: 7.33%\n",
      "11000110010011000101101111101011000000010100000010: 17.56%\n",
      "10010111111101011101000110010101111011011001000110: 19.13%\n",
      "11110101011001101110000001010111001000011000010001: 15.34%\n",
      "00110100011101111001111010011100101101010101111001: 9.11%\n",
      "11111111111111111111111111111111111111111111111111: 100.00%\n",
      "11\n"
     ]
    }
   ],
   "source": [
    "fitness = lab9_lib.make_problem(PROBLEM_SIZE)\n",
    "for n in range(10):\n",
    "    ind = choices([0, 1], k=50)\n",
    "    print(f\"{''.join(str(g) for g in ind)}: {fitness(ind):.2%}\")\n",
    "\n",
    "ind = choices([1], k=50)\n",
    "print(f\"{''.join(str(g) for g in ind)}: {fitness(ind):.2%}\")\n",
    "print(fitness.calls)"
   ]
  },
  {
   "cell_type": "code",
   "execution_count": 4,
   "metadata": {},
   "outputs": [],
   "source": [
    "@dataclass(frozen=True, init=False)\n",
    "class Individual:\n",
    "    _n_loci: int\n",
    "    _genotype: tuple[int]\n",
    "\n",
    "    def __init__(self, n_loci: int, genotype: tuple[int] = None):\n",
    "        object.__setattr__(self, \"_n_loci\", n_loci)\n",
    "        if genotype is None:\n",
    "            genotype = tuple(choices([0, 1], k=n_loci))\n",
    "        object.__setattr__(self, \"_genotype\", genotype)\n",
    "        assert len(self._genotype) == self._n_loci, 'n_loci field and genotype length do not match'\n",
    "\n",
    "    @property\n",
    "    def n_loci(self):\n",
    "        return self._n_loci\n",
    "\n",
    "    @property\n",
    "    def genotype(self):\n",
    "        return tuple(self._genotype)\n",
    "\n",
    "    def __str__(self) -> str:\n",
    "        return f\"{''.join(str(gene) for gene in self.genotype)}\""
   ]
  },
  {
   "cell_type": "code",
   "execution_count": 5,
   "metadata": {},
   "outputs": [],
   "source": [
    "def mutate(ind: Individual, *, eps: int) -> Individual:\n",
    "    n_loci, genotype = ind.n_loci, list(ind.genotype)\n",
    "    first_one_index, last_one_index = (\n",
    "        genotype.index(1) - eps,\n",
    "        n_loci - genotype[::-1].index(1) + (eps - 1),\n",
    "    )\n",
    "    range = np.clip([first_one_index, last_one_index], 0, n_loci - 1).tolist()\n",
    "    index = randint(*range)\n",
    "    genotype[index] = 1 - genotype[index]\n",
    "    return Individual(n_loci, tuple(genotype))"
   ]
  },
  {
   "cell_type": "code",
   "execution_count": 6,
   "metadata": {},
   "outputs": [],
   "source": [
    "ind = Individual(LOCI)\n",
    "eps = int(PROBLEM_SIZE * 0.3)\n",
    "offspring = mutate(ind, eps=eps)"
   ]
  },
  {
   "cell_type": "code",
   "execution_count": 15,
   "metadata": {},
   "outputs": [
    {
     "name": "stdout",
     "output_type": "stream",
     "text": [
      "29 1 0\n"
     ]
    }
   ],
   "source": [
    "for index, (first, second) in enumerate(zip(offspring.genotype, ind.genotype)):\n",
    "    if first != second:\n",
    "        print(index, first, second)"
   ]
  }
 ],
 "metadata": {
  "kernelspec": {
   "display_name": "ci-fLJ3OwGs-py3.12",
   "language": "python",
   "name": "python3"
  },
  "language_info": {
   "codemirror_mode": {
    "name": "ipython",
    "version": 3
   },
   "file_extension": ".py",
   "mimetype": "text/x-python",
   "name": "python",
   "nbconvert_exporter": "python",
   "pygments_lexer": "ipython3",
   "version": "3.12.0"
  }
 },
 "nbformat": 4,
 "nbformat_minor": 2
}
