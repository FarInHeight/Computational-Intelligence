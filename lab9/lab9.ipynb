{
 "cells": [
  {
   "cell_type": "markdown",
   "metadata": {},
   "source": [
    "# LAB9\n",
    "\n",
    "Write a local-search algorithm (eg. an EA) able to solve the *Problem* instances 1, 2, 5, and 10 on a 1000-loci genomes, using a minimum number of fitness calls. That's all.\n",
    "\n",
    "### Deadlines:\n",
    "\n",
    "* Submission: Sunday, December 3 ([CET](https://www.timeanddate.com/time/zones/cet))\n",
    "* Reviews: Sunday, December 10 ([CET](https://www.timeanddate.com/time/zones/cet))\n",
    "\n",
    "Notes:\n",
    "\n",
    "* Reviews will be assigned  on Monday, December 4\n",
    "* You need to commit in order to be selected as a reviewer (ie. better to commit an empty work than not to commit)"
   ]
  },
  {
   "cell_type": "code",
   "execution_count": 1,
   "metadata": {},
   "outputs": [],
   "source": [
    "from __future__ import annotations\n",
    "\n",
    "from random import choices, randint, random\n",
    "from dataclasses import dataclass, field\n",
    "from copy import deepcopy\n",
    "from typing import Callable\n",
    "import numpy as np\n",
    "import math\n",
    "from tqdm.notebook import trange\n",
    "\n",
    "\n",
    "import lab9_lib\n",
    "from lab9_lib import AbstractProblem"
   ]
  },
  {
   "cell_type": "code",
   "execution_count": 2,
   "metadata": {},
   "outputs": [],
   "source": [
    "PROBLEM_SIZE = 10\n",
    "LOCI = 1000"
   ]
  },
  {
   "cell_type": "code",
   "execution_count": 3,
   "metadata": {},
   "outputs": [
    {
     "name": "stdout",
     "output_type": "stream",
     "text": [
      "00110000110011101000101001110001101111011110010010: 9.34%\n",
      "00000010111011110111010001011011000111001101011100: 15.33%\n",
      "11110111011100010100010000010101001011000010000010: 15.56%\n",
      "11010011010001001001000100000011111111000000110101: 7.33%\n",
      "00100110111111110100011011110101111101101111001101: 9.11%\n",
      "10110000100011110101100110001001101000010011011001: 15.34%\n",
      "00010001010000101001101111001011001010111001100001: 15.34%\n",
      "11111101101011001000100110001010010011011111001010: 19.33%\n",
      "11101001001000101011011111010110001110101010110010: 9.13%\n",
      "01110000000111011100010011011100101010100001010110: 35.56%\n",
      "11111111111111111111111111111111111111111111111111: 100.00%\n",
      "11\n"
     ]
    }
   ],
   "source": [
    "fitness = lab9_lib.make_problem(PROBLEM_SIZE)\n",
    "for n in range(10):\n",
    "    ind = choices([0, 1], k=50)\n",
    "    print(f\"{''.join(str(g) for g in ind)}: {fitness(ind):.2%}\")\n",
    "\n",
    "ind = choices([1], k=50)\n",
    "print(f\"{''.join(str(g) for g in ind)}: {fitness(ind):.2%}\")\n",
    "print(fitness.calls)"
   ]
  },
  {
   "cell_type": "code",
   "execution_count": 4,
   "metadata": {},
   "outputs": [],
   "source": [
    "@dataclass(frozen=True, init=False)\n",
    "class Individual:\n",
    "    _n_loci: int\n",
    "    _genotype: tuple[int]\n",
    "    _fitness: float\n",
    "    _fitness_function: Callable[[Individual], float]\n",
    "\n",
    "    def __init__(self, fitness_function: \"AbstractProblem\", n_loci: int, genotype: tuple[int] = None):\n",
    "        object.__setattr__(self, \"_n_loci\", n_loci)\n",
    "        if genotype is None:\n",
    "            genotype = tuple(choices([0, 1], k=n_loci))\n",
    "        object.__setattr__(self, \"_genotype\", genotype)\n",
    "        assert len(self._genotype) == self._n_loci, 'n_loci field and genotype length do not match'\n",
    "        object.__setattr__(self, \"_fitness_function\", fitness_function)\n",
    "        object.__setattr__(self, \"_fitness\", fitness_function(self.genotype))\n",
    "\n",
    "    @property\n",
    "    def n_loci(self):\n",
    "        return self._n_loci\n",
    "\n",
    "    @property\n",
    "    def genotype(self):\n",
    "        return self._genotype\n",
    "\n",
    "    @property\n",
    "    def fitness(self):\n",
    "        return self._fitness\n",
    "\n",
    "    @property\n",
    "    def fitness_function(self):\n",
    "        return self._fitness_function\n",
    "\n",
    "    def __str__(self):\n",
    "        return f'Individual(Zeros={self.genotype.count(0)}, Ones={self.genotype.count(1)})'\n",
    "\n",
    "    def __repr__(self) -> str:\n",
    "        return f\"{''.join(str(gene) for gene in self.genotype)}\""
   ]
  },
  {
   "cell_type": "code",
   "execution_count": 30,
   "metadata": {},
   "outputs": [],
   "source": [
    "def mutate_all(ind: Individual, *, prob: float) -> Individual:\n",
    "    fitness_function, n_loci, genotype = ind.fitness_function, ind.n_loci, list(ind.genotype)\n",
    "    genotype = [1 - gene if random() < prob else gene for gene in genotype]\n",
    "    return Individual(fitness_function, n_loci, tuple(genotype))\n",
    "\n",
    "\n",
    "def mutate(ind: Individual) -> Individual:\n",
    "    fitness_function, n_loci, genotype = ind.fitness_function, ind.n_loci, list(ind.genotype)\n",
    "    index = randint(0, n_loci - 1)\n",
    "    genotype[index] = 1 - genotype[index]\n",
    "    return Individual(fitness_function, n_loci, tuple(genotype))\n",
    "\n",
    "\n",
    "def uniform_crossover(ind1: \"Individual\", ind2: \"Individual\") -> \"Individual\":\n",
    "    fitness_function, n_loci = ind1.fitness_function, ind1.n_loci\n",
    "    randoms = [random() for _ in range(n_loci)]\n",
    "    genotype = [i if r < 0.5 else o for i, o, r in zip(ind1.genotype, ind2.genotype, randoms)]\n",
    "    assert len(genotype) == n_loci\n",
    "    return Individual(fitness_function, n_loci, tuple(genotype))\n",
    "\n",
    "\n",
    "def one_cut_crossover(ind1: \"Individual\", ind2: \"Individual\") -> \"Individual\":\n",
    "    fitness_function, n_loci = ind1.fitness_function, ind1.n_loci\n",
    "    index = randint(0, n_loci - 1)\n",
    "    offspring = Individual(fitness_function, n_loci, tuple(ind1.genotype[:index]) + tuple(ind2.genotype[index:]))\n",
    "    assert len(offspring.genotype) == n_loci\n",
    "    return offspring\n",
    "\n",
    "\n",
    "def select_parent(population: list[Individual], tournament_size: int):\n",
    "    pool = choices(population, k=tournament_size)\n",
    "    champ = max(pool, key=lambda ind: ind.fitness)\n",
    "    return champ"
   ]
  },
  {
   "cell_type": "markdown",
   "metadata": {},
   "source": [
    "## Problem Instance: 1"
   ]
  },
  {
   "cell_type": "code",
   "execution_count": 6,
   "metadata": {},
   "outputs": [],
   "source": [
    "PROBLEM_SIZE = 1\n",
    "LOCI = 1000\n",
    "POPULATION_SIZE = 30\n",
    "OFFSPRING_SIZE = 20\n",
    "TOURNAMENT_SIZE = 2\n",
    "MUTATION_PROBABILITY = 0.15\n",
    "GENERATIONS = 5000\n",
    "\n",
    "FITNESS_FUNCTION = lab9_lib.make_problem(PROBLEM_SIZE)"
   ]
  },
  {
   "cell_type": "code",
   "execution_count": 7,
   "metadata": {},
   "outputs": [
    {
     "data": {
      "application/vnd.jupyter.widget-view+json": {
       "model_id": "f3daa3343839471687d4a143f28148b7",
       "version_major": 2,
       "version_minor": 0
      },
      "text/plain": [
       "  0%|          | 0/5000 [00:00<?, ?it/s]"
      ]
     },
     "metadata": {},
     "output_type": "display_data"
    },
    {
     "name": "stdout",
     "output_type": "stream",
     "text": [
      "Best individual: Individual(Zeros=0, Ones=1000), fitness: 100.00%\n"
     ]
    }
   ],
   "source": [
    "population = [Individual(FITNESS_FUNCTION, LOCI) for _ in range(POPULATION_SIZE)]\n",
    "\n",
    "pbar = trange(GENERATIONS)\n",
    "for generation in pbar:\n",
    "    offspring = []\n",
    "    for _ in range(OFFSPRING_SIZE):\n",
    "        if random() < MUTATION_PROBABILITY:\n",
    "            parent = select_parent(population, TOURNAMENT_SIZE)\n",
    "            child = mutate(parent)\n",
    "        else:\n",
    "            parent1 = select_parent(population, TOURNAMENT_SIZE)\n",
    "            parent2 = select_parent(population, TOURNAMENT_SIZE)\n",
    "            child = one_cut_crossover(parent1, parent2)\n",
    "        offspring.append(child)\n",
    "\n",
    "    population.extend(offspring)\n",
    "    population.sort(key=lambda ind: ind.fitness, reverse=True)\n",
    "    population = population[:POPULATION_SIZE]\n",
    "    pbar.set_description(f'Best Fitness {population[0].fitness:.2%}')\n",
    "\n",
    "    if math.isclose(1, population[0].fitness):\n",
    "        break\n",
    "\n",
    "print(f\"Best individual: {population[0]}, fitness: {population[0].fitness:.2%}\")"
   ]
  },
  {
   "cell_type": "code",
   "execution_count": 8,
   "metadata": {},
   "outputs": [
    {
     "name": "stdout",
     "output_type": "stream",
     "text": [
      "Number of fitness calls: 48830\n"
     ]
    }
   ],
   "source": [
    "print(f'Number of fitness calls: {FITNESS_FUNCTION.calls}')"
   ]
  },
  {
   "cell_type": "markdown",
   "metadata": {},
   "source": [
    "## Problem Instance: 2"
   ]
  },
  {
   "cell_type": "code",
   "execution_count": 97,
   "metadata": {},
   "outputs": [],
   "source": [
    "PROBLEM_SIZE = 2\n",
    "LOCI = 1000\n",
    "POPULATION_SIZE = 50\n",
    "OFFSPRING_SIZE = 25\n",
    "TOURNAMENT_SIZE = 2\n",
    "CROSSOVER_MUTATION = 0.25\n",
    "GENERATIONS = 20000\n",
    "SURVIVORS_PERCENTAGE = 0.15\n",
    "STD = 0.0005\n",
    "\n",
    "FITNESS_FUNCTION = lab9_lib.make_problem(PROBLEM_SIZE)"
   ]
  },
  {
   "cell_type": "code",
   "execution_count": 98,
   "metadata": {},
   "outputs": [
    {
     "data": {
      "application/vnd.jupyter.widget-view+json": {
       "model_id": "e9bc4da0ecba4b048a3444072b022cda",
       "version_major": 2,
       "version_minor": 0
      },
      "text/plain": [
       "  0%|          | 0/20000 [00:00<?, ?it/s]"
      ]
     },
     "metadata": {},
     "output_type": "display_data"
    },
    {
     "name": "stdout",
     "output_type": "stream",
     "text": [
      "Best individual: Individual(Zeros=0, Ones=1000), fitness: 100.00%\n"
     ]
    }
   ],
   "source": [
    "population = [Individual(FITNESS_FUNCTION, LOCI) for _ in range(POPULATION_SIZE)]\n",
    "best_individual = max(population, key=lambda ind: ind.fitness)\n",
    "\n",
    "pbar = trange(GENERATIONS)\n",
    "for generation in pbar:\n",
    "    offspring = []\n",
    "\n",
    "    if np.std([ind.fitness for ind in population]) < STD:\n",
    "        population = choices(population, k=int(POPULATION_SIZE * SURVIVORS_PERCENTAGE))\n",
    "\n",
    "        for _ in range(int(POPULATION_SIZE * (1 - SURVIVORS_PERCENTAGE))):\n",
    "            offspring.append(Individual(FITNESS_FUNCTION, LOCI))\n",
    "    else:\n",
    "        for _ in range(OFFSPRING_SIZE):\n",
    "            if random() < CROSSOVER_MUTATION:\n",
    "                parent1 = select_parent(population, TOURNAMENT_SIZE)\n",
    "                parent2 = select_parent(population, TOURNAMENT_SIZE)\n",
    "                child = mutate(uniform_crossover(parent1, parent2))\n",
    "            else:\n",
    "                parent = select_parent(population, TOURNAMENT_SIZE)\n",
    "                child = mutate(parent)\n",
    "            offspring.append(child)\n",
    "\n",
    "    population.extend(offspring)\n",
    "    population.sort(key=lambda ind: ind.fitness, reverse=True)\n",
    "    population = population[:POPULATION_SIZE]\n",
    "    pbar.set_description(f'Best Fitness {population[0].fitness:.2%}')\n",
    "\n",
    "    if population[0].fitness > best_individual.fitness:\n",
    "        best_individual = population[0]\n",
    "\n",
    "    if math.isclose(1, population[0].fitness):\n",
    "        break\n",
    "\n",
    "print(f\"Best individual: {best_individual}, fitness: {best_individual.fitness:.2%}\")"
   ]
  },
  {
   "cell_type": "code",
   "execution_count": 99,
   "metadata": {},
   "outputs": [
    {
     "name": "stdout",
     "output_type": "stream",
     "text": [
      "Number of fitness calls: 419152\n"
     ]
    }
   ],
   "source": [
    "print(f'Number of fitness calls: {FITNESS_FUNCTION.calls}')"
   ]
  },
  {
   "cell_type": "markdown",
   "metadata": {},
   "source": [
    "## Problem Instance: 5"
   ]
  },
  {
   "cell_type": "code",
   "execution_count": 103,
   "metadata": {},
   "outputs": [],
   "source": [
    "PROBLEM_SIZE = 5\n",
    "LOCI = 1000\n",
    "POPULATION_SIZE = 50\n",
    "OFFSPRING_SIZE = 25\n",
    "TOURNAMENT_SIZE = 2\n",
    "CROSSOVER_MUTATION = 0.25\n",
    "GENERATIONS = 20000\n",
    "SURVIVORS_PERCENTAGE = 0.15\n",
    "STD = 0.0005\n",
    "\n",
    "FITNESS_FUNCTION = lab9_lib.make_problem(PROBLEM_SIZE)"
   ]
  },
  {
   "cell_type": "code",
   "execution_count": 104,
   "metadata": {},
   "outputs": [
    {
     "data": {
      "application/vnd.jupyter.widget-view+json": {
       "model_id": "e8e59394cfe749938f522840a1de198c",
       "version_major": 2,
       "version_minor": 0
      },
      "text/plain": [
       "  0%|          | 0/20000 [00:00<?, ?it/s]"
      ]
     },
     "metadata": {},
     "output_type": "display_data"
    },
    {
     "name": "stdout",
     "output_type": "stream",
     "text": [
      "Best individual: Individual(Zeros=475, Ones=525), fitness: 52.50%\n"
     ]
    }
   ],
   "source": [
    "population = [Individual(FITNESS_FUNCTION, LOCI) for _ in range(POPULATION_SIZE)]\n",
    "best_individual = max(population, key=lambda ind: ind.fitness)\n",
    "\n",
    "pbar = trange(GENERATIONS)\n",
    "for generation in pbar:\n",
    "    offspring = []\n",
    "\n",
    "    if np.std([ind.fitness for ind in population]) < STD:\n",
    "        population = choices(population, k=int(POPULATION_SIZE * SURVIVORS_PERCENTAGE))\n",
    "\n",
    "        for _ in range(int(POPULATION_SIZE * (1 - SURVIVORS_PERCENTAGE))):\n",
    "            offspring.append(Individual(FITNESS_FUNCTION, LOCI))\n",
    "    else:\n",
    "        for _ in range(OFFSPRING_SIZE):\n",
    "            if random() < CROSSOVER_MUTATION:\n",
    "                parent1 = select_parent(population, TOURNAMENT_SIZE)\n",
    "                parent2 = select_parent(population, TOURNAMENT_SIZE)\n",
    "                child = mutate(uniform_crossover(parent1, parent2))\n",
    "            else:\n",
    "                parent = select_parent(population, TOURNAMENT_SIZE)\n",
    "                child = mutate(parent)\n",
    "            offspring.append(child)\n",
    "\n",
    "    population.extend(offspring)\n",
    "    population.sort(key=lambda ind: ind.fitness, reverse=True)\n",
    "    population = population[:POPULATION_SIZE]\n",
    "    pbar.set_description(f'Best Fitness {population[0].fitness:.2%}')\n",
    "\n",
    "    if population[0].fitness > best_individual.fitness:\n",
    "        best_individual = population[0]\n",
    "\n",
    "    if math.isclose(1, population[0].fitness):\n",
    "        break\n",
    "\n",
    "print(f\"Best individual: {best_individual}, fitness: {best_individual.fitness:.2%}\")"
   ]
  },
  {
   "cell_type": "code",
   "execution_count": 105,
   "metadata": {},
   "outputs": [
    {
     "name": "stdout",
     "output_type": "stream",
     "text": [
      "Number of fitness calls: 625163\n"
     ]
    }
   ],
   "source": [
    "print(f'Number of fitness calls: {FITNESS_FUNCTION.calls}')"
   ]
  }
 ],
 "metadata": {
  "kernelspec": {
   "display_name": "ci-fLJ3OwGs-py3.12",
   "language": "python",
   "name": "python3"
  },
  "language_info": {
   "codemirror_mode": {
    "name": "ipython",
    "version": 3
   },
   "file_extension": ".py",
   "mimetype": "text/x-python",
   "name": "python",
   "nbconvert_exporter": "python",
   "pygments_lexer": "ipython3",
   "version": "3.12.0"
  }
 },
 "nbformat": 4,
 "nbformat_minor": 2
}
