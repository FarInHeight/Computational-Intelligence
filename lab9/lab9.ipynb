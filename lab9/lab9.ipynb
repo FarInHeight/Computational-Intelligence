{
 "cells": [
  {
   "cell_type": "markdown",
   "metadata": {},
   "source": [
    "# LAB9\n",
    "\n",
    "Write a local-search algorithm (eg. an EA) able to solve the *Problem* instances 1, 2, 5, and 10 on a 1000-loci genomes, using a minimum number of fitness calls. That's all.\n",
    "\n",
    "### Deadlines:\n",
    "\n",
    "* Submission: Sunday, December 3 ([CET](https://www.timeanddate.com/time/zones/cet))\n",
    "* Reviews: Sunday, December 10 ([CET](https://www.timeanddate.com/time/zones/cet))\n",
    "\n",
    "Notes:\n",
    "\n",
    "* Reviews will be assigned  on Monday, December 4\n",
    "* You need to commit in order to be selected as a reviewer (ie. better to commit an empty work than not to commit)"
   ]
  },
  {
   "cell_type": "code",
   "execution_count": 1,
   "metadata": {},
   "outputs": [],
   "source": [
    "from __future__ import annotations\n",
    "\n",
    "from random import choices, randint, random, shuffle\n",
    "from dataclasses import dataclass\n",
    "from typing import Callable\n",
    "from tqdm import trange\n",
    "import numpy as np\n",
    "import math\n",
    "import matplotlib.pyplot as plt\n",
    "from matplotlib.ticker import MaxNLocator\n",
    "from itertools import combinations\n",
    "\n",
    "import lab9_lib\n",
    "from lab9_lib import AbstractProblem"
   ]
  },
  {
   "cell_type": "code",
   "execution_count": 2,
   "metadata": {},
   "outputs": [],
   "source": [
    "@dataclass(frozen=True, init=False)\n",
    "class Individual:\n",
    "    \"\"\"\n",
    "    Class representing an Individual.\n",
    "    \"\"\"\n",
    "\n",
    "    _n_loci: int\n",
    "    _genotype: tuple[int]\n",
    "    _fitness: float\n",
    "    _fitness_function: Callable[[Individual], float]\n",
    "\n",
    "    def __init__(self, fitness_function: \"AbstractProblem\", n_loci: int, genotype: tuple[int] = None) -> None:\n",
    "        \"\"\"\n",
    "        Constructs an individual with a certain number of loci.\n",
    "        If the genotype is None, it is created randomly.\n",
    "\n",
    "        Args:\n",
    "            fitness_function: the fitness function used to compute the fitness of the individual;\n",
    "            n_loci: the number of loci of the individual;\n",
    "            genotype: the genotype of the individual (default is None).\n",
    "\n",
    "        Returns:\n",
    "            None.\n",
    "        \"\"\"\n",
    "        object.__setattr__(self, \"_n_loci\", n_loci)\n",
    "        if genotype is None:\n",
    "            genotype = tuple(choices([0, 1], k=n_loci))\n",
    "        object.__setattr__(self, \"_genotype\", genotype)\n",
    "        assert len(self._genotype) == self._n_loci, 'n_loci field and genotype length do not match'\n",
    "        object.__setattr__(self, \"_fitness_function\", fitness_function)\n",
    "        object.__setattr__(self, \"_fitness\", fitness_function(self.genotype))\n",
    "\n",
    "    @property\n",
    "    def n_loci(self) -> int:\n",
    "        return self._n_loci\n",
    "\n",
    "    @property\n",
    "    def genotype(self) -> tuple[int]:\n",
    "        return self._genotype\n",
    "\n",
    "    @property\n",
    "    def fitness(self) -> float:\n",
    "        return self._fitness\n",
    "\n",
    "    @property\n",
    "    def fitness_function(self) -> Callable[[Individual], float]:\n",
    "        return self._fitness_function\n",
    "\n",
    "    def __str__(self) -> str:\n",
    "        return f'Individual(Zeros={self.genotype.count(0)}, Ones={self.genotype.count(1)})'\n",
    "\n",
    "    def __repr__(self) -> str:\n",
    "        return f\"{''.join(str(gene) for gene in self.genotype)}\""
   ]
  },
  {
   "cell_type": "code",
   "execution_count": 3,
   "metadata": {},
   "outputs": [],
   "source": [
    "def mutate(ind: Individual) -> Individual:\n",
    "    \"\"\"\n",
    "    Change a gene in a randomly chosen locus.\n",
    "\n",
    "    Args:\n",
    "        ind: the individual to mutate.\n",
    "\n",
    "    Returns:\n",
    "        New individual with the mutated gene.\n",
    "    \"\"\"\n",
    "    fitness_function, n_loci, genotype = ind.fitness_function, ind.n_loci, list(ind.genotype)\n",
    "    index = randint(0, n_loci - 1)\n",
    "    genotype[index] = 1 - genotype[index]\n",
    "    return Individual(fitness_function, n_loci, tuple(genotype))\n",
    "\n",
    "\n",
    "def mutate_all(ind: Individual, *, prob: float) -> Individual:\n",
    "    \"\"\"\n",
    "    Change each gene of an individual with a given probability.\n",
    "\n",
    "    Args:\n",
    "        ind: the individual to mutate.\n",
    "        prob: gene mutation probability.\n",
    "\n",
    "    Returns:\n",
    "        New individual with the mutated genes.\n",
    "    \"\"\"\n",
    "    fitness_function, n_loci, genotype = ind.fitness_function, ind.n_loci, list(ind.genotype)\n",
    "    genotype = [1 - gene if random() < prob else gene for gene in genotype]\n",
    "    return Individual(fitness_function, n_loci, tuple(genotype))\n",
    "\n",
    "\n",
    "def uniform_crossover(ind1: Individual, ind2: Individual) -> Individual:\n",
    "    \"\"\"\n",
    "    Perform the crossover between two individuals by randomly selecting\n",
    "    a gene from a parent for each locus.\n",
    "\n",
    "    Args:\n",
    "        ind1: first parent;\n",
    "        ind2: second parent.\n",
    "\n",
    "    Returns:\n",
    "        The newborn individual is returned.\n",
    "    \"\"\"\n",
    "    fitness_function, n_loci = ind1.fitness_function, ind1.n_loci\n",
    "    randoms = [random() for _ in range(n_loci)]\n",
    "    genotype = [i if r < 0.5 else o for i, o, r in zip(ind1.genotype, ind2.genotype, randoms)]\n",
    "    assert len(genotype) == n_loci\n",
    "    return Individual(fitness_function, n_loci, tuple(genotype))\n",
    "\n",
    "\n",
    "def one_cut_crossover(ind1: Individual, ind2: Individual) -> Individual:\n",
    "    \"\"\"\n",
    "    Perform the crossover between two individuals by swapping two random\n",
    "    genome parts from the parents.\n",
    "\n",
    "    Args:\n",
    "        ind1: first parent;\n",
    "        ind2: second parent.\n",
    "\n",
    "    Returns:\n",
    "        The newborn individual is returned.\n",
    "    \"\"\"\n",
    "    fitness_function, n_loci = ind1.fitness_function, ind1.n_loci\n",
    "    index = randint(0, n_loci - 1)\n",
    "    offspring = Individual(fitness_function, n_loci, tuple(ind1.genotype[:index]) + tuple(ind2.genotype[index:]))\n",
    "    assert len(offspring.genotype) == n_loci\n",
    "    return offspring\n",
    "\n",
    "\n",
    "def select_parent(population: list[Individual], tournament_size: int) -> Individual:\n",
    "    \"\"\"\n",
    "    Select a parent by performing a tournament selection.\n",
    "\n",
    "    Args:\n",
    "        population: population from which we draw individuals to form the tournament;\n",
    "        tournament_size: the tournament size.\n",
    "\n",
    "    Returns:\n",
    "        The tournament winner is returned.\n",
    "    \"\"\"\n",
    "    pool = choices(population, k=tournament_size)\n",
    "    champ = max(pool, key=lambda ind: ind.fitness)\n",
    "    return champ\n",
    "\n",
    "\n",
    "def create_population(fitness_function: \"AbstractProblem\", n_loci: int, population_size: int) -> list[Individual]:\n",
    "    \"\"\"\n",
    "    Create a random population of a given size.\n",
    "\n",
    "    Args:\n",
    "        fitness_function: the fitness function used to compute the fitness of the individual;\n",
    "        n_loci: the number of loci of the individual;\n",
    "        population_size: the size of the population.\n",
    "\n",
    "    Returns:\n",
    "        A newly created population is returned.\n",
    "    \"\"\"\n",
    "    return [Individual(fitness_function, n_loci) for _ in range(population_size)]\n",
    "\n",
    "\n",
    "def update_population(\n",
    "    population: list[Individual], offspring: list[Individual], population_size: int\n",
    ") -> list[Individual]:\n",
    "    \"\"\"\n",
    "    Given a population and its offspring, this function returns the population\n",
    "    of the next generation by selecting the fittest individuals.\n",
    "\n",
    "    Args:\n",
    "        population: the current population;\n",
    "        offspring: the offspring of the current population;\n",
    "        population_size: the size of the population.\n",
    "\n",
    "    Returns:\n",
    "        The population of the next generation is returned.\n",
    "    \"\"\"\n",
    "    population.extend(offspring)\n",
    "    population.sort(key=lambda ind: ind.fitness, reverse=True)\n",
    "    population = population[:population_size]\n",
    "    return population\n",
    "\n",
    "\n",
    "def find_best_individual(population: list[Individual]) -> Individual:\n",
    "    \"\"\"\n",
    "    Find the fittest individual in a population.\n",
    "\n",
    "    Args:\n",
    "        population: the current population.\n",
    "\n",
    "    Returns:\n",
    "        The fittest individual is returned.\n",
    "    \"\"\"\n",
    "    return max(population, key=lambda ind: ind.fitness)\n",
    "\n",
    "\n",
    "def choose_migrants(population: list[Individual], n: int, random: bool) -> tuple[list[Individual], list[Individual]]:\n",
    "    \"\"\"\n",
    "    Choose random or fittest migrants of a given population.\n",
    "\n",
    "    Args:\n",
    "        population: the current population;\n",
    "        n: the number of migrants;\n",
    "        random: choose whether the migrants are randomly drawn or they are the fittest individuals.\n",
    "\n",
    "    Returns:\n",
    "        The migrants and the remaining population are returned.\n",
    "    \"\"\"\n",
    "    if random:\n",
    "        shuffle(population)\n",
    "    else:\n",
    "        population.sort(key=lambda ind: ind.fitness, reverse=True)\n",
    "    migrants = population[:n]\n",
    "    population = population[n:]\n",
    "    return migrants, population\n",
    "\n",
    "\n",
    "def extinction_by_fitness(\n",
    "    population: list[Individual],\n",
    "    std: float,\n",
    "    population_size: int,\n",
    "    survivors_percentage: float,\n",
    "    fitness_function: \"AbstractProblem\",\n",
    "    n_loci: int,\n",
    ") -> tuple[list[Individual], list[Individual] | None]:\n",
    "    \"\"\"\n",
    "    Perform an extinction if the standard deviation of the population's fitnesses is below\n",
    "    a certain threshold. Otherwise, return the population itself.\n",
    "    If an extinction is performed, the survivors and the newly created population are returned.\n",
    "    The extinction is performed by randomly selecting the survivors.\n",
    "\n",
    "    Args:\n",
    "        population: the current population;\n",
    "        std: the standard deviation threshold below which extinction is performed;\n",
    "        population_size: the size of the population;\n",
    "        survivors_percentage: the percentage of survivors after the extinction;\n",
    "        fitness_function: the fitness function used to compute the fitness of the individual;\n",
    "        n_loci: the number of loci of the individual.\n",
    "\n",
    "    Returns:\n",
    "        The survivors and the newly created population are returned or\n",
    "        the population itself is returned.\n",
    "    \"\"\"\n",
    "    if np.std([ind.fitness for ind in population]) < std:\n",
    "        population = choices(population, k=math.ceil(population_size * survivors_percentage))\n",
    "        offspring = create_population(\n",
    "            fitness_function, n_loci, math.floor(population_size * (1 - survivors_percentage))\n",
    "        )\n",
    "        return population, offspring\n",
    "    return population, None\n",
    "\n",
    "\n",
    "def edit_distance(ind1: Individual, ind2: Individual) -> Individual:\n",
    "    \"\"\"\n",
    "    Compute the edit distance between two individuals.\n",
    "\n",
    "    Args:\n",
    "        ind1: first individual;\n",
    "        ind2: second individual.\n",
    "\n",
    "    Returns:\n",
    "        The edit distance is returned.\n",
    "    \"\"\"\n",
    "    dist = sum([e1 ^ e2 for e1, e2 in zip(ind1.genotype, ind2.genotype)])\n",
    "    return dist\n",
    "\n",
    "\n",
    "def extinction_by_similarity(\n",
    "    population: list[Individual],\n",
    "    std: float,\n",
    "    population_size: int,\n",
    "    survivors_percentage: float,\n",
    "    fitness_function: \"AbstractProblem\",\n",
    "    n_loci: int,\n",
    ") -> list[Individual]:\n",
    "    \"\"\"\n",
    "    Perform an extinction if the standard deviation of the population's fitnesses is below\n",
    "    a certain threshold. Otherwise, return the population itself.\n",
    "    If an extinction is performed, the survivors and the newly created population are returned.\n",
    "    The extinction is performed by selecting as survivors the most distant individuals according to\n",
    "    the edit distance.\n",
    "\n",
    "    Args:\n",
    "        population: the current population;\n",
    "        std: the standard deviation threshold below which extinction is performed;\n",
    "        population_size: the size of the population;\n",
    "        survivors_percentage: the percentage of survivors after the extinction;\n",
    "        fitness_function: the fitness function used to compute the fitness of the individual;\n",
    "        n_loci: the number of loci of the individual.\n",
    "\n",
    "    Returns:\n",
    "        The survivors and the newly created population are returned or\n",
    "        the population itself is returned.\n",
    "    \"\"\"\n",
    "    if np.std([ind.fitness for ind in population]) < std:\n",
    "        tot_distances = [sum([edit_distance(ind, population[i]) for i in range(population_size)]) for ind in population]\n",
    "        indexes = np.argsort(tot_distances)[: math.floor(population_size * (1 - survivors_percentage))]\n",
    "        population = [population[i] for i in range(population_size) if i not in indexes]\n",
    "        offspring = create_population(\n",
    "            fitness_function, n_loci, math.floor(population_size * (1 - survivors_percentage))\n",
    "        )\n",
    "        return population, offspring\n",
    "    return population, None\n",
    "\n",
    "\n",
    "def alter_most_promising_individuals(population: list[Individual], n: int, prob: float) -> list[Individual]:\n",
    "    \"\"\"\n",
    "    Mutate the most promising individuals using the mutate_all function.\n",
    "\n",
    "    Args:\n",
    "        population: the current population;\n",
    "        n: how many promising individuals to mutate;\n",
    "        prob: gene mutation probability (mutate_all parameter).\n",
    "\n",
    "    Returns:\n",
    "        The population after the alteration is returned.\n",
    "    \"\"\"\n",
    "    population.sort(key=lambda ind: ind.fitness, reverse=True)\n",
    "    for i in range(n):\n",
    "        population[i] = mutate_all(population[i], prob=prob)\n",
    "    return population\n",
    "\n",
    "\n",
    "def plot_fitnesses_by_generations(islands: list[list[Individual]], n_islands: int) -> None:\n",
    "    \"\"\"\n",
    "    Plot the best fitnesses of each island.\n",
    "\n",
    "    Args:\n",
    "        islands: the islands of populations;\n",
    "        n_islands: the number of islands.\n",
    "\n",
    "    Returns:\n",
    "        None.\n",
    "    \"\"\"\n",
    "    hex_values = \"0123456789ABCDEF\"\n",
    "    colors = [\"#\" + ''.join(choices(hex_values, k=6)) for _ in range(n_islands)]\n",
    "    for i, fitnesses in enumerate(islands):\n",
    "        plt.plot(fitnesses, label='island' + str(i + 1), color=colors[i])\n",
    "    plt.gca().xaxis.set_major_locator(MaxNLocator(integer=True))\n",
    "    plt.title(\"Best Fitness Values\")\n",
    "    plt.xlabel(\"Generations\")\n",
    "    plt.ylabel(\"Fitness Values\")\n",
    "    plt.legend()\n",
    "    plt.show()"
   ]
  },
  {
   "cell_type": "markdown",
   "metadata": {},
   "source": [
    "# Explanation of hyperparameters\n",
    "* `PROBLEM_SIZE`: select the problem istance;\n",
    "* `LOCI`: fix the number of loci of a genome;\n",
    "* `POPULATION_SIZE`: set the number of individuals in a population;\n",
    "* `OFFSPRING_SIZE`: select how many new individuals to produce in each generation;\n",
    "* `TOURNAMENT_SIZE`: set the size of the tournament selection;\n",
    "* `MUTATION_PROBABILITY`: probability of doing mutation instead of crossover;\n",
    "* `CROSSOVER_MUTATION`: probability of doing crossover + mutation instead of mutation only;\n",
    "* `GENERATIONS`: number of generations to run each algorithm;\n",
    "* `FITNESS_FUNCTION`: set the fitness function to evaluate how good an individual is;\n",
    "* `SURVIVORS_PERCENTAGE`: set the percentage of survivors after an extinction;\n",
    "* `STD`: set the standard deviation threshold below which an **extinction** is performed;\n",
    "* `NUMBER_ALTERED_PROMISING_POINTS`: how many promising individuals to mutate for the **sequential niching method**;\n",
    "* `PROB`: set gene mutation probability;\n",
    "* `NUMBER_OF_ISLANDS`: select how many islands to use for the **island model**;\n",
    "* `MIGRATION_TIME`: set the number of generations after which the migration is performed;\n",
    "* `NUMBER_OF_MIGRANTS`: select the number of individuals to migrate."
   ]
  },
  {
   "cell_type": "markdown",
   "metadata": {},
   "source": [
    "## Problem Instance: 1\n",
    "* **_crossover_**\n",
    "* **_mutation_**\n",
    "* **_tournament selection_**\n",
    "\n",
    "To solve instance 1, I just implemented a simple GA algorithm using `one_cut_crossover` as the crossover operation. \\\n",
    "In this case, mutation and crossover are exclusive, i.e. if I perform a crossover, I do not perform a mutation, and vice versa. \\\n",
    "The values for the hyperparameters are given below:"
   ]
  },
  {
   "cell_type": "code",
   "execution_count": 46,
   "metadata": {},
   "outputs": [],
   "source": [
    "PROBLEM_SIZE = 1\n",
    "LOCI = 1000\n",
    "POPULATION_SIZE = 30\n",
    "OFFSPRING_SIZE = 20\n",
    "TOURNAMENT_SIZE = 2\n",
    "MUTATION_PROBABILITY = 0.80\n",
    "GENERATIONS = 5_000\n",
    "\n",
    "FITNESS_FUNCTION = lab9_lib.make_problem(PROBLEM_SIZE)"
   ]
  },
  {
   "cell_type": "code",
   "execution_count": 47,
   "metadata": {},
   "outputs": [
    {
     "name": "stderr",
     "output_type": "stream",
     "text": [
      "Best Fitness 100.00%:  25%|██▍       | 1235/5000 [00:01<00:06, 627.19it/s]\n"
     ]
    },
    {
     "name": "stdout",
     "output_type": "stream",
     "text": [
      "Best individual: Individual(Zeros=0, Ones=1000), fitness: 100.00%\n"
     ]
    }
   ],
   "source": [
    "population = create_population(FITNESS_FUNCTION, LOCI, POPULATION_SIZE)\n",
    "generation_best_fitnesses = [find_best_individual(population).fitness]\n",
    "\n",
    "pbar = trange(GENERATIONS)\n",
    "for generation in pbar:\n",
    "    offspring = []\n",
    "    for _ in range(OFFSPRING_SIZE):\n",
    "        if random() < MUTATION_PROBABILITY:\n",
    "            parent = select_parent(population, TOURNAMENT_SIZE)\n",
    "            child = mutate(parent)\n",
    "        else:\n",
    "            parent1 = select_parent(population, TOURNAMENT_SIZE)\n",
    "            parent2 = select_parent(population, TOURNAMENT_SIZE)\n",
    "            child = one_cut_crossover(parent1, parent2)\n",
    "        offspring.append(child)\n",
    "\n",
    "    population = update_population(population, offspring, POPULATION_SIZE)\n",
    "    generation_best_fitnesses.append(population[0].fitness)\n",
    "    pbar.set_description(f'Best Fitness {population[0].fitness:.2%}')\n",
    "\n",
    "    if math.isclose(1, population[0].fitness):\n",
    "        break\n",
    "\n",
    "print(f\"Best individual: {population[0]}, fitness: {population[0].fitness:.2%}\")"
   ]
  },
  {
   "cell_type": "code",
   "execution_count": 48,
   "metadata": {},
   "outputs": [
    {
     "name": "stdout",
     "output_type": "stream",
     "text": [
      "Number of fitness calls: 24,750\n"
     ]
    }
   ],
   "source": [
    "print(f'Number of fitness calls: {FITNESS_FUNCTION.calls:,}')"
   ]
  },
  {
   "cell_type": "code",
   "execution_count": 55,
   "metadata": {},
   "outputs": [
    {
     "data": {
      "image/png": "[encoded data removed]",
      "text/plain": [
       "<Figure size 640x480 with 1 Axes>"
      ]
     },
     "metadata": {},
     "output_type": "display_data"
    }
   ],
   "source": [
    "plot_fitnesses_by_generations([generation_best_fitnesses], 1)"
   ]
  },
  {
   "cell_type": "markdown",
   "metadata": {},
   "source": [
    "## Problem Instance: 2\n",
    "* **_crossover_**\n",
    "* **_mutation_**\n",
    "* **_tournament selection_**\n",
    "* **_extinction_**\n",
    "\n",
    "To solve problem instance 2, I chose to promote diversity through _extinction_, based on the idea that in the case of convergence of fitness in the population, it is better to replace random individuals of the current population with new ones. \\\n",
    "With respect to problem instance 1, the mutation is always performed here, as I noticed a big performance gain with this change, and I also used `uniform_crossover` as the crossover operation. \\\n",
    "The values for the hyperparameters are given below:"
   ]
  },
  {
   "cell_type": "code",
   "execution_count": 58,
   "metadata": {},
   "outputs": [],
   "source": [
    "PROBLEM_SIZE = 2\n",
    "LOCI = 1000\n",
    "POPULATION_SIZE = 50\n",
    "OFFSPRING_SIZE = 25\n",
    "TOURNAMENT_SIZE = 2\n",
    "CROSSOVER_MUTATION = 0.35\n",
    "GENERATIONS = 20_000\n",
    "SURVIVORS_PERCENTAGE = 0.15\n",
    "STD = 0.0005\n",
    "\n",
    "FITNESS_FUNCTION = lab9_lib.make_problem(PROBLEM_SIZE)"
   ]
  },
  {
   "cell_type": "code",
   "execution_count": 59,
   "metadata": {},
   "outputs": [
    {
     "name": "stderr",
     "output_type": "stream",
     "text": [
      "Best Fitness 100.00%:  52%|█████▏    | 10430/20000 [00:34<00:31, 303.06it/s]"
     ]
    },
    {
     "name": "stdout",
     "output_type": "stream",
     "text": [
      "Best individual: Individual(Zeros=0, Ones=1000), fitness: 100.00%\n"
     ]
    },
    {
     "name": "stderr",
     "output_type": "stream",
     "text": [
      "\n"
     ]
    }
   ],
   "source": [
    "population = create_population(FITNESS_FUNCTION, LOCI, POPULATION_SIZE)\n",
    "best_individual = find_best_individual(population)\n",
    "generation_best_fitnesses = [best_individual.fitness]\n",
    "\n",
    "pbar = trange(GENERATIONS)\n",
    "for generation in pbar:\n",
    "    # extinction\n",
    "    population, offspring = extinction_by_fitness(\n",
    "        population, STD, POPULATION_SIZE, SURVIVORS_PERCENTAGE, FITNESS_FUNCTION, LOCI\n",
    "    )\n",
    "\n",
    "    if offspring is None:\n",
    "        offspring = []\n",
    "        for _ in range(OFFSPRING_SIZE):\n",
    "            if random() < CROSSOVER_MUTATION:\n",
    "                parent1 = select_parent(population, TOURNAMENT_SIZE)\n",
    "                parent2 = select_parent(population, TOURNAMENT_SIZE)\n",
    "                child = mutate(uniform_crossover(parent1, parent2))\n",
    "            else:\n",
    "                parent = select_parent(population, TOURNAMENT_SIZE)\n",
    "                child = mutate(parent)\n",
    "            offspring.append(child)\n",
    "\n",
    "    population = update_population(population, offspring, POPULATION_SIZE)\n",
    "    generation_best_fitnesses.append(population[0].fitness)\n",
    "    pbar.set_description(f'Best Fitness {population[0].fitness:.2%}')\n",
    "\n",
    "    if population[0].fitness > best_individual.fitness:\n",
    "        best_individual = population[0]\n",
    "\n",
    "    if math.isclose(1, population[0].fitness):\n",
    "        break\n",
    "\n",
    "print(f\"Best individual: {best_individual}, fitness: {best_individual.fitness:.2%}\")"
   ]
  },
  {
   "cell_type": "code",
   "execution_count": 60,
   "metadata": {},
   "outputs": [
    {
     "name": "stdout",
     "output_type": "stream",
     "text": [
      "Number of fitness calls: 352,316\n"
     ]
    }
   ],
   "source": [
    "print(f'Number of fitness calls: {FITNESS_FUNCTION.calls:,}')"
   ]
  },
  {
   "cell_type": "code",
   "execution_count": 61,
   "metadata": {},
   "outputs": [
    {
     "data": {
      "image/png": "[encoded data removed]",
      "text/plain": [
       "<Figure size 640x480 with 1 Axes>"
      ]
     },
     "metadata": {},
     "output_type": "display_data"
    }
   ],
   "source": [
    "plot_fitnesses_by_generations([generation_best_fitnesses], 1)"
   ]
  },
  {
   "cell_type": "markdown",
   "metadata": {},
   "source": [
    "## Problem Instance: 5\n",
    "\n",
    "I did not manage to solve this problem instance 😔."
   ]
  },
  {
   "cell_type": "markdown",
   "metadata": {},
   "source": [
    "### First attempt\n",
    "* **_crossover_**\n",
    "* **_mutation_**\n",
    "* **_tournament selection_**\n",
    "* **_extinction_**\n",
    "\n",
    "As a first attempt, I tried to use the same setting of problem instance 2, but with different hyperparameters."
   ]
  },
  {
   "cell_type": "code",
   "execution_count": 39,
   "metadata": {},
   "outputs": [],
   "source": [
    "PROBLEM_SIZE = 5\n",
    "LOCI = 1000\n",
    "POPULATION_SIZE = 100\n",
    "OFFSPRING_SIZE = 50\n",
    "TOURNAMENT_SIZE = 5\n",
    "CROSSOVER_MUTATION = 0.35\n",
    "GENERATIONS = 30_000\n",
    "SURVIVORS_PERCENTAGE = 0.05\n",
    "STD = 0.0005\n",
    "\n",
    "FITNESS_FUNCTION = lab9_lib.make_problem(PROBLEM_SIZE)"
   ]
  },
  {
   "cell_type": "code",
   "execution_count": 40,
   "metadata": {},
   "outputs": [
    {
     "name": "stderr",
     "output_type": "stream",
     "text": [
      "Best Fitness 80.00%: 100%|██████████| 30000/30000 [03:09<00:00, 158.41it/s]"
     ]
    },
    {
     "name": "stdout",
     "output_type": "stream",
     "text": [
      "Best individual: Individual(Zeros=200, Ones=800), fitness: 80.00%\n"
     ]
    },
    {
     "name": "stderr",
     "output_type": "stream",
     "text": [
      "\n"
     ]
    }
   ],
   "source": [
    "population = create_population(FITNESS_FUNCTION, LOCI, POPULATION_SIZE)\n",
    "best_individual = find_best_individual(population)\n",
    "generation_best_fitnesses = [best_individual.fitness]\n",
    "\n",
    "pbar = trange(GENERATIONS)\n",
    "for generation in pbar:\n",
    "    # extinction\n",
    "    population, offspring = extinction_by_fitness(\n",
    "        population, STD, POPULATION_SIZE, SURVIVORS_PERCENTAGE, FITNESS_FUNCTION, LOCI\n",
    "    )\n",
    "\n",
    "    if offspring is None:\n",
    "        offspring = []\n",
    "        for _ in range(OFFSPRING_SIZE):\n",
    "            if random() < CROSSOVER_MUTATION:\n",
    "                parent1 = select_parent(population, TOURNAMENT_SIZE)\n",
    "                parent2 = select_parent(population, TOURNAMENT_SIZE)\n",
    "                child = mutate(uniform_crossover(parent1, parent2))\n",
    "            else:\n",
    "                parent = select_parent(population, TOURNAMENT_SIZE)\n",
    "                child = mutate(parent)\n",
    "            offspring.append(child)\n",
    "\n",
    "    population = update_population(population, offspring, POPULATION_SIZE)\n",
    "    generation_best_fitnesses.append(population[0].fitness)\n",
    "    pbar.set_description(f'Best Fitness {population[0].fitness:.2%}')\n",
    "\n",
    "    if population[0].fitness > best_individual.fitness:\n",
    "        best_individual = population[0]\n",
    "\n",
    "    if math.isclose(1, population[0].fitness):\n",
    "        break\n",
    "\n",
    "print(f\"Best individual: {best_individual}, fitness: {best_individual.fitness:.2%}\")"
   ]
  },
  {
   "cell_type": "code",
   "execution_count": 41,
   "metadata": {},
   "outputs": [
    {
     "name": "stdout",
     "output_type": "stream",
     "text": [
      "Number of fitness calls: 2,025,726\n"
     ]
    }
   ],
   "source": [
    "print(f'Number of fitness calls: {FITNESS_FUNCTION.calls:,}')"
   ]
  },
  {
   "cell_type": "code",
   "execution_count": 42,
   "metadata": {},
   "outputs": [
    {
     "data": {
      "image/png": "[encoded data removed]",
      "text/plain": [
       "<Figure size 640x480 with 1 Axes>"
      ]
     },
     "metadata": {},
     "output_type": "display_data"
    }
   ],
   "source": [
    "plot_fitnesses_by_generations([generation_best_fitnesses], 1)"
   ]
  },
  {
   "cell_type": "markdown",
   "metadata": {},
   "source": [
    "### Second attempt\n",
    "* **_crossover_**\n",
    "* **_mutation_**\n",
    "* **_tournament selection_**\n",
    "* **_extinction_**\n",
    "* **_sequential niching_**\n",
    "\n",
    "I further tried to promote diversity by implementing a _sequential niching_ strategy, where the fittest individuals in each generation are randomly altered to become less interesting. \\\n",
    "I noticed an improvement, although I was not able to reach the maximum fitness value.\n",
    "\n",
    "Here I also used _extiction_ in the case of fitness convergence in the population, but instead of randomly killing individuals, I chose to sacrifice the most similar individuals based on the `edit_distance` of the genotypes."
   ]
  },
  {
   "cell_type": "code",
   "execution_count": 53,
   "metadata": {},
   "outputs": [],
   "source": [
    "PROBLEM_SIZE = 5\n",
    "LOCI = 1000\n",
    "POPULATION_SIZE = 100\n",
    "OFFSPRING_SIZE = 50\n",
    "TOURNAMENT_SIZE = 5\n",
    "CROSSOVER_MUTATION = 0.35\n",
    "GENERATIONS = 30_000\n",
    "SURVIVORS_PERCENTAGE = 0.25\n",
    "STD = 0.001\n",
    "NUMBER_ALTERED_PROMISING_POINTS = 5\n",
    "PROB = 0.05\n",
    "\n",
    "FITNESS_FUNCTION = lab9_lib.make_problem(PROBLEM_SIZE)"
   ]
  },
  {
   "cell_type": "code",
   "execution_count": 54,
   "metadata": {},
   "outputs": [
    {
     "name": "stderr",
     "output_type": "stream",
     "text": [
      "  0%|          | 0/30000 [00:00<?, ?it/s]"
     ]
    },
    {
     "name": "stderr",
     "output_type": "stream",
     "text": [
      "Best Fitness 83.50%: 100%|██████████| 30000/30000 [03:51<00:00, 129.68it/s]"
     ]
    },
    {
     "name": "stdout",
     "output_type": "stream",
     "text": [
      "Best individual: Individual(Zeros=165, Ones=835), fitness: 83.50%\n"
     ]
    },
    {
     "name": "stderr",
     "output_type": "stream",
     "text": [
      "\n"
     ]
    }
   ],
   "source": [
    "population = create_population(FITNESS_FUNCTION, LOCI, POPULATION_SIZE)\n",
    "best_individual = find_best_individual(population)\n",
    "generation_best_fitnesses = [best_individual.fitness]\n",
    "\n",
    "pbar = trange(GENERATIONS)\n",
    "for generation in pbar:\n",
    "    # extinction\n",
    "    population, offspring = extinction_by_similarity(\n",
    "        population, STD, POPULATION_SIZE, SURVIVORS_PERCENTAGE, FITNESS_FUNCTION, LOCI\n",
    "    )\n",
    "\n",
    "    if offspring is None:\n",
    "        offspring = []\n",
    "        for _ in range(OFFSPRING_SIZE):\n",
    "            if random() < CROSSOVER_MUTATION:\n",
    "                parent1 = select_parent(population, TOURNAMENT_SIZE)\n",
    "                parent2 = select_parent(population, TOURNAMENT_SIZE)\n",
    "                child = mutate(uniform_crossover(parent1, parent2))\n",
    "            else:\n",
    "                parent = select_parent(population, TOURNAMENT_SIZE)\n",
    "                child = mutate(parent)\n",
    "            offspring.append(child)\n",
    "\n",
    "    population = update_population(population, offspring, POPULATION_SIZE)\n",
    "    generation_best_fitnesses.append(population[0].fitness)\n",
    "    pbar.set_description(f'Best Fitness {population[0].fitness:.2%}')\n",
    "\n",
    "    if population[0].fitness > best_individual.fitness:\n",
    "        best_individual = population[0]\n",
    "\n",
    "    if math.isclose(1, population[0].fitness):\n",
    "        break\n",
    "\n",
    "    # sequential niching\n",
    "    population = alter_most_promising_individuals(population, NUMBER_ALTERED_PROMISING_POINTS, PROB)\n",
    "\n",
    "print(f\"Best individual: {best_individual}, fitness: {best_individual.fitness:.2%}\")"
   ]
  },
  {
   "cell_type": "code",
   "execution_count": 58,
   "metadata": {},
   "outputs": [
    {
     "name": "stdout",
     "output_type": "stream",
     "text": [
      "Number of fitness calls: 2,174,904\n"
     ]
    }
   ],
   "source": [
    "print(f'Number of fitness calls: {FITNESS_FUNCTION.calls:,}')"
   ]
  },
  {
   "cell_type": "code",
   "execution_count": 57,
   "metadata": {},
   "outputs": [
    {
     "data": {
      "image/png": "[encoded data removed]",
      "text/plain": [
       "<Figure size 640x480 with 1 Axes>"
      ]
     },
     "metadata": {},
     "output_type": "display_data"
    }
   ],
   "source": [
    "plot_fitnesses_by_generations([generation_best_fitnesses], 1)"
   ]
  },
  {
   "cell_type": "markdown",
   "metadata": {},
   "source": [
    "## Problem Instance: 10"
   ]
  },
  {
   "cell_type": "markdown",
   "metadata": {},
   "source": [
    "### First attempt\n",
    "* **_crossover_**\n",
    "* **_mutation_**\n",
    "* **_tournament selection_**\n",
    "* **_extinction_**\n",
    "* **_island model_**\n",
    "\n",
    "To try to solve this difficult problem, I decided to implement an _island model_ by performing periodic migration of individuals only between predefined pairs of islands. \\\n",
    "The typical number of migrants is between 2 and 5. Here I used half the population because this gave me the best result.\n",
    "\n",
    "I also tried to increase the number of islands to 250, which should give better results, but I was unable to complete this trial due to limited computing resources."
   ]
  },
  {
   "cell_type": "code",
   "execution_count": 46,
   "metadata": {},
   "outputs": [],
   "source": [
    "PROBLEM_SIZE = 10\n",
    "LOCI = 1000\n",
    "POPULATION_SIZE = 50\n",
    "OFFSPRING_SIZE = 25\n",
    "TOURNAMENT_SIZE = 2\n",
    "CROSSOVER_MUTATION = 0.25\n",
    "GENERATIONS = 10_000\n",
    "SURVIVORS_PERCENTAGE = 0.15\n",
    "STD = 0.0005\n",
    "NUMBER_OF_ISLANDS = 50\n",
    "MIGRATION_TIME = 50\n",
    "NUMBER_OF_MIGRANTS = 25\n",
    "\n",
    "FITNESS_FUNCTION = lab9_lib.make_problem(PROBLEM_SIZE)"
   ]
  },
  {
   "cell_type": "code",
   "execution_count": 47,
   "metadata": {},
   "outputs": [
    {
     "name": "stderr",
     "output_type": "stream",
     "text": [
      "Best Fitness 53.00%: 100%|██████████| 10000/10000 [19:36<00:00,  8.50it/s]"
     ]
    },
    {
     "name": "stdout",
     "output_type": "stream",
     "text": [
      "Best individual: Individual(Zeros=470, Ones=530), fitness: 53.00%\n"
     ]
    },
    {
     "name": "stderr",
     "output_type": "stream",
     "text": [
      "\n"
     ]
    }
   ],
   "source": [
    "islands = [create_population(FITNESS_FUNCTION, LOCI, POPULATION_SIZE) for _ in range(NUMBER_OF_ISLANDS)]\n",
    "tmp_best_islands_individuals = list(map(find_best_individual, islands))\n",
    "best_individual = find_best_individual(tmp_best_islands_individuals)\n",
    "generation_best_fitnesses = [[ind.fitness] for ind in tmp_best_islands_individuals]\n",
    "\n",
    "pbar = trange(GENERATIONS)\n",
    "for generation in pbar:\n",
    "    migrate = (generation + 1) % MIGRATION_TIME == 0\n",
    "    if migrate:\n",
    "        new_islands = []\n",
    "        for _ in range(int(NUMBER_OF_ISLANDS // 2)):\n",
    "            island1, island2 = islands.pop(), islands.pop()\n",
    "            migrants1, island1 = choose_migrants(island1, NUMBER_OF_MIGRANTS, random=False)\n",
    "            migrants2, island2 = choose_migrants(island2, NUMBER_OF_MIGRANTS, random=False)\n",
    "            island1.extend(migrants2)\n",
    "            island2.extend(migrants1)\n",
    "            new_islands.extend([island1, island2])\n",
    "        if len(islands) == 1:\n",
    "            new_islands.append(islands.pop())\n",
    "        islands = new_islands\n",
    "    new_islands = []\n",
    "    for island in islands:\n",
    "        # extinction\n",
    "        island, offspring = (\n",
    "            extinction_by_fitness(island, STD, POPULATION_SIZE, SURVIVORS_PERCENTAGE, FITNESS_FUNCTION, LOCI)\n",
    "            if not migrate\n",
    "            else (island, None)\n",
    "        )\n",
    "\n",
    "        if offspring is None:\n",
    "            offspring = []\n",
    "            for _ in range(OFFSPRING_SIZE):\n",
    "                if random() < CROSSOVER_MUTATION:\n",
    "                    parent1 = select_parent(island, TOURNAMENT_SIZE)\n",
    "                    parent2 = select_parent(island, TOURNAMENT_SIZE)\n",
    "                    child = mutate(one_cut_crossover(parent1, parent2))\n",
    "                else:\n",
    "                    parent = select_parent(island, TOURNAMENT_SIZE)\n",
    "                    child = mutate(parent)\n",
    "                offspring.append(child)\n",
    "        island = update_population(island, offspring, POPULATION_SIZE)\n",
    "        new_islands.append(island)\n",
    "    islands = new_islands\n",
    "\n",
    "    tmp_best_islands_individuals = list(map(find_best_individual, islands))\n",
    "    best_current_generation = find_best_individual(tmp_best_islands_individuals)\n",
    "    for i, ind in enumerate(tmp_best_islands_individuals):\n",
    "        generation_best_fitnesses[i].append(ind.fitness)\n",
    "    pbar.set_description(f'Best Fitness {best_current_generation.fitness:.2%}')\n",
    "\n",
    "    if best_current_generation.fitness > best_individual.fitness:\n",
    "        best_individual = best_current_generation\n",
    "\n",
    "    if math.isclose(1, best_current_generation.fitness):\n",
    "        break\n",
    "\n",
    "print(f\"Best individual: {best_individual}, fitness: {best_individual.fitness:.2%}\")"
   ]
  },
  {
   "cell_type": "code",
   "execution_count": 48,
   "metadata": {},
   "outputs": [
    {
     "name": "stdout",
     "output_type": "stream",
     "text": [
      "Number of fitness calls: 16,075,210\n"
     ]
    }
   ],
   "source": [
    "print(f'Number of fitness calls: {FITNESS_FUNCTION.calls:,}')"
   ]
  },
  {
   "cell_type": "markdown",
   "metadata": {},
   "source": [
    "### Second attempt\n",
    "* **_crossover_**\n",
    "* **_mutation_**\n",
    "* **_tournament selection_**\n",
    "* **_extinction_**\n",
    "* **_island model_**\n",
    "* **_two level diversity selection_**\n",
    "\n",
    "To further increase the diversity I implemented a _two level diversity selection_. Due to limited computing resources, I decided to reduce the number of islands from 50 to 4, just to test the performance of this new technique."
   ]
  },
  {
   "cell_type": "code",
   "execution_count": 21,
   "metadata": {},
   "outputs": [],
   "source": [
    "PROBLEM_SIZE = 10\n",
    "LOCI = 1000\n",
    "POPULATION_SIZE = 100\n",
    "OFFSPRING_SIZE = 50\n",
    "TOURNAMENT_SIZE = 5\n",
    "CROSSOVER_MUTATION = 0.35\n",
    "GENERATIONS = 10_000\n",
    "SURVIVORS_PERCENTAGE = 0.05\n",
    "STD = 0.0005\n",
    "NUMBER_OF_ISLANDS = 4\n",
    "MIGRATION_TIME = 50\n",
    "NUMBER_OF_MIGRANTS = 5\n",
    "\n",
    "FITNESS_FUNCTION = lab9_lib.make_problem(PROBLEM_SIZE)"
   ]
  },
  {
   "cell_type": "code",
   "execution_count": 104,
   "metadata": {},
   "outputs": [
    {
     "name": "stderr",
     "output_type": "stream",
     "text": [
      "Best Fitness 40.65%: 100%|██████████| 10000/10000 [04:37<00:00, 36.03it/s]"
     ]
    },
    {
     "name": "stdout",
     "output_type": "stream",
     "text": [
      "Best individual: Individual(Zeros=577, Ones=423), fitness: 40.71%\n"
     ]
    },
    {
     "name": "stderr",
     "output_type": "stream",
     "text": [
      "\n"
     ]
    }
   ],
   "source": [
    "islands = [create_population(FITNESS_FUNCTION, LOCI, POPULATION_SIZE) for _ in range(NUMBER_OF_ISLANDS)]\n",
    "tmp_best_islands_individuals = list(map(find_best_individual, islands))\n",
    "best_individual = find_best_individual(tmp_best_islands_individuals)\n",
    "generation_best_fitnesses = [[ind.fitness] for ind in tmp_best_islands_individuals]\n",
    "\n",
    "pbar = trange(GENERATIONS)\n",
    "for generation in pbar:\n",
    "    migrate = (generation + 1) % MIGRATION_TIME == 0\n",
    "    if migrate:\n",
    "        new_islands = []\n",
    "        for _ in range(int(NUMBER_OF_ISLANDS // 2)):\n",
    "            island1, island2 = islands.pop(), islands.pop()\n",
    "            migrants1, island1 = choose_migrants(island1, NUMBER_OF_MIGRANTS, random=False)\n",
    "            migrants2, island2 = choose_migrants(island2, NUMBER_OF_MIGRANTS, random=False)\n",
    "            island1.extend(migrants2)\n",
    "            island2.extend(migrants1)\n",
    "            new_islands.extend([island1, island2])\n",
    "        if len(islands) == 1:\n",
    "            new_islands.append(islands.pop())\n",
    "        islands = new_islands\n",
    "    new_islands = []\n",
    "    for island in islands:\n",
    "        # extinction\n",
    "        island, offspring = (\n",
    "            extinction_by_fitness(island, STD, POPULATION_SIZE, SURVIVORS_PERCENTAGE, FITNESS_FUNCTION, LOCI)\n",
    "            if not migrate\n",
    "            else (island, None)\n",
    "        )\n",
    "\n",
    "        if offspring is None:\n",
    "            offspring = []\n",
    "            for _ in range(OFFSPRING_SIZE):\n",
    "                if random() < CROSSOVER_MUTATION:\n",
    "                    parent1 = select_parent(island, TOURNAMENT_SIZE)\n",
    "                    parent2 = select_parent(island, TOURNAMENT_SIZE)\n",
    "                    parent3 = select_parent(island, TOURNAMENT_SIZE)\n",
    "\n",
    "                    # two level diversity selection\n",
    "                    parent1, parent2, _ = max(\n",
    "                        [(p1, p2, edit_distance(p1, p2)) for p1, p2 in combinations([parent1, parent2, parent3], 2)],\n",
    "                        key=lambda i: i[2],\n",
    "                    )\n",
    "\n",
    "                    child = mutate(one_cut_crossover(parent1, parent2))\n",
    "                else:\n",
    "                    parent = select_parent(island, TOURNAMENT_SIZE)\n",
    "                    child = mutate(parent)\n",
    "                offspring.append(child)\n",
    "        island = update_population(island, offspring, POPULATION_SIZE)\n",
    "        new_islands.append(island)\n",
    "    islands = new_islands\n",
    "\n",
    "    tmp_best_islands_individuals = list(map(find_best_individual, islands))\n",
    "    best_current_generation = find_best_individual(tmp_best_islands_individuals)\n",
    "    for i, ind in enumerate(tmp_best_islands_individuals):\n",
    "        generation_best_fitnesses[i].append(ind.fitness)\n",
    "    pbar.set_description(f'Best Fitness {best_current_generation.fitness:.2%}')\n",
    "\n",
    "    if best_current_generation.fitness > best_individual.fitness:\n",
    "        best_individual = best_current_generation\n",
    "\n",
    "    if math.isclose(1, best_current_generation.fitness):\n",
    "        break\n",
    "\n",
    "print(f\"Best individual: {best_individual}, fitness: {best_individual.fitness:.2%}\")"
   ]
  },
  {
   "cell_type": "code",
   "execution_count": 107,
   "metadata": {},
   "outputs": [
    {
     "name": "stdout",
     "output_type": "stream",
     "text": [
      "Number of fitness calls: 2,790,650\n"
     ]
    }
   ],
   "source": [
    "print(f'Number of fitness calls: {FITNESS_FUNCTION.calls:,}')"
   ]
  },
  {
   "cell_type": "code",
   "execution_count": 112,
   "metadata": {},
   "outputs": [
    {
     "data": {
      "image/png": "[encoded data removed]",
      "text/plain": [
       "<Figure size 640x480 with 1 Axes>"
      ]
     },
     "metadata": {},
     "output_type": "display_data"
    }
   ],
   "source": [
    "plot_fitnesses_by_generations(generation_best_fitnesses, NUMBER_OF_ISLANDS)"
   ]
  }
 ],
 "metadata": {
  "kernelspec": {
   "display_name": "ci-fLJ3OwGs-py3.12",
   "language": "python",
   "name": "python3"
  },
  "language_info": {
   "codemirror_mode": {
    "name": "ipython",
    "version": 3
   },
   "file_extension": ".py",
   "mimetype": "text/x-python",
   "name": "python",
   "nbconvert_exporter": "python",
   "pygments_lexer": "ipython3",
   "version": "3.12.0"
  }
 },
 "nbformat": 4,
 "nbformat_minor": 2
}
