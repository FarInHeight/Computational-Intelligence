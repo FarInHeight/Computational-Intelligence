{
 "cells": [
  {
   "cell_type": "markdown",
   "metadata": {},
   "source": [
    "# LAB9\n",
    "\n",
    "Write a local-search algorithm (eg. an EA) able to solve the *Problem* instances 1, 2, 5, and 10 on a 1000-loci genomes, using a minimum number of fitness calls. That's all.\n",
    "\n",
    "### Deadlines:\n",
    "\n",
    "* Submission: Sunday, December 3 ([CET](https://www.timeanddate.com/time/zones/cet))\n",
    "* Reviews: Sunday, December 10 ([CET](https://www.timeanddate.com/time/zones/cet))\n",
    "\n",
    "Notes:\n",
    "\n",
    "* Reviews will be assigned  on Monday, December 4\n",
    "* You need to commit in order to be selected as a reviewer (ie. better to commit an empty work than not to commit)"
   ]
  },
  {
   "cell_type": "code",
   "execution_count": 1,
   "metadata": {},
   "outputs": [],
   "source": [
    "from __future__ import annotations\n",
    "\n",
    "from random import choices, randint, random, shuffle\n",
    "from dataclasses import dataclass\n",
    "from typing import Callable\n",
    "from tqdm import trange\n",
    "import numpy as np\n",
    "import math\n",
    "\n",
    "\n",
    "import lab9_lib\n",
    "from lab9_lib import AbstractProblem"
   ]
  },
  {
   "cell_type": "code",
   "execution_count": 2,
   "metadata": {},
   "outputs": [],
   "source": [
    "PROBLEM_SIZE = 10\n",
    "LOCI = 1000"
   ]
  },
  {
   "cell_type": "code",
   "execution_count": 3,
   "metadata": {},
   "outputs": [],
   "source": [
    "@dataclass(frozen=True, init=False)\n",
    "class Individual:\n",
    "    _n_loci: int\n",
    "    _genotype: tuple[int]\n",
    "    _fitness: float\n",
    "    _fitness_function: Callable[[Individual], float]\n",
    "\n",
    "    def __init__(self, fitness_function: \"AbstractProblem\", n_loci: int, genotype: tuple[int] = None):\n",
    "        object.__setattr__(self, \"_n_loci\", n_loci)\n",
    "        if genotype is None:\n",
    "            genotype = tuple(choices([0, 1], k=n_loci))\n",
    "        object.__setattr__(self, \"_genotype\", genotype)\n",
    "        assert len(self._genotype) == self._n_loci, 'n_loci field and genotype length do not match'\n",
    "        object.__setattr__(self, \"_fitness_function\", fitness_function)\n",
    "        object.__setattr__(self, \"_fitness\", fitness_function(self.genotype))\n",
    "\n",
    "    @property\n",
    "    def n_loci(self):\n",
    "        return self._n_loci\n",
    "\n",
    "    @property\n",
    "    def genotype(self):\n",
    "        return self._genotype\n",
    "\n",
    "    @property\n",
    "    def fitness(self):\n",
    "        return self._fitness\n",
    "\n",
    "    @property\n",
    "    def fitness_function(self):\n",
    "        return self._fitness_function\n",
    "\n",
    "    def __str__(self):\n",
    "        return f'Individual(Zeros={self.genotype.count(0)}, Ones={self.genotype.count(1)})'\n",
    "\n",
    "    def __repr__(self) -> str:\n",
    "        return f\"{''.join(str(gene) for gene in self.genotype)}\""
   ]
  },
  {
   "cell_type": "code",
   "execution_count": 4,
   "metadata": {},
   "outputs": [],
   "source": [
    "def mutate(ind: Individual) -> Individual:\n",
    "    fitness_function, n_loci, genotype = ind.fitness_function, ind.n_loci, list(ind.genotype)\n",
    "    index = randint(0, n_loci - 1)\n",
    "    genotype[index] = 1 - genotype[index]\n",
    "    return Individual(fitness_function, n_loci, tuple(genotype))\n",
    "\n",
    "\n",
    "def mutate_all(ind: Individual, *, prob: float) -> Individual:\n",
    "    fitness_function, n_loci, genotype = ind.fitness_function, ind.n_loci, list(ind.genotype)\n",
    "    genotype = [1 - gene if random() < prob else gene for gene in genotype]\n",
    "    return Individual(fitness_function, n_loci, tuple(genotype))\n",
    "\n",
    "\n",
    "def uniform_crossover(ind1: Individual, ind2: Individual) -> Individual:\n",
    "    fitness_function, n_loci = ind1.fitness_function, ind1.n_loci\n",
    "    randoms = [random() for _ in range(n_loci)]\n",
    "    genotype = [i if r < 0.5 else o for i, o, r in zip(ind1.genotype, ind2.genotype, randoms)]\n",
    "    assert len(genotype) == n_loci\n",
    "    return Individual(fitness_function, n_loci, tuple(genotype))\n",
    "\n",
    "\n",
    "def one_cut_crossover(ind1: Individual, ind2: Individual) -> Individual:\n",
    "    fitness_function, n_loci = ind1.fitness_function, ind1.n_loci\n",
    "    index = randint(0, n_loci - 1)\n",
    "    offspring = Individual(fitness_function, n_loci, tuple(ind1.genotype[:index]) + tuple(ind2.genotype[index:]))\n",
    "    assert len(offspring.genotype) == n_loci\n",
    "    return offspring\n",
    "\n",
    "\n",
    "def select_parent(population: list[Individual], tournament_size: int) -> Individual:\n",
    "    pool = choices(population, k=tournament_size)\n",
    "    champ = max(pool, key=lambda ind: ind.fitness)\n",
    "    return champ\n",
    "\n",
    "\n",
    "def create_population(fitness_function: \"AbstractProblem\", population_size: int) -> list[Individual]:\n",
    "    return [Individual(fitness_function, LOCI) for _ in range(population_size)]\n",
    "\n",
    "\n",
    "def update_population(\n",
    "    population: list[Individual], offspring: list[Individual], population_size: int\n",
    ") -> list[Individual]:\n",
    "    population.extend(offspring)\n",
    "    population.sort(key=lambda ind: ind.fitness, reverse=True)\n",
    "    population = population[:population_size]\n",
    "    return population\n",
    "\n",
    "\n",
    "def find_best_individual(population: list[Individual]) -> Individual:\n",
    "    return max(population, key=lambda ind: ind.fitness)\n",
    "\n",
    "\n",
    "def choose_migrants(population: list[Individual], n: int, random: bool) -> tuple[list[Individual], list[Individual]]:\n",
    "    if random:\n",
    "        shuffle(population)\n",
    "    else:\n",
    "        population.sort(key=lambda ind: ind.fitness, reverse=True)\n",
    "    migrants = population[:n]\n",
    "    population = population[n:]\n",
    "    return migrants, population"
   ]
  },
  {
   "cell_type": "markdown",
   "metadata": {},
   "source": [
    "## Problem Instance: 1"
   ]
  },
  {
   "cell_type": "code",
   "execution_count": 5,
   "metadata": {},
   "outputs": [],
   "source": [
    "PROBLEM_SIZE = 1\n",
    "LOCI = 1000\n",
    "POPULATION_SIZE = 30\n",
    "OFFSPRING_SIZE = 20\n",
    "TOURNAMENT_SIZE = 2\n",
    "MUTATION_PROBABILITY = 0.80\n",
    "GENERATIONS = 5000\n",
    "\n",
    "FITNESS_FUNCTION = lab9_lib.make_problem(PROBLEM_SIZE)"
   ]
  },
  {
   "cell_type": "code",
   "execution_count": 6,
   "metadata": {},
   "outputs": [
    {
     "name": "stderr",
     "output_type": "stream",
     "text": [
      "Best Fitness 100.00%:  26%|██▌       | 1312/5000 [00:02<00:06, 597.28it/s]"
     ]
    },
    {
     "name": "stdout",
     "output_type": "stream",
     "text": [
      "Best individual: Individual(Zeros=0, Ones=1000), fitness: 100.00%\n"
     ]
    },
    {
     "name": "stderr",
     "output_type": "stream",
     "text": [
      "\n"
     ]
    }
   ],
   "source": [
    "population = create_population(FITNESS_FUNCTION, POPULATION_SIZE)\n",
    "\n",
    "pbar = trange(GENERATIONS)\n",
    "for generation in pbar:\n",
    "    offspring = []\n",
    "    for _ in range(OFFSPRING_SIZE):\n",
    "        if random() < MUTATION_PROBABILITY:\n",
    "            parent = select_parent(population, TOURNAMENT_SIZE)\n",
    "            child = mutate(parent)\n",
    "        else:\n",
    "            parent1 = select_parent(population, TOURNAMENT_SIZE)\n",
    "            parent2 = select_parent(population, TOURNAMENT_SIZE)\n",
    "            child = one_cut_crossover(parent1, parent2)\n",
    "        offspring.append(child)\n",
    "\n",
    "    population = update_population(population, offspring, POPULATION_SIZE)\n",
    "    pbar.set_description(f'Best Fitness {population[0].fitness:.2%}')\n",
    "\n",
    "    if math.isclose(1, population[0].fitness):\n",
    "        break\n",
    "\n",
    "print(f\"Best individual: {population[0]}, fitness: {population[0].fitness:.2%}\")"
   ]
  },
  {
   "cell_type": "code",
   "execution_count": 7,
   "metadata": {},
   "outputs": [
    {
     "name": "stdout",
     "output_type": "stream",
     "text": [
      "Number of fitness calls: 26,290\n"
     ]
    }
   ],
   "source": [
    "print(f'Number of fitness calls: {FITNESS_FUNCTION.calls:,}')"
   ]
  },
  {
   "cell_type": "markdown",
   "metadata": {},
   "source": [
    "## Problem Instance: 2"
   ]
  },
  {
   "cell_type": "code",
   "execution_count": 33,
   "metadata": {},
   "outputs": [],
   "source": [
    "PROBLEM_SIZE = 2\n",
    "LOCI = 1000\n",
    "POPULATION_SIZE = 50\n",
    "OFFSPRING_SIZE = 25\n",
    "TOURNAMENT_SIZE = 2\n",
    "CROSSOVER_MUTATION = 0.35\n",
    "GENERATIONS = 20000\n",
    "SURVIVORS_PERCENTAGE = 0.15\n",
    "STD = 0.0005\n",
    "\n",
    "FITNESS_FUNCTION = lab9_lib.make_problem(PROBLEM_SIZE)"
   ]
  },
  {
   "cell_type": "code",
   "execution_count": 34,
   "metadata": {},
   "outputs": [
    {
     "name": "stderr",
     "output_type": "stream",
     "text": [
      "Best Fitness 100.00%:  46%|████▋     | 9271/20000 [00:30<00:35, 303.54it/s]"
     ]
    },
    {
     "name": "stdout",
     "output_type": "stream",
     "text": [
      "Best individual: Individual(Zeros=0, Ones=1000), fitness: 100.00%\n"
     ]
    },
    {
     "name": "stderr",
     "output_type": "stream",
     "text": [
      "\n"
     ]
    }
   ],
   "source": [
    "population = create_population(FITNESS_FUNCTION, POPULATION_SIZE)\n",
    "best_individual = find_best_individual(population)\n",
    "\n",
    "pbar = trange(GENERATIONS)\n",
    "for generation in pbar:\n",
    "    offspring = []\n",
    "\n",
    "    if np.std([ind.fitness for ind in population]) < STD:\n",
    "        population = choices(population, k=math.ceil(POPULATION_SIZE * SURVIVORS_PERCENTAGE))\n",
    "        offspring.extend(create_population(FITNESS_FUNCTION, math.floor(POPULATION_SIZE * (1 - SURVIVORS_PERCENTAGE))))\n",
    "    else:\n",
    "        for _ in range(OFFSPRING_SIZE):\n",
    "            if random() < CROSSOVER_MUTATION:\n",
    "                parent1 = select_parent(population, TOURNAMENT_SIZE)\n",
    "                parent2 = select_parent(population, TOURNAMENT_SIZE)\n",
    "                child = mutate(uniform_crossover(parent1, parent2))\n",
    "            else:\n",
    "                parent = select_parent(population, TOURNAMENT_SIZE)\n",
    "                child = mutate(parent)\n",
    "            offspring.append(child)\n",
    "\n",
    "    population = update_population(population, offspring, POPULATION_SIZE)\n",
    "    pbar.set_description(f'Best Fitness {population[0].fitness:.2%}')\n",
    "\n",
    "    if population[0].fitness > best_individual.fitness:\n",
    "        best_individual = population[0]\n",
    "\n",
    "    if math.isclose(1, population[0].fitness):\n",
    "        break\n",
    "\n",
    "print(f\"Best individual: {best_individual}, fitness: {best_individual.fitness:.2%}\")"
   ]
  },
  {
   "cell_type": "code",
   "execution_count": 38,
   "metadata": {},
   "outputs": [
    {
     "name": "stdout",
     "output_type": "stream",
     "text": [
      "Number of fitness calls: 313,075\n"
     ]
    }
   ],
   "source": [
    "print(f'Number of fitness calls: {FITNESS_FUNCTION.calls:,}')"
   ]
  },
  {
   "cell_type": "markdown",
   "metadata": {},
   "source": [
    "## Problem Instance: 5"
   ]
  },
  {
   "cell_type": "code",
   "execution_count": 85,
   "metadata": {},
   "outputs": [],
   "source": [
    "PROBLEM_SIZE = 5\n",
    "LOCI = 1000\n",
    "POPULATION_SIZE = 50\n",
    "OFFSPRING_SIZE = 25\n",
    "TOURNAMENT_SIZE = 2\n",
    "CROSSOVER_MUTATION = 0.35\n",
    "GENERATIONS = 50000\n",
    "SURVIVORS_PERCENTAGE = 0.15\n",
    "STD = 0.0005\n",
    "\n",
    "FITNESS_FUNCTION = lab9_lib.make_problem(PROBLEM_SIZE)"
   ]
  },
  {
   "cell_type": "code",
   "execution_count": 86,
   "metadata": {},
   "outputs": [
    {
     "name": "stderr",
     "output_type": "stream",
     "text": [
      "Best Fitness 67.90%: 100%|██████████| 50000/50000 [02:58<00:00, 279.97it/s]"
     ]
    },
    {
     "name": "stdout",
     "output_type": "stream",
     "text": [
      "Best individual: Individual(Zeros=275, Ones=725), fitness: 67.99%\n"
     ]
    },
    {
     "name": "stderr",
     "output_type": "stream",
     "text": [
      "\n"
     ]
    }
   ],
   "source": [
    "population = create_population(FITNESS_FUNCTION, POPULATION_SIZE)\n",
    "best_individual = find_best_individual(population)\n",
    "\n",
    "pbar = trange(GENERATIONS)\n",
    "for generation in pbar:\n",
    "    offspring = []\n",
    "\n",
    "    if np.std([ind.fitness for ind in population]) < STD:\n",
    "        population = choices(population, k=math.ceil(POPULATION_SIZE * SURVIVORS_PERCENTAGE))\n",
    "        offspring.extend(create_population(FITNESS_FUNCTION, math.floor(POPULATION_SIZE * (1 - SURVIVORS_PERCENTAGE))))\n",
    "    else:\n",
    "        for _ in range(OFFSPRING_SIZE):\n",
    "            if random() < CROSSOVER_MUTATION:\n",
    "                parent1 = select_parent(population, TOURNAMENT_SIZE)\n",
    "                parent2 = select_parent(population, TOURNAMENT_SIZE)\n",
    "                child = mutate(uniform_crossover(parent1, parent2))\n",
    "            else:\n",
    "                parent = select_parent(population, TOURNAMENT_SIZE)\n",
    "                child = mutate(parent)\n",
    "            offspring.append(child)\n",
    "\n",
    "    population = update_population(population, offspring, POPULATION_SIZE)\n",
    "    pbar.set_description(f'Best Fitness {population[0].fitness:.2%}')\n",
    "\n",
    "    if population[0].fitness > best_individual.fitness:\n",
    "        best_individual = population[0]\n",
    "\n",
    "    if math.isclose(1, population[0].fitness):\n",
    "        break\n",
    "\n",
    "print(f\"Best individual: {best_individual}, fitness: {best_individual.fitness:.2%}\")"
   ]
  },
  {
   "cell_type": "code",
   "execution_count": 88,
   "metadata": {},
   "outputs": [
    {
     "name": "stdout",
     "output_type": "stream",
     "text": [
      "Number of fitness calls: 1,714,111\n"
     ]
    }
   ],
   "source": [
    "print(f'Number of fitness calls: {FITNESS_FUNCTION.calls:,}')"
   ]
  },
  {
   "cell_type": "markdown",
   "metadata": {},
   "source": [
    "## Problem Instance: 10"
   ]
  },
  {
   "cell_type": "code",
   "execution_count": 46,
   "metadata": {},
   "outputs": [],
   "source": [
    "PROBLEM_SIZE = 10\n",
    "LOCI = 1000\n",
    "POPULATION_SIZE = 50\n",
    "OFFSPRING_SIZE = 25\n",
    "TOURNAMENT_SIZE = 2\n",
    "CROSSOVER_MUTATION = 0.25\n",
    "GENERATIONS = 10000\n",
    "SURVIVORS_PERCENTAGE = 0.15\n",
    "STD = 0.0005\n",
    "NUMBER_OF_ISLANDS = 50\n",
    "MIGRATION_TIME = 50\n",
    "NUMBER_OF_MIGRANTS = int(POPULATION_SIZE * 0.5)\n",
    "\n",
    "FITNESS_FUNCTION = lab9_lib.make_problem(PROBLEM_SIZE)"
   ]
  },
  {
   "cell_type": "code",
   "execution_count": 47,
   "metadata": {},
   "outputs": [
    {
     "name": "stderr",
     "output_type": "stream",
     "text": [
      "Best Fitness 53.00%: 100%|██████████| 10000/10000 [19:36<00:00,  8.50it/s]"
     ]
    },
    {
     "name": "stdout",
     "output_type": "stream",
     "text": [
      "Best individual: Individual(Zeros=470, Ones=530), fitness: 53.00%\n"
     ]
    },
    {
     "name": "stderr",
     "output_type": "stream",
     "text": [
      "\n"
     ]
    }
   ],
   "source": [
    "islands = [create_population(FITNESS_FUNCTION, POPULATION_SIZE) for _ in range(NUMBER_OF_ISLANDS)]\n",
    "best_individual = find_best_individual(map(find_best_individual, islands))\n",
    "\n",
    "pbar = trange(GENERATIONS)\n",
    "for generation in pbar:\n",
    "    migrate = (generation + 1) % MIGRATION_TIME == 0\n",
    "    if migrate:\n",
    "        new_islands = []\n",
    "        for _ in range(int(NUMBER_OF_ISLANDS // 2)):\n",
    "            island1, island2 = islands.pop(), islands.pop()\n",
    "            migrants1, island1 = choose_migrants(island1, NUMBER_OF_MIGRANTS, random=False)\n",
    "            migrants2, island2 = choose_migrants(island2, NUMBER_OF_MIGRANTS, random=False)\n",
    "            island1.extend(migrants2)\n",
    "            island2.extend(migrants1)\n",
    "            new_islands.extend([island1, island2])\n",
    "        if len(islands) == 1:\n",
    "            new_islands.append(islands.pop())\n",
    "        islands = new_islands\n",
    "    new_islands = []\n",
    "    for island in islands:\n",
    "        offspring = []\n",
    "        if not migrate and np.std([ind.fitness for ind in island]) < STD:\n",
    "            island = choices(island, k=math.ceil(POPULATION_SIZE * SURVIVORS_PERCENTAGE))\n",
    "            offspring.extend(\n",
    "                create_population(FITNESS_FUNCTION, math.floor(POPULATION_SIZE * (1 - SURVIVORS_PERCENTAGE)))\n",
    "            )\n",
    "        else:\n",
    "            for _ in range(OFFSPRING_SIZE):\n",
    "                if random() < CROSSOVER_MUTATION:\n",
    "                    parent1 = select_parent(island, TOURNAMENT_SIZE)\n",
    "                    parent2 = select_parent(island, TOURNAMENT_SIZE)\n",
    "                    child = mutate(one_cut_crossover(parent1, parent2))\n",
    "                else:\n",
    "                    parent = select_parent(island, TOURNAMENT_SIZE)\n",
    "                    child = mutate(parent)\n",
    "                offspring.append(child)\n",
    "        island = update_population(island, offspring, POPULATION_SIZE)\n",
    "        new_islands.append(island)\n",
    "    islands = new_islands\n",
    "\n",
    "    best_current_generation = find_best_individual(map(find_best_individual, islands))\n",
    "    pbar.set_description(f'Best Fitness {best_current_generation.fitness:.2%}')\n",
    "\n",
    "    if best_current_generation.fitness > best_individual.fitness:\n",
    "        best_individual = best_current_generation\n",
    "\n",
    "    if math.isclose(1, best_current_generation.fitness):\n",
    "        break\n",
    "\n",
    "print(f\"Best individual: {best_individual}, fitness: {best_individual.fitness:.2%}\")"
   ]
  },
  {
   "cell_type": "code",
   "execution_count": 48,
   "metadata": {},
   "outputs": [
    {
     "name": "stdout",
     "output_type": "stream",
     "text": [
      "Number of fitness calls: 16,075,210\n"
     ]
    }
   ],
   "source": [
    "print(f'Number of fitness calls: {FITNESS_FUNCTION.calls:,}')"
   ]
  }
 ],
 "metadata": {
  "kernelspec": {
   "display_name": "ci-fLJ3OwGs-py3.12",
   "language": "python",
   "name": "python3"
  },
  "language_info": {
   "codemirror_mode": {
    "name": "ipython",
    "version": 3
   },
   "file_extension": ".py",
   "mimetype": "text/x-python",
   "name": "python",
   "nbconvert_exporter": "python",
   "pygments_lexer": "ipython3",
   "version": "3.12.0"
  }
 },
 "nbformat": 4,
 "nbformat_minor": 2
}
