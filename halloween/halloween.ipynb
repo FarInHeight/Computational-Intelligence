{
 "cells": [
  {
   "cell_type": "code",
   "execution_count": 1,
   "metadata": {},
   "outputs": [],
   "source": [
    "from itertools import product\n",
    "from random import random, randint, seed, uniform, sample\n",
    "import numpy as np\n",
    "import math\n",
    "from scipy import sparse\n",
    "from copy import copy\n",
    "from tqdm import tqdm\n",
    "from functools import reduce\n",
    "from collections import deque"
   ]
  },
  {
   "cell_type": "code",
   "execution_count": 2,
   "metadata": {},
   "outputs": [],
   "source": [
    "def make_set_covering_problem(num_points, num_sets, density, prob=None):\n",
    "    \"\"\"Returns a sparse array where rows are sets and columns are the covered items\"\"\"\n",
    "    seed(num_points * 2654435761 + num_sets + density)\n",
    "    sets = sparse.lil_array((num_sets, num_points), dtype=bool).toarray()\n",
    "    for s, p in product(range(num_sets), range(num_points)):\n",
    "        if random() < density:\n",
    "            sets[s, p] = True\n",
    "    for p in range(num_points):\n",
    "        sets[randint(0, num_sets - 1), p] = True\n",
    "    if prob is not None:\n",
    "        np.random.seed(int(num_points * 435761 + num_sets + density))\n",
    "        initial_state = np.random.choice([True, False], size=(num_sets,), p=[prob, 1 - prob])\n",
    "    else:\n",
    "        initial_state = np.full((num_sets,), False, dtype=np.bool_)\n",
    "    return sets, initial_state"
   ]
  },
  {
   "cell_type": "markdown",
   "metadata": {},
   "source": [
    "# Halloween Challenge\n",
    "\n",
    "Find the best solution with the fewest calls to the fitness functions for:\n",
    "\n",
    "* `num_points = [100, 1_000, 5_000]`\n",
    "* `num_sets = num_points`\n",
    "* `density = [.3, .7]` "
   ]
  },
  {
   "cell_type": "markdown",
   "metadata": {},
   "source": [
    "## Problem definition"
   ]
  },
  {
   "cell_type": "code",
   "execution_count": 3,
   "metadata": {},
   "outputs": [
    {
     "name": "stdout",
     "output_type": "stream",
     "text": [
      "Problem shape: (1000, 1000)\n",
      "Initial state shape: (1000,), Taken sets: 0\n"
     ]
    }
   ],
   "source": [
    "NUM_SETS = 1000\n",
    "NUM_POINTS = 1000\n",
    "DENSITY = 0.3\n",
    "# PROB = 0.02\n",
    "\n",
    "# problem, initial_state = make_set_covering_problem(NUM_POINTS, NUM_SETS, DENSITY, PROB)\n",
    "problem, initial_state = make_set_covering_problem(NUM_POINTS, NUM_SETS, DENSITY)\n",
    "print(\n",
    "    f'Problem shape: {problem.shape}',\n",
    "    f'Initial state shape: {initial_state.shape}, Taken sets: {np.sum(initial_state)}',\n",
    "    sep='\\n',\n",
    ")"
   ]
  },
  {
   "cell_type": "code",
   "execution_count": 4,
   "metadata": {},
   "outputs": [],
   "source": [
    "def check_goal(problem, state):\n",
    "    return np.all(\n",
    "        reduce(\n",
    "            np.logical_or,\n",
    "            [problem[i] for i, t in enumerate(state) if t],\n",
    "            np.array([False for _ in range(NUM_POINTS)]),\n",
    "        )\n",
    "    )"
   ]
  },
  {
   "cell_type": "code",
   "execution_count": 5,
   "metadata": {},
   "outputs": [],
   "source": [
    "assert check_goal(problem, np.full((NUM_SETS,), True, dtype=np.bool_)), \"Problem not solvable\""
   ]
  },
  {
   "cell_type": "code",
   "execution_count": 6,
   "metadata": {},
   "outputs": [],
   "source": [
    "def fitness1(problem, state):\n",
    "    goal = check_goal(problem, state)\n",
    "    cost = np.sum(state)\n",
    "    return goal, cost if not goal else -cost\n",
    "\n",
    "\n",
    "def fitness2(problem, state):\n",
    "    def covered(state):\n",
    "        return reduce(\n",
    "            np.logical_or,\n",
    "            [problem[i] for i, t in enumerate(state) if t],\n",
    "            np.array([False for _ in range(NUM_POINTS)]),\n",
    "        )\n",
    "\n",
    "    cost = sum(state)\n",
    "    occupied_cells = np.sum(covered(state))\n",
    "    return occupied_cells, -cost\n",
    "\n",
    "\n",
    "fitness = fitness2"
   ]
  },
  {
   "cell_type": "code",
   "execution_count": 7,
   "metadata": {},
   "outputs": [
    {
     "data": {
      "text/plain": [
       "(0, 0)"
      ]
     },
     "execution_count": 7,
     "metadata": {},
     "output_type": "execute_result"
    }
   ],
   "source": [
    "fitness(problem, initial_state)"
   ]
  },
  {
   "cell_type": "markdown",
   "metadata": {},
   "source": [
    "## Implemented methods - Single-state methods\n",
    "The Halloween challenge has been accepted. To solve it, I'd reply with the following methods (with some modifications described for each algorithm, if any):\n",
    "- **Random-Mutation Hill Climber**;\n",
    "- **Steepest-Step Hill Climber**;\n",
    "- **Steepest-Step Hill Climber with Replacement**;\n",
    "- **Simulated Annealing**."
   ]
  },
  {
   "cell_type": "code",
   "execution_count": 8,
   "metadata": {},
   "outputs": [],
   "source": [
    "def random_tweak(state):\n",
    "    \"\"\"\n",
    "    Tweak a state randomly.\n",
    "\n",
    "    Args:\n",
    "        state: 1-D boolean ndarray.\n",
    "\n",
    "    Returns:\n",
    "        New state with a changed boolean value.\n",
    "    \"\"\"\n",
    "    new_state = copy(state)\n",
    "    index = randint(0, NUM_SETS - 1)\n",
    "    new_state[index] = not new_state[index]\n",
    "    return new_state\n",
    "\n",
    "\n",
    "def tweak_by_index(state, index):\n",
    "    \"\"\"\n",
    "    Tweak a state changing the value in position index.\n",
    "\n",
    "    Args:\n",
    "        state: 1-D boolean ndarray;\n",
    "        index: int value indicating the boolean value to change.\n",
    "\n",
    "    Returns:\n",
    "        New state with a changed boolean value according\n",
    "        to the value of index.\n",
    "    \"\"\"\n",
    "    new_state = copy(state)\n",
    "    new_state[index] = not new_state[index]\n",
    "    return new_state"
   ]
  },
  {
   "cell_type": "markdown",
   "metadata": {},
   "source": [
    "To make the Random-Mutation Hill Climber run faster, I decided to give up the search when for `max_give_up` times I do not improve my best current solution."
   ]
  },
  {
   "cell_type": "code",
   "execution_count": 9,
   "metadata": {},
   "outputs": [],
   "source": [
    "def RMHC(problem, state, fitness, max_it, max_give_up):\n",
    "    \"\"\"\n",
    "    Random-Mutation Hill Climber implementation.\n",
    "\n",
    "    Args:\n",
    "        problem: 2-D boolean ndarray;\n",
    "        state: 1-D boolean ndarray (dim equal to #rows of problem);\n",
    "        fitness: fitness function to evaluate a state;\n",
    "        max_it: maximum number of iterations (int);\n",
    "        max_give_up: maximum number of evaluations before giving up (int).\n",
    "\n",
    "    Returns:\n",
    "        Possible state solution to the problem.\n",
    "    \"\"\"\n",
    "    changes = 0\n",
    "    evals_giveup = 0\n",
    "    evals = 1\n",
    "    best_fitness = fitness(problem, state)\n",
    "    for it in tqdm(range(max_it)):\n",
    "        new_state = random_tweak(state)\n",
    "        evals += 1\n",
    "        new_state_fitness = fitness(problem, new_state)\n",
    "        if new_state_fitness > best_fitness:\n",
    "            state = new_state\n",
    "            best_fitness = new_state_fitness\n",
    "            changes += 1\n",
    "            evals_giveup = 0\n",
    "        else:\n",
    "            evals_giveup += 1\n",
    "            if evals_giveup == max_give_up:\n",
    "                print('Maximum number of evaluations without improvement reached.')\n",
    "                break\n",
    "\n",
    "    it += 1\n",
    "    if it == max_it:\n",
    "        print('Maximum number of iterations reached.')\n",
    "    print(\n",
    "        f'Terminated after {it} iterations.',\n",
    "        f'Terminated after {changes} changes.',\n",
    "        f'Number of evaluations: {evals}.',\n",
    "        sep='\\n',\n",
    "    )\n",
    "\n",
    "    goal, cost = best_fitness\n",
    "    cond = goal if isinstance(goal, bool) else goal == problem.shape[1]\n",
    "\n",
    "    print(f'Goal reached? {\"Yes\" if cond else \"No\"}', f'State cost: {abs(cost)}', sep='\\n')\n",
    "    return state"
   ]
  },
  {
   "cell_type": "code",
   "execution_count": 10,
   "metadata": {},
   "outputs": [
    {
     "name": "stderr",
     "output_type": "stream",
     "text": [
      " 28%|██▊       | 2822/10000 [00:00<00:01, 5570.53it/s]"
     ]
    },
    {
     "name": "stdout",
     "output_type": "stream",
     "text": [
      "Maximum number of evaluations without improvement reached.\n",
      "Terminated after 2823 iterations.\n",
      "Terminated after 23 changes.\n",
      "Number of evaluations: 2824.\n",
      "Goal reached? Yes\n",
      "State cost: 15\n"
     ]
    },
    {
     "name": "stderr",
     "output_type": "stream",
     "text": [
      "\n"
     ]
    }
   ],
   "source": [
    "_ = RMHC(problem, initial_state, fitness, 10_000, 2_000)"
   ]
  },
  {
   "cell_type": "code",
   "execution_count": 11,
   "metadata": {},
   "outputs": [],
   "source": [
    "def SAHC(problem, state, fitness, max_it):\n",
    "    \"\"\"\n",
    "    Steepest-Ascent Hill Climber implementation.\n",
    "\n",
    "    Args:\n",
    "        problem: 2-D boolean ndarray;\n",
    "        state: 1-D boolean ndarray (dim equal to #rows of problem);\n",
    "        fitness: fitness function to evaluate a state;\n",
    "        max_it: maximum number of iterations (int).\n",
    "\n",
    "    Returns:\n",
    "        Possible state solution to the problem.\n",
    "    \"\"\"\n",
    "    changes = 0\n",
    "    evals = 1\n",
    "    best_fitness = fitness(problem, state)\n",
    "    for it in tqdm(range(max_it)):\n",
    "        succ = tweak_by_index(state, 0)\n",
    "        evals += 1\n",
    "        succ_fitness = fitness(problem, succ)\n",
    "        for index in range(1, NUM_SETS):\n",
    "            new_state = tweak_by_index(state, index)\n",
    "            evals += 1\n",
    "            new_state_fitness = fitness(problem, new_state)\n",
    "            if new_state_fitness > succ_fitness:\n",
    "                succ = new_state\n",
    "                succ_fitness = new_state_fitness\n",
    "        if succ_fitness > best_fitness:\n",
    "            state = succ\n",
    "            best_fitness = succ_fitness\n",
    "            changes += 1\n",
    "        else:\n",
    "            break\n",
    "\n",
    "    it += 1\n",
    "    if it == max_it:\n",
    "        print('Maximum number of iterations reached.')\n",
    "    print(\n",
    "        f'Terminated after {it} iterations.',\n",
    "        f'Terminated after {changes} changes.',\n",
    "        f'Number of evaluations: {evals}.',\n",
    "        sep='\\n',\n",
    "    )\n",
    "\n",
    "    goal, cost = best_fitness\n",
    "    cond = goal if isinstance(goal, bool) else goal == problem.shape[1]\n",
    "\n",
    "    print(f'Goal reached? {\"Yes\" if cond else \"No\"}', f'State cost: {abs(cost)}', sep='\\n')\n",
    "    return state"
   ]
  },
  {
   "cell_type": "code",
   "execution_count": 12,
   "metadata": {},
   "outputs": [
    {
     "name": "stderr",
     "output_type": "stream",
     "text": [
      "  1%|          | 10/1000 [00:01<03:07,  5.27it/s]"
     ]
    },
    {
     "name": "stdout",
     "output_type": "stream",
     "text": [
      "Terminated after 11 iterations.\n",
      "Terminated after 10 changes.\n",
      "Number of evaluations: 11001.\n",
      "Goal reached? Yes\n",
      "State cost: 10\n"
     ]
    },
    {
     "name": "stderr",
     "output_type": "stream",
     "text": [
      "\n"
     ]
    }
   ],
   "source": [
    "_ = SAHC(problem, initial_state, fitness, 1_000)"
   ]
  },
  {
   "cell_type": "code",
   "execution_count": 13,
   "metadata": {},
   "outputs": [],
   "source": [
    "def SAHCwReplacement(problem, state, fitness, n_neighbors, max_it):\n",
    "    \"\"\"\n",
    "    Steepest-Ascent Hill Climber implementation.\n",
    "\n",
    "    Args:\n",
    "        problem: 2-D boolean ndarray;\n",
    "        state: 1-D boolean ndarray (dim equal to #rows of problem);\n",
    "        fitness: fitness function to evaluate a state;\n",
    "        n_neighbors: number of desired tweaks to try;\n",
    "        max_it: maximum number of iterations (int).\n",
    "\n",
    "    Returns:\n",
    "        Possible state solution to the problem.\n",
    "    \"\"\"\n",
    "    changes = 0\n",
    "    evals = 1\n",
    "    best_fitness = fitness(problem, state)\n",
    "    for it in tqdm(range(max_it)):\n",
    "        index = randint(0, NUM_SETS - 1)\n",
    "        succ = tweak_by_index(state, index)\n",
    "        evals += 1\n",
    "        succ_fitness = fitness(problem, succ)\n",
    "        for index in set(sample(range(NUM_SETS), n_neighbors)) - {index}:\n",
    "            new_state = tweak_by_index(state, index)\n",
    "            evals += 1\n",
    "            new_state_fitness = fitness(problem, new_state)\n",
    "            if new_state_fitness > succ_fitness:\n",
    "                succ = new_state\n",
    "                succ_fitness = new_state_fitness\n",
    "        if succ_fitness > best_fitness:\n",
    "            state = succ\n",
    "            best_fitness = succ_fitness\n",
    "            changes += 1\n",
    "        else:\n",
    "            break\n",
    "\n",
    "    it += 1\n",
    "    if it == max_it:\n",
    "        print('Maximum number of iterations reached.')\n",
    "    print(\n",
    "        f'Terminated after {it} iterations.',\n",
    "        f'Terminated after {changes} changes.',\n",
    "        f'Number of evaluations: {evals}.',\n",
    "        sep='\\n',\n",
    "    )\n",
    "\n",
    "    goal, cost = best_fitness\n",
    "    cond = goal if isinstance(goal, bool) else goal == problem.shape[1]\n",
    "\n",
    "    print(f'Goal reached? {\"Yes\" if cond else \"No\"}', f'State cost: {abs(cost)}', sep='\\n')\n",
    "    return state"
   ]
  },
  {
   "cell_type": "code",
   "execution_count": 14,
   "metadata": {},
   "outputs": [
    {
     "name": "stderr",
     "output_type": "stream",
     "text": [
      "  1%|          | 11/1000 [00:00<00:19, 50.69it/s]"
     ]
    },
    {
     "name": "stdout",
     "output_type": "stream",
     "text": [
      "Terminated after 12 iterations.\n",
      "Terminated after 11 changes.\n",
      "Number of evaluations: 1211.\n",
      "Goal reached? Yes\n",
      "State cost: 11\n"
     ]
    },
    {
     "name": "stderr",
     "output_type": "stream",
     "text": [
      "\n"
     ]
    }
   ],
   "source": [
    "_ = SAHCwReplacement(problem, initial_state, fitness, 100, 1_000)"
   ]
  },
  {
   "cell_type": "markdown",
   "metadata": {},
   "source": [
    "For the following method, I took suggestions and code parts from these links:\n",
    "- [www.geeksforgeeks.org](https://www.geeksforgeeks.org/what-is-tabu-search/);\n",
    "- [stackoverflow.com](https://stackoverflow.com/questions/60492520/check-if-array-is-in-deque-of-arrays-python)\n",
    "\n",
    "I implemented the method in a slightly different way than what you can find on the first link. I leave the search is the best successor is not better than the best current solution or each successor is already in the tabu list."
   ]
  },
  {
   "cell_type": "code",
   "execution_count": 15,
   "metadata": {},
   "outputs": [],
   "source": [
    "def tabu_search(problem, state, fitness, n_neighbors, max_tabu_list, max_it):\n",
    "    \"\"\"\n",
    "    Steepest-Ascent Hill Climber implementation.\n",
    "\n",
    "    Args:\n",
    "        problem: 2-D boolean ndarray;\n",
    "        state: 1-D boolean ndarray (dim equal to #rows of problem);\n",
    "        fitness: fitness function to evaluate a state;\n",
    "        n_neighbors: number of desired tweaks to try;\n",
    "        max_tabu_list: tabu list size;\n",
    "        max_it: maximum number of iterations (int).\n",
    "\n",
    "    Returns:\n",
    "        Possible state solution to the problem.\n",
    "    \"\"\"\n",
    "    changes = 0\n",
    "    evals = 1\n",
    "    best_fitness = fitness(problem, state)\n",
    "    tabu_list = deque()\n",
    "    for it in tqdm(range(max_it)):\n",
    "        index = randint(0, NUM_SETS - 1)\n",
    "        succ = tweak_by_index(state, index)\n",
    "        evals += 1\n",
    "        succ_fitness = fitness(problem, succ)\n",
    "        for index in set(sample(range(NUM_SETS), n_neighbors)) - {index}:\n",
    "            new_state = tweak_by_index(state, index)\n",
    "            if not any((new_state == elem).all() for elem in tabu_list):\n",
    "                evals += 1\n",
    "                new_state_fitness = fitness(problem, new_state)\n",
    "                if new_state_fitness > succ_fitness:\n",
    "                    succ = new_state\n",
    "                    succ_fitness = new_state_fitness\n",
    "        if any((succ == elem).all() for elem in tabu_list):\n",
    "            break\n",
    "        tabu_list.append(succ)\n",
    "        if len(tabu_list) > max_tabu_list:\n",
    "            tabu_list.popleft()\n",
    "        if succ_fitness > best_fitness:\n",
    "            state = succ\n",
    "            best_fitness = succ_fitness\n",
    "            changes += 1\n",
    "        else:\n",
    "            break\n",
    "\n",
    "    it += 1\n",
    "    if it == max_it:\n",
    "        print('Maximum number of iterations reached.')\n",
    "    print(\n",
    "        f'Terminated after {it} iterations.',\n",
    "        f'Terminated after {changes} changes.',\n",
    "        f'Number of evaluations: {evals}.',\n",
    "        sep='\\n',\n",
    "    )\n",
    "\n",
    "    goal, cost = best_fitness\n",
    "    cond = goal if isinstance(goal, bool) else goal == problem.shape[1]\n",
    "\n",
    "    print(f'Goal reached? {\"Yes\" if cond else \"No\"}', f'State cost: {abs(cost)}', sep='\\n')\n",
    "    return state"
   ]
  },
  {
   "cell_type": "code",
   "execution_count": 16,
   "metadata": {},
   "outputs": [
    {
     "name": "stderr",
     "output_type": "stream",
     "text": [
      "  1%|          | 11/1000 [00:00<00:20, 49.38it/s]"
     ]
    },
    {
     "name": "stdout",
     "output_type": "stream",
     "text": [
      "Terminated after 12 iterations.\n",
      "Terminated after 11 changes.\n",
      "Number of evaluations: 1210.\n",
      "Goal reached? Yes\n",
      "State cost: 11\n"
     ]
    },
    {
     "name": "stderr",
     "output_type": "stream",
     "text": [
      "\n"
     ]
    }
   ],
   "source": [
    "_ = tabu_search(problem, initial_state, fitness, 100, 5, 1_000)"
   ]
  },
  {
   "cell_type": "code",
   "execution_count": 17,
   "metadata": {},
   "outputs": [],
   "source": [
    "def simulated_annealing(problem, state, fitness, max_it):\n",
    "    \"\"\"\n",
    "    Simulated Annealing implementation.\n",
    "\n",
    "    Args:\n",
    "        problem: 2-D boolean ndarray;\n",
    "        state: 1-D boolean ndarray (dim equal to #rows of problem);\n",
    "        fitness: fitness function to evaluate a state;\n",
    "        max_it: maximum number of iterations (int).\n",
    "\n",
    "    Returns:\n",
    "        Possible state solution to the problem.\n",
    "    \"\"\"\n",
    "    changes = 0\n",
    "    evals = 1\n",
    "    best_fitness = fitness(problem, state)\n",
    "    for it in tqdm(range(max_it)):\n",
    "        T = 1 - ((it + 1) / max_it)\n",
    "        if T == 0:\n",
    "            break\n",
    "        new_state = random_tweak(state)\n",
    "        evals += 1\n",
    "        new_state_fitness = fitness(problem, new_state)\n",
    "        if new_state_fitness > best_fitness:\n",
    "            state = new_state\n",
    "            best_fitness = new_state_fitness\n",
    "            changes += 1\n",
    "        else:\n",
    "            if uniform(0, 1) < math.exp((new_state_fitness[1] - best_fitness[1]) / T):\n",
    "                state = new_state\n",
    "                best_fitness = new_state_fitness\n",
    "                changes += 1\n",
    "\n",
    "    it += 1\n",
    "    print(\n",
    "        f'Terminated after {it} iterations.',\n",
    "        f'Terminated after {changes} changes.',\n",
    "        f'Number of evaluations: {evals}.',\n",
    "        sep='\\n',\n",
    "    )\n",
    "\n",
    "    goal, cost = best_fitness\n",
    "    cond = goal if isinstance(goal, bool) else goal == problem.shape[1]\n",
    "\n",
    "    print(f'Goal reached? {\"Yes\" if cond else \"No\"}', f'State cost: {abs(cost)}', sep='\\n')\n",
    "    return state"
   ]
  },
  {
   "cell_type": "code",
   "execution_count": 28,
   "metadata": {},
   "outputs": [
    {
     "name": "stderr",
     "output_type": "stream",
     "text": [
      "100%|█████████▉| 5399/5400 [00:01<00:00, 4122.60it/s]"
     ]
    },
    {
     "name": "stdout",
     "output_type": "stream",
     "text": [
      "Terminated after 5400 iterations.\n",
      "Terminated after 1423 changes.\n",
      "Number of evaluations: 5400.\n",
      "Goal reached? Yes\n",
      "State cost: 25\n"
     ]
    },
    {
     "name": "stderr",
     "output_type": "stream",
     "text": [
      "\n"
     ]
    }
   ],
   "source": [
    "_ = simulated_annealing(problem, initial_state, fitness, 5_400)"
   ]
  },
  {
   "cell_type": "markdown",
   "metadata": {},
   "source": [
    "## Results"
   ]
  },
  {
   "cell_type": "code",
   "execution_count": 29,
   "metadata": {},
   "outputs": [
    {
     "name": "stdout",
     "output_type": "stream",
     "text": [
      "** Combination: NUM_POINTS=100, NUM_SETS=100, DENSITY=0.3 **\n",
      "\n",
      "Problem shape: (100, 100)\n",
      "Initial state shape: (100,), Taken sets: 4\n",
      "\n",
      "-- RMHC\n"
     ]
    },
    {
     "name": "stderr",
     "output_type": "stream",
     "text": [
      " 20%|██        | 2048/10000 [00:00<00:00, 34441.02it/s]\n"
     ]
    },
    {
     "name": "stdout",
     "output_type": "stream",
     "text": [
      "Maximum number of evaluations without improvement reached.\n",
      "Terminated after 2049 iterations.\n",
      "Terminated after 12 changes.\n",
      "Number of evaluations: 2050.\n",
      "Goal reached? Yes\n",
      "State cost: 10\n",
      "\n",
      "-- SAHC\n"
     ]
    },
    {
     "name": "stderr",
     "output_type": "stream",
     "text": [
      "  0%|          | 5/1000 [00:00<00:03, 327.50it/s]\n"
     ]
    },
    {
     "name": "stdout",
     "output_type": "stream",
     "text": [
      "Terminated after 6 iterations.\n",
      "Terminated after 5 changes.\n",
      "Number of evaluations: 601.\n",
      "Goal reached? Yes\n",
      "State cost: 7\n",
      "\n",
      "-- SAHCwReplacement\n"
     ]
    },
    {
     "name": "stderr",
     "output_type": "stream",
     "text": [
      "  0%|          | 5/1000 [00:00<00:03, 301.74it/s]\n"
     ]
    },
    {
     "name": "stdout",
     "output_type": "stream",
     "text": [
      "Terminated after 6 iterations.\n",
      "Terminated after 5 changes.\n",
      "Number of evaluations: 601.\n",
      "Goal reached? Yes\n",
      "State cost: 7\n",
      "\n",
      "-- tabu_search\n"
     ]
    },
    {
     "name": "stderr",
     "output_type": "stream",
     "text": [
      "  0%|          | 4/1000 [00:00<00:03, 258.51it/s]\n"
     ]
    },
    {
     "name": "stdout",
     "output_type": "stream",
     "text": [
      "Terminated after 5 iterations.\n",
      "Terminated after 4 changes.\n",
      "Number of evaluations: 498.\n",
      "Goal reached? Yes\n",
      "State cost: 8\n",
      "\n",
      "-- simulated_annealing\n"
     ]
    },
    {
     "name": "stderr",
     "output_type": "stream",
     "text": [
      "100%|█████████▉| 5399/5400 [00:00<00:00, 29938.72it/s]\n"
     ]
    },
    {
     "name": "stdout",
     "output_type": "stream",
     "text": [
      "Terminated after 5400 iterations.\n",
      "Terminated after 1741 changes.\n",
      "Number of evaluations: 5400.\n",
      "Goal reached? Yes\n",
      "State cost: 11\n",
      "\n",
      "** Combination: NUM_POINTS=100, NUM_SETS=100, DENSITY=0.7 **\n",
      "\n",
      "Problem shape: (100, 100)\n",
      "Initial state shape: (100,), Taken sets: 4\n",
      "\n",
      "-- RMHC\n"
     ]
    },
    {
     "name": "stderr",
     "output_type": "stream",
     "text": [
      " 20%|█▉        | 1999/10000 [00:00<00:00, 39376.76it/s]"
     ]
    },
    {
     "name": "stdout",
     "output_type": "stream",
     "text": [
      "Maximum number of evaluations without improvement reached.\n"
     ]
    },
    {
     "name": "stderr",
     "output_type": "stream",
     "text": [
      "\n"
     ]
    },
    {
     "name": "stdout",
     "output_type": "stream",
     "text": [
      "Terminated after 2000 iterations.\n",
      "Terminated after 0 changes.\n",
      "Number of evaluations: 2001.\n",
      "Goal reached? Yes\n",
      "State cost: 4\n",
      "\n",
      "-- SAHC\n"
     ]
    },
    {
     "name": "stderr",
     "output_type": "stream",
     "text": [
      "  0%|          | 0/1000 [00:00<?, ?it/s]\n"
     ]
    },
    {
     "name": "stdout",
     "output_type": "stream",
     "text": [
      "Terminated after 1 iterations.\n",
      "Terminated after 0 changes.\n",
      "Number of evaluations: 101.\n",
      "Goal reached? Yes\n",
      "State cost: 4\n",
      "\n",
      "-- SAHCwReplacement\n"
     ]
    },
    {
     "name": "stderr",
     "output_type": "stream",
     "text": [
      "  0%|          | 0/1000 [00:00<?, ?it/s]\n"
     ]
    },
    {
     "name": "stdout",
     "output_type": "stream",
     "text": [
      "Terminated after 1 iterations.\n",
      "Terminated after 0 changes.\n",
      "Number of evaluations: 101.\n",
      "Goal reached? Yes\n",
      "State cost: 4\n",
      "\n",
      "-- tabu_search\n"
     ]
    },
    {
     "name": "stderr",
     "output_type": "stream",
     "text": [
      "  0%|          | 0/1000 [00:00<?, ?it/s]\n"
     ]
    },
    {
     "name": "stdout",
     "output_type": "stream",
     "text": [
      "Terminated after 1 iterations.\n",
      "Terminated after 0 changes.\n",
      "Number of evaluations: 101.\n",
      "Goal reached? Yes\n",
      "State cost: 4\n",
      "\n",
      "-- simulated_annealing\n"
     ]
    },
    {
     "name": "stderr",
     "output_type": "stream",
     "text": [
      "100%|█████████▉| 5399/5400 [00:00<00:00, 30658.84it/s]"
     ]
    },
    {
     "name": "stdout",
     "output_type": "stream",
     "text": [
      "Terminated after 5400 iterations.\n",
      "Terminated after 1484 changes.\n",
      "Number of evaluations: 5400.\n",
      "Goal reached? Yes\n",
      "State cost: 4\n",
      "\n",
      "** Combination: NUM_POINTS=1000, NUM_SETS=1000, DENSITY=0.3 **\n",
      "\n"
     ]
    },
    {
     "name": "stderr",
     "output_type": "stream",
     "text": [
      "\n"
     ]
    },
    {
     "name": "stdout",
     "output_type": "stream",
     "text": [
      "Problem shape: (1000, 1000)\n",
      "Initial state shape: (1000,), Taken sets: 10\n",
      "\n",
      "-- RMHC\n"
     ]
    },
    {
     "name": "stderr",
     "output_type": "stream",
     "text": [
      " 26%|██▌       | 2565/10000 [00:00<00:01, 5296.96it/s]\n"
     ]
    },
    {
     "name": "stdout",
     "output_type": "stream",
     "text": [
      "Maximum number of evaluations without improvement reached.\n",
      "Terminated after 2566 iterations.\n",
      "Terminated after 9 changes.\n",
      "Number of evaluations: 2567.\n",
      "Goal reached? Yes\n",
      "State cost: 15\n",
      "\n",
      "-- SAHC\n"
     ]
    },
    {
     "name": "stderr",
     "output_type": "stream",
     "text": [
      "  0%|          | 3/1000 [00:00<03:50,  4.32it/s]\n"
     ]
    },
    {
     "name": "stdout",
     "output_type": "stream",
     "text": [
      "Terminated after 4 iterations.\n",
      "Terminated after 3 changes.\n",
      "Number of evaluations: 4001.\n",
      "Goal reached? Yes\n",
      "State cost: 13\n",
      "\n",
      "-- SAHCwReplacement\n"
     ]
    },
    {
     "name": "stderr",
     "output_type": "stream",
     "text": [
      "  0%|          | 3/1000 [00:00<00:24, 41.47it/s]\n"
     ]
    },
    {
     "name": "stdout",
     "output_type": "stream",
     "text": [
      "Terminated after 4 iterations.\n",
      "Terminated after 3 changes.\n",
      "Number of evaluations: 405.\n",
      "Goal reached? Yes\n",
      "State cost: 13\n",
      "\n",
      "-- tabu_search\n"
     ]
    },
    {
     "name": "stderr",
     "output_type": "stream",
     "text": [
      "  0%|          | 3/1000 [00:00<00:24, 40.13it/s]\n"
     ]
    },
    {
     "name": "stdout",
     "output_type": "stream",
     "text": [
      "Terminated after 4 iterations.\n",
      "Terminated after 3 changes.\n",
      "Number of evaluations: 403.\n",
      "Goal reached? Yes\n",
      "State cost: 13\n",
      "\n",
      "-- simulated_annealing\n"
     ]
    },
    {
     "name": "stderr",
     "output_type": "stream",
     "text": [
      "100%|█████████▉| 5399/5400 [00:01<00:00, 4110.66it/s]\n"
     ]
    },
    {
     "name": "stdout",
     "output_type": "stream",
     "text": [
      "Terminated after 5400 iterations.\n",
      "Terminated after 1419 changes.\n",
      "Number of evaluations: 5400.\n",
      "Goal reached? Yes\n",
      "State cost: 23\n",
      "\n",
      "** Combination: NUM_POINTS=1000, NUM_SETS=1000, DENSITY=0.7 **\n",
      "\n",
      "Problem shape: (1000, 1000)\n",
      "Initial state shape: (1000,), Taken sets: 10\n",
      "\n",
      "-- RMHC\n"
     ]
    },
    {
     "name": "stderr",
     "output_type": "stream",
     "text": [
      " 52%|█████▏    | 5246/10000 [00:00<00:00, 5731.18it/s]\n"
     ]
    },
    {
     "name": "stdout",
     "output_type": "stream",
     "text": [
      "Maximum number of evaluations without improvement reached.\n",
      "Terminated after 5247 iterations.\n",
      "Terminated after 5 changes.\n",
      "Number of evaluations: 5248.\n",
      "Goal reached? Yes\n",
      "State cost: 5\n",
      "\n",
      "-- SAHC\n"
     ]
    },
    {
     "name": "stderr",
     "output_type": "stream",
     "text": [
      "  0%|          | 5/1000 [00:01<03:25,  4.84it/s]\n"
     ]
    },
    {
     "name": "stdout",
     "output_type": "stream",
     "text": [
      "Terminated after 6 iterations.\n",
      "Terminated after 5 changes.\n",
      "Number of evaluations: 6001.\n",
      "Goal reached? Yes\n",
      "State cost: 5\n",
      "\n",
      "-- SAHCwReplacement\n"
     ]
    },
    {
     "name": "stderr",
     "output_type": "stream",
     "text": [
      "  0%|          | 0/1000 [00:00<?, ?it/s]\n"
     ]
    },
    {
     "name": "stdout",
     "output_type": "stream",
     "text": [
      "Terminated after 1 iterations.\n",
      "Terminated after 0 changes.\n",
      "Number of evaluations: 102.\n",
      "Goal reached? Yes\n",
      "State cost: 10\n",
      "\n",
      "-- tabu_search\n"
     ]
    },
    {
     "name": "stderr",
     "output_type": "stream",
     "text": [
      "  0%|          | 2/1000 [00:00<00:29, 34.41it/s]\n"
     ]
    },
    {
     "name": "stdout",
     "output_type": "stream",
     "text": [
      "Terminated after 3 iterations.\n",
      "Terminated after 2 changes.\n",
      "Number of evaluations: 304.\n",
      "Goal reached? Yes\n",
      "State cost: 8\n",
      "\n",
      "-- simulated_annealing\n"
     ]
    },
    {
     "name": "stderr",
     "output_type": "stream",
     "text": [
      "100%|█████████▉| 5399/5400 [00:01<00:00, 4064.02it/s]\n"
     ]
    },
    {
     "name": "stdout",
     "output_type": "stream",
     "text": [
      "Terminated after 5400 iterations.\n",
      "Terminated after 1351 changes.\n",
      "Number of evaluations: 5400.\n",
      "Goal reached? Yes\n",
      "State cost: 31\n",
      "\n",
      "** Combination: NUM_POINTS=5000, NUM_SETS=5000, DENSITY=0.3 **\n",
      "\n",
      "Problem shape: (5000, 5000)\n",
      "Initial state shape: (5000,), Taken sets: 106\n",
      "\n",
      "-- RMHC\n"
     ]
    },
    {
     "name": "stderr",
     "output_type": "stream",
     "text": [
      " 88%|████████▊ | 8824/10000 [00:07<00:01, 1164.04it/s]\n"
     ]
    },
    {
     "name": "stdout",
     "output_type": "stream",
     "text": [
      "Maximum number of evaluations without improvement reached.\n",
      "Terminated after 8825 iterations.\n",
      "Terminated after 83 changes.\n",
      "Number of evaluations: 8826.\n",
      "Goal reached? Yes\n",
      "State cost: 23\n",
      "\n",
      "-- SAHC\n"
     ]
    },
    {
     "name": "stderr",
     "output_type": "stream",
     "text": [
      "  9%|▉         | 88/1000 [06:17<1:05:14,  4.29s/it]\n"
     ]
    },
    {
     "name": "stdout",
     "output_type": "stream",
     "text": [
      "Terminated after 89 iterations.\n",
      "Terminated after 88 changes.\n",
      "Number of evaluations: 445001.\n",
      "Goal reached? Yes\n",
      "State cost: 18\n",
      "\n",
      "-- SAHCwReplacement\n"
     ]
    },
    {
     "name": "stderr",
     "output_type": "stream",
     "text": [
      "  0%|          | 2/1000 [00:00<02:16,  7.33it/s]\n"
     ]
    },
    {
     "name": "stdout",
     "output_type": "stream",
     "text": [
      "Terminated after 3 iterations.\n",
      "Terminated after 2 changes.\n",
      "Number of evaluations: 304.\n",
      "Goal reached? Yes\n",
      "State cost: 104\n",
      "\n",
      "-- tabu_search\n"
     ]
    },
    {
     "name": "stderr",
     "output_type": "stream",
     "text": [
      "  1%|          | 7/1000 [00:00<01:42,  9.68it/s]\n"
     ]
    },
    {
     "name": "stdout",
     "output_type": "stream",
     "text": [
      "Terminated after 8 iterations.\n",
      "Terminated after 7 changes.\n",
      "Number of evaluations: 808.\n",
      "Goal reached? Yes\n",
      "State cost: 99\n",
      "\n",
      "-- simulated_annealing\n"
     ]
    },
    {
     "name": "stderr",
     "output_type": "stream",
     "text": [
      "100%|█████████▉| 5399/5400 [00:06<00:00, 877.38it/s]\n"
     ]
    },
    {
     "name": "stdout",
     "output_type": "stream",
     "text": [
      "Terminated after 5400 iterations.\n",
      "Terminated after 1243 changes.\n",
      "Number of evaluations: 5400.\n",
      "Goal reached? Yes\n",
      "State cost: 377\n",
      "\n",
      "** Combination: NUM_POINTS=5000, NUM_SETS=5000, DENSITY=0.7 **\n",
      "\n",
      "Problem shape: (5000, 5000)\n",
      "Initial state shape: (5000,), Taken sets: 106\n",
      "\n",
      "-- RMHC\n"
     ]
    },
    {
     "name": "stderr",
     "output_type": "stream",
     "text": [
      "100%|██████████| 10000/10000 [00:08<00:00, 1175.16it/s]\n"
     ]
    },
    {
     "name": "stdout",
     "output_type": "stream",
     "text": [
      "Maximum number of iterations reached.\n",
      "Terminated after 10000 iterations.\n",
      "Terminated after 93 changes.\n",
      "Number of evaluations: 10001.\n",
      "Goal reached? Yes\n",
      "State cost: 13\n",
      "\n",
      "-- SAHC\n"
     ]
    },
    {
     "name": "stderr",
     "output_type": "stream",
     "text": [
      " 10%|█         | 100/1000 [07:08<1:04:15,  4.28s/it]\n"
     ]
    },
    {
     "name": "stdout",
     "output_type": "stream",
     "text": [
      "Terminated after 101 iterations.\n",
      "Terminated after 100 changes.\n",
      "Number of evaluations: 505001.\n",
      "Goal reached? Yes\n",
      "State cost: 6\n",
      "\n",
      "-- SAHCwReplacement\n"
     ]
    },
    {
     "name": "stderr",
     "output_type": "stream",
     "text": [
      "  0%|          | 2/1000 [00:00<02:14,  7.41it/s]\n"
     ]
    },
    {
     "name": "stdout",
     "output_type": "stream",
     "text": [
      "Terminated after 3 iterations.\n",
      "Terminated after 2 changes.\n",
      "Number of evaluations: 304.\n",
      "Goal reached? Yes\n",
      "State cost: 104\n",
      "\n",
      "-- tabu_search\n"
     ]
    },
    {
     "name": "stderr",
     "output_type": "stream",
     "text": [
      "  1%|          | 6/1000 [00:00<01:45,  9.45it/s]\n"
     ]
    },
    {
     "name": "stdout",
     "output_type": "stream",
     "text": [
      "Terminated after 7 iterations.\n",
      "Terminated after 6 changes.\n",
      "Number of evaluations: 708.\n",
      "Goal reached? Yes\n",
      "State cost: 100\n",
      "\n",
      "-- simulated_annealing\n"
     ]
    },
    {
     "name": "stderr",
     "output_type": "stream",
     "text": [
      "100%|█████████▉| 5399/5400 [00:06<00:00, 872.37it/s]"
     ]
    },
    {
     "name": "stdout",
     "output_type": "stream",
     "text": [
      "Terminated after 5400 iterations.\n",
      "Terminated after 1188 changes.\n",
      "Number of evaluations: 5400.\n",
      "Goal reached? Yes\n",
      "State cost: 386\n",
      "\n"
     ]
    },
    {
     "name": "stderr",
     "output_type": "stream",
     "text": [
      "\n"
     ]
    }
   ],
   "source": [
    "for NUM_POINTS, DENSITY, PROB in product((100, 1_000, 5_000), (0.3, 0.7), (0.02,)):\n",
    "    NUM_SETS = NUM_POINTS\n",
    "\n",
    "    print(f'** Combination: NUM_POINTS={NUM_POINTS}, NUM_SETS={NUM_SETS}, DENSITY={DENSITY} **', end='\\n\\n')\n",
    "\n",
    "    problem, initial_state = make_set_covering_problem(NUM_POINTS, NUM_SETS, DENSITY, PROB)\n",
    "    print(\n",
    "        f'Problem shape: {problem.shape}',\n",
    "        f'Initial state shape: {initial_state.shape}, Taken sets: {np.sum(initial_state)}',\n",
    "        sep='\\n',\n",
    "    )\n",
    "\n",
    "    print('\\n-- RMHC')\n",
    "    _ = RMHC(problem, initial_state, fitness, 10_000, 2_000)\n",
    "    print('\\n-- SAHC')\n",
    "    _ = SAHC(problem, initial_state, fitness, 1_000)\n",
    "    print('\\n-- SAHCwReplacement')\n",
    "    _ = SAHCwReplacement(problem, initial_state, fitness, 100, 1_000)\n",
    "    print('\\n-- tabu_search')\n",
    "    _ = tabu_search(problem, initial_state, fitness, 100, 5, 1_000)\n",
    "    print('\\n-- simulated_annealing')\n",
    "    _ = simulated_annealing(problem, initial_state, fitness, 5_400)\n",
    "\n",
    "    print()"
   ]
  }
 ],
 "metadata": {
  "kernelspec": {
   "display_name": "ci",
   "language": "python",
   "name": "python3"
  },
  "language_info": {
   "codemirror_mode": {
    "name": "ipython",
    "version": 3
   },
   "file_extension": ".py",
   "mimetype": "text/x-python",
   "name": "python",
   "nbconvert_exporter": "python",
   "pygments_lexer": "ipython3",
   "version": "3.12.0"
  }
 },
 "nbformat": 4,
 "nbformat_minor": 2
}
