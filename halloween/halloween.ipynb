{
 "cells": [
  {
   "cell_type": "code",
   "execution_count": 1,
   "metadata": {},
   "outputs": [],
   "source": [
    "from itertools import product\n",
    "from random import random, randint, seed, uniform, sample\n",
    "import numpy as np\n",
    "import math\n",
    "from scipy import sparse\n",
    "from copy import copy\n",
    "from tqdm import tqdm\n",
    "from functools import reduce"
   ]
  },
  {
   "cell_type": "code",
   "execution_count": 2,
   "metadata": {},
   "outputs": [],
   "source": [
    "def make_set_covering_problem(num_points, num_sets, density, prob):\n",
    "    \"\"\"Returns a sparse array where rows are sets and columns are the covered items\"\"\"\n",
    "    seed(num_points * 2654435761 + num_sets + density)\n",
    "    np.random.seed(int(num_points * 435761 + num_sets + density))\n",
    "    sets = sparse.lil_array((num_sets, num_points), dtype=bool).toarray()\n",
    "    for s, p in product(range(num_sets), range(num_points)):\n",
    "        if random() < density:\n",
    "            sets[s, p] = True\n",
    "    for p in range(num_points):\n",
    "        sets[randint(0, num_sets - 1), p] = True\n",
    "    initial_state = np.random.choice([True, False], size=(num_sets,), p=[prob, 1 - prob])\n",
    "    return sets, initial_state"
   ]
  },
  {
   "cell_type": "markdown",
   "metadata": {},
   "source": [
    "# Halloween Challenge\n",
    "\n",
    "Find the best solution with the fewest calls to the fitness functions for:\n",
    "\n",
    "* `num_points = [100, 1_000, 5_000]`\n",
    "* `num_sets = num_points`\n",
    "* `density = [.3, .7]` "
   ]
  },
  {
   "cell_type": "code",
   "execution_count": 3,
   "metadata": {},
   "outputs": [
    {
     "name": "stdout",
     "output_type": "stream",
     "text": [
      "Problem shape: (1000, 1000)\n",
      "Initial state shape: (1000,), Taken sets: 10\n"
     ]
    }
   ],
   "source": [
    "NUM_SETS = 1000\n",
    "NUM_POINTS = 1000\n",
    "DENSITY = 0.3\n",
    "PROB = 0.02\n",
    "\n",
    "problem, initial_state = make_set_covering_problem(NUM_POINTS, NUM_SETS, DENSITY, PROB)\n",
    "print(\n",
    "    f'Problem shape: {problem.shape}',\n",
    "    f'Initial state shape: {initial_state.shape}, Taken sets: {np.sum(initial_state)}',\n",
    "    sep='\\n',\n",
    ")"
   ]
  },
  {
   "cell_type": "code",
   "execution_count": 4,
   "metadata": {},
   "outputs": [],
   "source": [
    "def check_goal(problem, state):\n",
    "    return np.all(\n",
    "        reduce(\n",
    "            np.logical_or,\n",
    "            [problem[i] for i, t in enumerate(state) if t],\n",
    "            np.array([False for _ in range(NUM_POINTS)]),\n",
    "        )\n",
    "    )"
   ]
  },
  {
   "cell_type": "code",
   "execution_count": 5,
   "metadata": {},
   "outputs": [],
   "source": [
    "assert check_goal(problem, np.full((NUM_SETS,), True)), \"Problem not solvable\""
   ]
  },
  {
   "cell_type": "code",
   "execution_count": 6,
   "metadata": {},
   "outputs": [],
   "source": [
    "def fitness1(problem, state):\n",
    "    goal = check_goal(problem, state)\n",
    "    cost = np.sum(state)\n",
    "    return goal, cost if not goal else -cost\n",
    "\n",
    "\n",
    "def fitness2(problem, state):\n",
    "    def covered(state):\n",
    "        return reduce(\n",
    "            np.logical_or,\n",
    "            [problem[i] for i, t in enumerate(state) if t],\n",
    "            np.array([False for _ in range(NUM_POINTS)]),\n",
    "        )\n",
    "\n",
    "    cost = sum(state)\n",
    "    occupied_cells = np.sum(covered(state))\n",
    "    return occupied_cells, -cost\n",
    "\n",
    "\n",
    "fitness = fitness2"
   ]
  },
  {
   "cell_type": "code",
   "execution_count": 7,
   "metadata": {},
   "outputs": [
    {
     "data": {
      "text/plain": [
       "(974, -10)"
      ]
     },
     "execution_count": 7,
     "metadata": {},
     "output_type": "execute_result"
    }
   ],
   "source": [
    "fitness(problem, initial_state)"
   ]
  },
  {
   "cell_type": "code",
   "execution_count": 8,
   "metadata": {},
   "outputs": [],
   "source": [
    "def random_tweak(state):\n",
    "    \"\"\"\n",
    "    Tweak a state randomly.\n",
    "\n",
    "    Args:\n",
    "        state: 1-D boolean ndarray.\n",
    "\n",
    "    Returns:\n",
    "        New state with a changed boolean value.\n",
    "    \"\"\"\n",
    "    new_state = copy(state)\n",
    "    index = randint(0, NUM_SETS - 1)\n",
    "    new_state[index] = not new_state[index]\n",
    "    return new_state\n",
    "\n",
    "\n",
    "def tweak_by_index(state, index):\n",
    "    \"\"\"\n",
    "    Tweak a state changing the value in position index.\n",
    "\n",
    "    Args:\n",
    "        state: 1-D boolean ndarray;\n",
    "        index: int value indicating the boolean value to change.\n",
    "\n",
    "    Returns:\n",
    "        New state with a changed boolean value according\n",
    "        to the value of index.\n",
    "    \"\"\"\n",
    "    new_state = copy(state)\n",
    "    new_state[index] = not new_state[index]\n",
    "    return new_state"
   ]
  },
  {
   "cell_type": "code",
   "execution_count": 9,
   "metadata": {},
   "outputs": [],
   "source": [
    "def RMHC(problem, state, fitness, max_it, max_give_up):\n",
    "    \"\"\"\n",
    "    Random-Mutation Hill Climber implementation.\n",
    "\n",
    "    Args:\n",
    "        problem: 2-D boolean ndarray;\n",
    "        state: 1-D boolean ndarray (dim equal to #rows of problem);\n",
    "        fitness: fitness function to evaluate a state;\n",
    "        max_it: maximum number of iterations (int);\n",
    "        max_give_up: maximum number of evaluations before giving up (int).\n",
    "\n",
    "    Returns:\n",
    "        Possible state solution to the problem.\n",
    "    \"\"\"\n",
    "    changes = 0\n",
    "    evals_giveup = 0\n",
    "    for evals in tqdm(range(max_it)):\n",
    "        new_state = random_tweak(state)\n",
    "        if fitness(problem, new_state) > fitness(problem, state):\n",
    "            state = new_state\n",
    "            changes += 1\n",
    "            evals_giveup = 0\n",
    "        else:\n",
    "            evals_giveup += 1\n",
    "            if evals_giveup == max_give_up:\n",
    "                print('Maximum number of evaluations without improvement reached.')\n",
    "                break\n",
    "\n",
    "    evals += 1\n",
    "    if evals == max_it:\n",
    "        print('Maximum number of iterations reached.')\n",
    "    print(f'Terminated after {changes} changes.', f'Number of evaluations: {evals}.', sep='\\n')\n",
    "\n",
    "    goal, cost = fitness(problem, state)\n",
    "\n",
    "    print(f'Goal reached? {\"Yes\" if goal else \"No\"}', f'State cost: {abs(cost)}', sep='\\n')\n",
    "    return state"
   ]
  },
  {
   "cell_type": "code",
   "execution_count": 10,
   "metadata": {},
   "outputs": [
    {
     "name": "stderr",
     "output_type": "stream",
     "text": [
      " 26%|██▌       | 2565/10000 [00:00<00:02, 2860.60it/s]"
     ]
    },
    {
     "name": "stdout",
     "output_type": "stream",
     "text": [
      "Maximum number of evaluations without improvement reached.\n",
      "Terminated after 9 changes.\n",
      "Number of evaluations: 2566.\n",
      "Goal reached? Yes\n",
      "State cost: 15\n"
     ]
    },
    {
     "name": "stderr",
     "output_type": "stream",
     "text": [
      "\n"
     ]
    }
   ],
   "source": [
    "_ = RMHC(problem, initial_state, fitness, 10_000, 2_000)"
   ]
  },
  {
   "cell_type": "code",
   "execution_count": 11,
   "metadata": {},
   "outputs": [],
   "source": [
    "def SAHC(problem, state, fitness, max_it):\n",
    "    \"\"\"\n",
    "    Steepest-Ascent Hill Climber implementation.\n",
    "\n",
    "    Args:\n",
    "        problem: 2-D boolean ndarray;\n",
    "        state: 1-D boolean ndarray (dim equal to #rows of problem);\n",
    "        fitness: fitness function to evaluate a state;\n",
    "        max_it: maximum number of iterations (int).\n",
    "\n",
    "    Returns:\n",
    "        Possible state solution to the problem.\n",
    "    \"\"\"\n",
    "    evals = 0\n",
    "    changes = 0\n",
    "    for it in tqdm(range(max_it)):\n",
    "        succ = tweak_by_index(state, 0)\n",
    "        for index in range(1, NUM_SETS):\n",
    "            new_state = tweak_by_index(state, index)\n",
    "            evals += 1\n",
    "            if fitness(problem, new_state) > fitness(problem, succ):\n",
    "                succ = new_state\n",
    "        evals += 1\n",
    "        if fitness(problem, succ) > fitness(problem, state):\n",
    "            state = succ\n",
    "            changes += 1\n",
    "        else:\n",
    "            break\n",
    "\n",
    "    it += 1\n",
    "    if it == max_it:\n",
    "        print('Maximum number of iterations reached.')\n",
    "    print(\n",
    "        f'Terminated after {it} iterations.',\n",
    "        f'Terminated after {changes} changes.',\n",
    "        f'Number of evaluations: {evals}.',\n",
    "        sep='\\n',\n",
    "    )\n",
    "\n",
    "    goal, cost = fitness(problem, state)\n",
    "\n",
    "    print(f'Goal reached? {\"Yes\" if goal else \"No\"}', f'State cost: {abs(cost)}', sep='\\n')\n",
    "    return state"
   ]
  },
  {
   "cell_type": "code",
   "execution_count": 12,
   "metadata": {},
   "outputs": [
    {
     "name": "stderr",
     "output_type": "stream",
     "text": [
      "  0%|          | 3/1000 [00:01<07:34,  2.19it/s]"
     ]
    },
    {
     "name": "stdout",
     "output_type": "stream",
     "text": [
      "Terminated after 4 iterations.\n",
      "Terminated after 3 changes.\n",
      "Number of evaluations: 4000.\n",
      "Goal reached? Yes\n",
      "State cost: 13\n"
     ]
    },
    {
     "name": "stderr",
     "output_type": "stream",
     "text": [
      "\n"
     ]
    }
   ],
   "source": [
    "_ = SAHC(problem, initial_state, fitness, 1_000)"
   ]
  },
  {
   "cell_type": "code",
   "execution_count": 13,
   "metadata": {},
   "outputs": [],
   "source": [
    "def SAHCwReplacement(problem, state, fitness, n_neighbors, max_it):\n",
    "    \"\"\"\n",
    "    Steepest-Ascent Hill Climber implementation.\n",
    "\n",
    "    Args:\n",
    "        problem: 2-D boolean ndarray;\n",
    "        state: 1-D boolean ndarray (dim equal to #rows of problem);\n",
    "        fitness: fitness function to evaluate a state;\n",
    "        n_neighbors: number of desired tweaks to try;\n",
    "        max_it: maximum number of iterations (int).\n",
    "\n",
    "    Returns:\n",
    "        Possible state solution to the problem.\n",
    "    \"\"\"\n",
    "    evals = 0\n",
    "    changes = 0\n",
    "    for it in tqdm(range(max_it)):\n",
    "        index = randint(0, NUM_SETS)\n",
    "        succ = tweak_by_index(state, index)\n",
    "        for index in set(sample(range(NUM_SETS), n_neighbors)) - {index}:\n",
    "            new_state = tweak_by_index(state, index)\n",
    "            evals += 1\n",
    "            if fitness(problem, new_state) > fitness(problem, succ):\n",
    "                succ = new_state\n",
    "        evals += 1\n",
    "        if fitness(problem, succ) > fitness(problem, state):\n",
    "            state = succ\n",
    "            changes += 1\n",
    "        else:\n",
    "            break\n",
    "\n",
    "    it += 1\n",
    "    if it == max_it:\n",
    "        print('Maximum number of iterations reached.')\n",
    "    print(\n",
    "        f'Terminated after {it} iterations.',\n",
    "        f'Terminated after {changes} changes.',\n",
    "        f'Number of evaluations: {evals}.',\n",
    "        sep='\\n',\n",
    "    )\n",
    "\n",
    "    goal, cost = fitness(problem, state)\n",
    "\n",
    "    print(f'Goal reached? {\"Yes\" if goal else \"No\"}', f'State cost: {abs(cost)}', sep='\\n')\n",
    "    return state"
   ]
  },
  {
   "cell_type": "code",
   "execution_count": 14,
   "metadata": {},
   "outputs": [
    {
     "name": "stderr",
     "output_type": "stream",
     "text": [
      "  0%|          | 3/1000 [00:00<00:47, 21.20it/s]"
     ]
    },
    {
     "name": "stdout",
     "output_type": "stream",
     "text": [
      "Terminated after 4 iterations.\n",
      "Terminated after 3 changes.\n",
      "Number of evaluations: 404.\n",
      "Goal reached? Yes\n",
      "State cost: 13\n"
     ]
    },
    {
     "name": "stderr",
     "output_type": "stream",
     "text": [
      "\n"
     ]
    }
   ],
   "source": [
    "_ = SAHCwReplacement(problem, initial_state, fitness, 100, 1_000)"
   ]
  },
  {
   "cell_type": "code",
   "execution_count": 15,
   "metadata": {},
   "outputs": [],
   "source": [
    "def simulated_annealing(problem, state, fitness, max_it):\n",
    "    \"\"\"\n",
    "    Simulated Annealing implementation.\n",
    "\n",
    "    Args:\n",
    "        problem: 2-D boolean ndarray;\n",
    "        state: 1-D boolean ndarray (dim equal to #rows of problem);\n",
    "        fitness: fitness function to evaluate a state;\n",
    "        max_it: maximum number of iterations (int).\n",
    "\n",
    "    Returns:\n",
    "        Possible state solution to the problem.\n",
    "    \"\"\"\n",
    "    evals = 0\n",
    "    changes = 0\n",
    "    for it in tqdm(range(max_it)):\n",
    "        T = 1 - ((it + 1) / max_it)\n",
    "        if T == 0:\n",
    "            break\n",
    "        new_state = random_tweak(state)\n",
    "        evals += 1\n",
    "        new_value, old_value = fitness(problem, new_state), fitness(problem, state)\n",
    "        if new_value > old_value:\n",
    "            state = new_state\n",
    "            changes += 1\n",
    "        else:\n",
    "            if uniform(0, 1) < math.exp((new_value[1] - old_value[1]) / T):\n",
    "                state = new_state\n",
    "                changes += 1\n",
    "\n",
    "    it += 1\n",
    "    print(\n",
    "        f'Terminated after {it} iterations.',\n",
    "        f'Terminated after {changes} changes.',\n",
    "        f'Number of evaluations: {evals}.',\n",
    "        sep='\\n',\n",
    "    )\n",
    "\n",
    "    goal, cost = fitness(problem, state)\n",
    "\n",
    "    print(f'Goal reached? {\"Yes\" if goal else \"No\"}', f'State cost: {abs(cost)}', sep='\\n')\n",
    "    return state"
   ]
  },
  {
   "cell_type": "code",
   "execution_count": 16,
   "metadata": {},
   "outputs": [
    {
     "name": "stderr",
     "output_type": "stream",
     "text": [
      "100%|█████████▉| 5899/5900 [00:02<00:00, 2118.63it/s]"
     ]
    },
    {
     "name": "stdout",
     "output_type": "stream",
     "text": [
      "Terminated after 5900 iterations.\n",
      "Terminated after 1476 changes.\n",
      "Number of evaluations: 5899.\n",
      "Goal reached? Yes\n",
      "State cost: 18\n"
     ]
    },
    {
     "name": "stderr",
     "output_type": "stream",
     "text": [
      "\n"
     ]
    }
   ],
   "source": [
    "_ = simulated_annealing(problem, initial_state, fitness, 5_900)"
   ]
  },
  {
   "cell_type": "markdown",
   "metadata": {},
   "source": [
    "## Results"
   ]
  },
  {
   "cell_type": "code",
   "execution_count": 23,
   "metadata": {},
   "outputs": [
    {
     "name": "stdout",
     "output_type": "stream",
     "text": [
      "** Combination: NUM_POINTS=100, NUM_SETS=100, DENSITY=0.3 **\n",
      "\n",
      "Problem shape: (100, 100)\n",
      "Initial state shape: (100,), Taken sets: 4\n",
      "\n",
      "-- RMHC\n"
     ]
    },
    {
     "name": "stderr",
     "output_type": "stream",
     "text": [
      " 20%|██        | 2048/10000 [00:00<00:00, 18245.79it/s]\n"
     ]
    },
    {
     "name": "stdout",
     "output_type": "stream",
     "text": [
      "Maximum number of evaluations without improvement reached.\n",
      "Terminated after 12 changes.\n",
      "Number of evaluations: 2049.\n",
      "Goal reached? Yes\n",
      "State cost: 10\n",
      "\n",
      "-- SAHC\n"
     ]
    },
    {
     "name": "stderr",
     "output_type": "stream",
     "text": [
      "  0%|          | 5/1000 [00:00<00:06, 162.27it/s]\n"
     ]
    },
    {
     "name": "stdout",
     "output_type": "stream",
     "text": [
      "Terminated after 6 iterations.\n",
      "Terminated after 5 changes.\n",
      "Number of evaluations: 600.\n",
      "Goal reached? Yes\n",
      "State cost: 7\n",
      "\n",
      "-- SAHCwReplacement\n"
     ]
    },
    {
     "name": "stderr",
     "output_type": "stream",
     "text": [
      "  0%|          | 5/1000 [00:00<00:06, 159.74it/s]\n"
     ]
    },
    {
     "name": "stdout",
     "output_type": "stream",
     "text": [
      "Terminated after 6 iterations.\n",
      "Terminated after 5 changes.\n",
      "Number of evaluations: 600.\n",
      "Goal reached? Yes\n",
      "State cost: 7\n",
      "\n",
      "-- simulated_annealing\n"
     ]
    },
    {
     "name": "stderr",
     "output_type": "stream",
     "text": [
      "100%|█████████▉| 5899/5900 [00:00<00:00, 16109.29it/s]\n"
     ]
    },
    {
     "name": "stdout",
     "output_type": "stream",
     "text": [
      "Terminated after 5900 iterations.\n",
      "Terminated after 2020 changes.\n",
      "Number of evaluations: 5899.\n",
      "Goal reached? Yes\n",
      "State cost: 8\n",
      "\n",
      "** Combination: NUM_POINTS=100, NUM_SETS=100, DENSITY=0.7 **\n",
      "\n",
      "Problem shape: (100, 100)\n",
      "Initial state shape: (100,), Taken sets: 4\n",
      "\n",
      "-- RMHC\n"
     ]
    },
    {
     "name": "stderr",
     "output_type": "stream",
     "text": [
      " 20%|█▉        | 1999/10000 [00:00<00:00, 21318.38it/s]\n"
     ]
    },
    {
     "name": "stdout",
     "output_type": "stream",
     "text": [
      "Maximum number of evaluations without improvement reached.\n",
      "Terminated after 0 changes.\n",
      "Number of evaluations: 2000.\n",
      "Goal reached? Yes\n",
      "State cost: 4\n",
      "\n",
      "-- SAHC\n"
     ]
    },
    {
     "name": "stderr",
     "output_type": "stream",
     "text": [
      "  0%|          | 0/1000 [00:00<?, ?it/s]\n"
     ]
    },
    {
     "name": "stdout",
     "output_type": "stream",
     "text": [
      "Terminated after 1 iterations.\n",
      "Terminated after 0 changes.\n",
      "Number of evaluations: 100.\n",
      "Goal reached? Yes\n",
      "State cost: 4\n",
      "\n",
      "-- SAHCwReplacement\n"
     ]
    },
    {
     "name": "stderr",
     "output_type": "stream",
     "text": [
      "  0%|          | 0/1000 [00:00<?, ?it/s]\n"
     ]
    },
    {
     "name": "stdout",
     "output_type": "stream",
     "text": [
      "Terminated after 1 iterations.\n",
      "Terminated after 0 changes.\n",
      "Number of evaluations: 100.\n",
      "Goal reached? Yes\n",
      "State cost: 4\n",
      "\n",
      "-- simulated_annealing\n"
     ]
    },
    {
     "name": "stderr",
     "output_type": "stream",
     "text": [
      "100%|█████████▉| 5899/5900 [00:00<00:00, 16926.83it/s]\n"
     ]
    },
    {
     "name": "stdout",
     "output_type": "stream",
     "text": [
      "Terminated after 5900 iterations.\n",
      "Terminated after 1624 changes.\n",
      "Number of evaluations: 5899.\n",
      "Goal reached? Yes\n",
      "State cost: 4\n",
      "\n",
      "** Combination: NUM_POINTS=1000, NUM_SETS=1000, DENSITY=0.3 **\n",
      "\n",
      "Problem shape: (1000, 1000)\n",
      "Initial state shape: (1000,), Taken sets: 10\n",
      "\n",
      "-- RMHC\n"
     ]
    },
    {
     "name": "stderr",
     "output_type": "stream",
     "text": [
      " 26%|██▌       | 2565/10000 [00:00<00:02, 2766.46it/s]\n"
     ]
    },
    {
     "name": "stdout",
     "output_type": "stream",
     "text": [
      "Maximum number of evaluations without improvement reached.\n",
      "Terminated after 9 changes.\n",
      "Number of evaluations: 2566.\n",
      "Goal reached? Yes\n",
      "State cost: 15\n",
      "\n",
      "-- SAHC\n"
     ]
    },
    {
     "name": "stderr",
     "output_type": "stream",
     "text": [
      "  0%|          | 3/1000 [00:01<07:36,  2.18it/s]\n"
     ]
    },
    {
     "name": "stdout",
     "output_type": "stream",
     "text": [
      "Terminated after 4 iterations.\n",
      "Terminated after 3 changes.\n",
      "Number of evaluations: 4000.\n",
      "Goal reached? Yes\n",
      "State cost: 13\n",
      "\n",
      "-- SAHCwReplacement\n"
     ]
    },
    {
     "name": "stderr",
     "output_type": "stream",
     "text": [
      "  0%|          | 3/1000 [00:00<00:48, 20.69it/s]\n"
     ]
    },
    {
     "name": "stdout",
     "output_type": "stream",
     "text": [
      "Terminated after 4 iterations.\n",
      "Terminated after 3 changes.\n",
      "Number of evaluations: 404.\n",
      "Goal reached? Yes\n",
      "State cost: 13\n",
      "\n",
      "-- simulated_annealing\n"
     ]
    },
    {
     "name": "stderr",
     "output_type": "stream",
     "text": [
      "100%|█████████▉| 5899/5900 [00:02<00:00, 2107.40it/s]\n"
     ]
    },
    {
     "name": "stdout",
     "output_type": "stream",
     "text": [
      "Terminated after 5900 iterations.\n",
      "Terminated after 1476 changes.\n",
      "Number of evaluations: 5899.\n",
      "Goal reached? Yes\n",
      "State cost: 18\n",
      "\n",
      "** Combination: NUM_POINTS=1000, NUM_SETS=1000, DENSITY=0.7 **\n",
      "\n",
      "Problem shape: (1000, 1000)\n",
      "Initial state shape: (1000,), Taken sets: 10\n",
      "\n",
      "-- RMHC\n"
     ]
    },
    {
     "name": "stderr",
     "output_type": "stream",
     "text": [
      " 52%|█████▏    | 5246/10000 [00:01<00:01, 2902.15it/s]\n"
     ]
    },
    {
     "name": "stdout",
     "output_type": "stream",
     "text": [
      "Maximum number of evaluations without improvement reached.\n",
      "Terminated after 5 changes.\n",
      "Number of evaluations: 5247.\n",
      "Goal reached? Yes\n",
      "State cost: 5\n",
      "\n",
      "-- SAHC\n"
     ]
    },
    {
     "name": "stderr",
     "output_type": "stream",
     "text": [
      "  0%|          | 5/1000 [00:02<06:51,  2.42it/s]\n"
     ]
    },
    {
     "name": "stdout",
     "output_type": "stream",
     "text": [
      "Terminated after 6 iterations.\n",
      "Terminated after 5 changes.\n",
      "Number of evaluations: 6000.\n",
      "Goal reached? Yes\n",
      "State cost: 5\n",
      "\n",
      "-- SAHCwReplacement\n"
     ]
    },
    {
     "name": "stderr",
     "output_type": "stream",
     "text": [
      "  0%|          | 0/1000 [00:00<?, ?it/s]\n"
     ]
    },
    {
     "name": "stdout",
     "output_type": "stream",
     "text": [
      "Terminated after 1 iterations.\n",
      "Terminated after 0 changes.\n",
      "Number of evaluations: 101.\n",
      "Goal reached? Yes\n",
      "State cost: 10\n",
      "\n",
      "-- simulated_annealing\n"
     ]
    },
    {
     "name": "stderr",
     "output_type": "stream",
     "text": [
      "100%|█████████▉| 5899/5900 [00:02<00:00, 2069.39it/s]\n"
     ]
    },
    {
     "name": "stdout",
     "output_type": "stream",
     "text": [
      "Terminated after 5900 iterations.\n",
      "Terminated after 1482 changes.\n",
      "Number of evaluations: 5899.\n",
      "Goal reached? Yes\n",
      "State cost: 22\n",
      "\n",
      "** Combination: NUM_POINTS=5000, NUM_SETS=5000, DENSITY=0.3 **\n",
      "\n",
      "Problem shape: (5000, 5000)\n",
      "Initial state shape: (5000,), Taken sets: 106\n",
      "\n",
      "-- RMHC\n"
     ]
    },
    {
     "name": "stderr",
     "output_type": "stream",
     "text": [
      " 88%|████████▊ | 8824/10000 [00:15<00:02, 586.47it/s]\n"
     ]
    },
    {
     "name": "stdout",
     "output_type": "stream",
     "text": [
      "Maximum number of evaluations without improvement reached.\n",
      "Terminated after 83 changes.\n",
      "Number of evaluations: 8825.\n",
      "Goal reached? Yes\n",
      "State cost: 23\n",
      "\n",
      "-- SAHC\n"
     ]
    },
    {
     "name": "stderr",
     "output_type": "stream",
     "text": [
      "  9%|▉         | 88/1000 [12:34<2:10:22,  8.58s/it]\n"
     ]
    },
    {
     "name": "stdout",
     "output_type": "stream",
     "text": [
      "Terminated after 89 iterations.\n",
      "Terminated after 88 changes.\n",
      "Number of evaluations: 445000.\n",
      "Goal reached? Yes\n",
      "State cost: 18\n",
      "\n",
      "-- SAHCwReplacement\n"
     ]
    },
    {
     "name": "stderr",
     "output_type": "stream",
     "text": [
      "  0%|          | 2/1000 [00:00<04:30,  3.68it/s]\n"
     ]
    },
    {
     "name": "stdout",
     "output_type": "stream",
     "text": [
      "Terminated after 3 iterations.\n",
      "Terminated after 2 changes.\n",
      "Number of evaluations: 303.\n",
      "Goal reached? Yes\n",
      "State cost: 104\n",
      "\n",
      "-- simulated_annealing\n"
     ]
    },
    {
     "name": "stderr",
     "output_type": "stream",
     "text": [
      "100%|█████████▉| 5899/5900 [00:13<00:00, 429.82it/s]\n"
     ]
    },
    {
     "name": "stdout",
     "output_type": "stream",
     "text": [
      "Terminated after 5900 iterations.\n",
      "Terminated after 1333 changes.\n",
      "Number of evaluations: 5899.\n",
      "Goal reached? Yes\n",
      "State cost: 393\n",
      "\n",
      "** Combination: NUM_POINTS=5000, NUM_SETS=5000, DENSITY=0.7 **\n",
      "\n",
      "Problem shape: (5000, 5000)\n",
      "Initial state shape: (5000,), Taken sets: 106\n",
      "\n",
      "-- RMHC\n"
     ]
    },
    {
     "name": "stderr",
     "output_type": "stream",
     "text": [
      "100%|██████████| 10000/10000 [00:17<00:00, 581.16it/s]\n"
     ]
    },
    {
     "name": "stdout",
     "output_type": "stream",
     "text": [
      "Maximum number of iterations reached.\n",
      "Terminated after 93 changes.\n",
      "Number of evaluations: 10000.\n",
      "Goal reached? Yes\n",
      "State cost: 13\n",
      "\n",
      "-- SAHC\n"
     ]
    },
    {
     "name": "stderr",
     "output_type": "stream",
     "text": [
      " 10%|█         | 100/1000 [19:05<2:51:47, 11.45s/it]\n"
     ]
    },
    {
     "name": "stdout",
     "output_type": "stream",
     "text": [
      "Terminated after 101 iterations.\n",
      "Terminated after 100 changes.\n",
      "Number of evaluations: 505000.\n",
      "Goal reached? Yes\n",
      "State cost: 6\n",
      "\n",
      "-- SAHCwReplacement\n"
     ]
    },
    {
     "name": "stderr",
     "output_type": "stream",
     "text": [
      "  0%|          | 2/1000 [00:00<04:29,  3.71it/s]\n"
     ]
    },
    {
     "name": "stdout",
     "output_type": "stream",
     "text": [
      "Terminated after 3 iterations.\n",
      "Terminated after 2 changes.\n",
      "Number of evaluations: 303.\n",
      "Goal reached? Yes\n",
      "State cost: 104\n",
      "\n",
      "-- simulated_annealing\n"
     ]
    },
    {
     "name": "stderr",
     "output_type": "stream",
     "text": [
      "100%|█████████▉| 5899/5900 [00:13<00:00, 434.61it/s]"
     ]
    },
    {
     "name": "stdout",
     "output_type": "stream",
     "text": [
      "Terminated after 5900 iterations.\n",
      "Terminated after 1275 changes.\n",
      "Number of evaluations: 5899.\n",
      "Goal reached? Yes\n",
      "State cost: 389\n",
      "\n"
     ]
    },
    {
     "name": "stderr",
     "output_type": "stream",
     "text": [
      "\n"
     ]
    }
   ],
   "source": [
    "for NUM_POINTS, DENSITY, PROB in product((100, 1_000, 5_000), (0.3, 0.7), (0.02,)):\n",
    "    NUM_SETS = NUM_POINTS\n",
    "\n",
    "    print(f'** Combination: NUM_POINTS={NUM_POINTS}, NUM_SETS={NUM_SETS}, DENSITY={DENSITY} **', end='\\n\\n')\n",
    "\n",
    "    problem, initial_state = make_set_covering_problem(NUM_POINTS, NUM_SETS, DENSITY, PROB)\n",
    "    print(\n",
    "        f'Problem shape: {problem.shape}',\n",
    "        f'Initial state shape: {initial_state.shape}, Taken sets: {np.sum(initial_state)}',\n",
    "        sep='\\n',\n",
    "    )\n",
    "\n",
    "    print('\\n-- RMHC')\n",
    "    _ = RMHC(problem, initial_state, fitness, 10_000, 2_000)\n",
    "    print('\\n-- SAHC')\n",
    "    _ = SAHC(problem, initial_state, fitness, 1_000)\n",
    "    print('\\n-- SAHCwReplacement')\n",
    "    _ = SAHCwReplacement(problem, initial_state, fitness, 100, 1_000)\n",
    "    print('\\n-- simulated_annealing')\n",
    "    _ = simulated_annealing(problem, initial_state, fitness, 5_900)\n",
    "\n",
    "    print()"
   ]
  }
 ],
 "metadata": {
  "kernelspec": {
   "display_name": "ci",
   "language": "python",
   "name": "python3"
  },
  "language_info": {
   "codemirror_mode": {
    "name": "ipython",
    "version": 3
   },
   "file_extension": ".py",
   "mimetype": "text/x-python",
   "name": "python",
   "nbconvert_exporter": "python",
   "pygments_lexer": "ipython3",
   "version": "3.12.0"
  }
 },
 "nbformat": 4,
 "nbformat_minor": 2
}
