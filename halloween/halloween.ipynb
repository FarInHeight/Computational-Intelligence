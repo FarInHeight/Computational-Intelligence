{
 "cells": [
  {
   "cell_type": "code",
   "execution_count": 1,
   "metadata": {},
   "outputs": [],
   "source": [
    "from itertools import product\n",
    "from random import random, randint, shuffle, seed\n",
    "import numpy as np\n",
    "from scipy import sparse\n",
    "from copy import copy\n",
    "from tqdm import tqdm\n",
    "from functools import reduce"
   ]
  },
  {
   "cell_type": "code",
   "execution_count": 2,
   "metadata": {},
   "outputs": [],
   "source": [
    "def make_set_covering_problem(num_points, num_sets, density, prob):\n",
    "    \"\"\"Returns a sparse array where rows are sets and columns are the covered items\"\"\"\n",
    "    seed(num_points * 2654435761 + num_sets + density)\n",
    "    np.random.seed(int(num_points * 435761 + num_sets + density))\n",
    "    sets = sparse.lil_array((num_sets, num_points), dtype=bool).toarray()\n",
    "    for s, p in product(range(num_sets), range(num_points)):\n",
    "        if random() < density:\n",
    "            sets[s, p] = True\n",
    "    for p in range(num_points):\n",
    "        sets[randint(0, num_sets - 1), p] = True\n",
    "    initial_state = np.random.choice([True, False], size=(num_sets,), p=[prob, 1 - prob])\n",
    "    return sets, initial_state"
   ]
  },
  {
   "cell_type": "markdown",
   "metadata": {},
   "source": [
    "# Halloween Challenge\n",
    "\n",
    "Find the best solution with the fewest calls to the fitness functions for:\n",
    "\n",
    "* `num_points = [100, 1_000, 5_000]`\n",
    "* `num_sets = num_points`\n",
    "* `density = [.3, .7]` "
   ]
  },
  {
   "cell_type": "code",
   "execution_count": 3,
   "metadata": {},
   "outputs": [
    {
     "name": "stdout",
     "output_type": "stream",
     "text": [
      "Problem shape: (1000, 1000)\n",
      "Initial state shape: (1000,), Taken sets: 10\n"
     ]
    }
   ],
   "source": [
    "NUM_SETS = 1000\n",
    "NUM_POINTS = 1000\n",
    "DENSITY = 0.3\n",
    "PROB = 0.02\n",
    "\n",
    "problem, initial_state = make_set_covering_problem(NUM_POINTS, NUM_SETS, DENSITY, PROB)\n",
    "print(\n",
    "    f'Problem shape: {problem.shape}',\n",
    "    f'Initial state shape: {initial_state.shape}, Taken sets: {np.sum(initial_state)}',\n",
    "    sep='\\n',\n",
    ")"
   ]
  },
  {
   "cell_type": "code",
   "execution_count": 4,
   "metadata": {},
   "outputs": [],
   "source": [
    "def check_goal(problem, state):\n",
    "    return np.all(\n",
    "        reduce(\n",
    "            np.logical_or,\n",
    "            [problem[i] for i, t in enumerate(state) if t],\n",
    "            np.array([False for _ in range(NUM_POINTS)]),\n",
    "        )\n",
    "    )"
   ]
  },
  {
   "cell_type": "code",
   "execution_count": 5,
   "metadata": {},
   "outputs": [],
   "source": [
    "assert check_goal(problem, np.full((NUM_SETS,), True)), \"Problem not solvable\""
   ]
  },
  {
   "cell_type": "code",
   "execution_count": 6,
   "metadata": {},
   "outputs": [],
   "source": [
    "def fitness(problem, state):\n",
    "    goal = check_goal(problem, state)\n",
    "    cost = np.sum(state)\n",
    "    return goal, cost if not goal else -cost"
   ]
  },
  {
   "cell_type": "code",
   "execution_count": 7,
   "metadata": {},
   "outputs": [
    {
     "data": {
      "text/plain": [
       "(False, 10)"
      ]
     },
     "execution_count": 7,
     "metadata": {},
     "output_type": "execute_result"
    }
   ],
   "source": [
    "fitness(problem, initial_state)"
   ]
  },
  {
   "cell_type": "code",
   "execution_count": 8,
   "metadata": {},
   "outputs": [],
   "source": [
    "def RMHC(problem, state, fitness, max_it, max_give_up):\n",
    "    def tweak(state):\n",
    "        \"\"\"\n",
    "        Tweak a state randomly.\n",
    "\n",
    "        Args:\n",
    "            state: 1-D boolean ndarray.\n",
    "\n",
    "        Returns:\n",
    "            New state with a changed boolean value.\n",
    "        \"\"\"\n",
    "        new_state = copy(state)\n",
    "        index = randint(0, NUM_SETS - 1)\n",
    "        new_state[index] = not new_state[index]\n",
    "        return new_state\n",
    "\n",
    "    \"\"\"\n",
    "    Random-Mutation Hill Climber implementation.\n",
    "\n",
    "    Args:\n",
    "        problem: 2-D boolean ndarray;\n",
    "        state: 1-D boolean ndarray (dim equal to #rows of problem);\n",
    "        fitness: fitness function to evaluate a state;\n",
    "        max_it: maximum number of iterations (int);\n",
    "        max_give_up: maximum number of evaluations before giving up (int).\n",
    "\n",
    "    Returns:\n",
    "        Possible state solution to the problem.\n",
    "    \"\"\"\n",
    "    changes = 0\n",
    "    evals_giveup = 0\n",
    "    for evals in tqdm(range(max_it)):\n",
    "        new_state = tweak(state)\n",
    "        if fitness(problem, new_state) > fitness(problem, state):\n",
    "            state = new_state\n",
    "            changes += 1\n",
    "            evals_giveup = 0\n",
    "        else:\n",
    "            evals_giveup += 1\n",
    "            if evals_giveup == max_give_up:\n",
    "                print('Maximum number of evaluations without improvement reached.')\n",
    "                break\n",
    "\n",
    "    evals += 1\n",
    "    if evals == max_it:\n",
    "        print('Maximum number of iterations reached.')\n",
    "    print(f'Terminated after {changes} changes.', f'Number of evaluations: {evals}.', sep='\\n')\n",
    "\n",
    "    goal, cost = fitness(problem, state)\n",
    "\n",
    "    print(f'Goal reached? {\"Yes\" if goal else \"No\"}', f'State cost: {abs(cost)}', sep='\\n')\n",
    "    return state"
   ]
  },
  {
   "cell_type": "code",
   "execution_count": 9,
   "metadata": {},
   "outputs": [
    {
     "name": "stderr",
     "output_type": "stream",
     "text": [
      " 28%|██▊       | 2822/10000 [00:00<00:01, 4412.84it/s]"
     ]
    },
    {
     "name": "stdout",
     "output_type": "stream",
     "text": [
      "Maximum number of evaluations without improvement reached.\n",
      "Terminated after 13 changes.\n",
      "Number of evaluations: 2823.\n",
      "Goal reached? Yes\n",
      "State cost: 15\n"
     ]
    },
    {
     "name": "stderr",
     "output_type": "stream",
     "text": [
      "\n"
     ]
    }
   ],
   "source": [
    "_ = RMHC(problem, initial_state, fitness, 10_000, 2_000)"
   ]
  },
  {
   "cell_type": "code",
   "execution_count": 10,
   "metadata": {},
   "outputs": [],
   "source": [
    "def SAHC(problem, state, fitness, max_it):\n",
    "    def tweak(state, index):\n",
    "        \"\"\"\n",
    "        Tweak a state changing the value in position index.\n",
    "\n",
    "        Args:\n",
    "            state: 1-D boolean ndarray;\n",
    "            index: int value indicating the boolean value to change.\n",
    "\n",
    "        Returns:\n",
    "            New state with a changed boolean value according\n",
    "            to the value of index.\n",
    "        \"\"\"\n",
    "        new_state = copy(state)\n",
    "        new_state[index] = not new_state[index]\n",
    "        return new_state\n",
    "\n",
    "    \"\"\"\n",
    "    Steepest-Ascent Hill Climber implementation.\n",
    "\n",
    "    Args:\n",
    "        problem: 2-D boolean ndarray;\n",
    "        state: 1-D boolean ndarray (dim equal to #rows of problem);\n",
    "        fitness: fitness function to evaluate a state;\n",
    "        max_it: maximum number of iterations (int).\n",
    "\n",
    "    Returns:\n",
    "        Possible state solution to the problem.\n",
    "    \"\"\"\n",
    "    evals = 0\n",
    "    changes = 0\n",
    "    for it in tqdm(range(max_it)):\n",
    "        changed = False\n",
    "        for index in range(NUM_SETS):\n",
    "            new_state = tweak(state, index)\n",
    "            if fitness(problem, new_state) > fitness(problem, state):\n",
    "                state = new_state\n",
    "                changed = True\n",
    "                changes += 1\n",
    "            evals += 1\n",
    "\n",
    "        if not changed:\n",
    "            break\n",
    "\n",
    "    it += 1\n",
    "    if evals == max_it:\n",
    "        print('Maximum number of iterations reached.')\n",
    "    print(\n",
    "        f'Terminated after {it} iterations.',\n",
    "        f'Terminated after {changes} changes.',\n",
    "        f'Number of evaluations: {evals}.',\n",
    "        sep='\\n',\n",
    "    )\n",
    "\n",
    "    goal, cost = fitness(problem, state)\n",
    "\n",
    "    print(f'Goal reached? {\"Yes\" if goal else \"No\"}', f'State cost: {abs(cost)}', sep='\\n')\n",
    "    return state"
   ]
  },
  {
   "cell_type": "code",
   "execution_count": 15,
   "metadata": {},
   "outputs": [
    {
     "name": "stderr",
     "output_type": "stream",
     "text": [
      "  0%|          | 2/1000 [00:00<05:38,  2.95it/s]"
     ]
    },
    {
     "name": "stdout",
     "output_type": "stream",
     "text": [
      "Terminated after 3 iterations.\n",
      "Terminated after 13 changes.\n",
      "Number of evaluations: 3000.\n",
      "Goal reached? Yes\n",
      "State cost: 15\n"
     ]
    },
    {
     "name": "stderr",
     "output_type": "stream",
     "text": [
      "\n"
     ]
    }
   ],
   "source": [
    "_ = SAHC(problem, initial_state, fitness, 1_000)"
   ]
  }
 ],
 "metadata": {
  "kernelspec": {
   "display_name": "ci",
   "language": "python",
   "name": "python3"
  },
  "language_info": {
   "codemirror_mode": {
    "name": "ipython",
    "version": 3
   },
   "file_extension": ".py",
   "mimetype": "text/x-python",
   "name": "python",
   "nbconvert_exporter": "python",
   "pygments_lexer": "ipython3",
   "version": "3.12.0"
  }
 },
 "nbformat": 4,
 "nbformat_minor": 2
}
