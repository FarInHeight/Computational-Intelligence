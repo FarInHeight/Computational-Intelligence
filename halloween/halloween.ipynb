{
 "cells": [
  {
   "cell_type": "code",
   "execution_count": 56,
   "metadata": {},
   "outputs": [],
   "source": [
    "from itertools import product\n",
    "from random import random, randint, seed, uniform, sample\n",
    "import numpy as np\n",
    "import math\n",
    "from scipy import sparse\n",
    "from copy import copy\n",
    "from tqdm import tqdm\n",
    "from functools import reduce\n",
    "from collections import deque"
   ]
  },
  {
   "cell_type": "code",
   "execution_count": 57,
   "metadata": {},
   "outputs": [],
   "source": [
    "def make_set_covering_problem(num_points, num_sets, density, prob=None):\n",
    "    \"\"\"Returns a sparse array where rows are sets and columns are the covered items\"\"\"\n",
    "    seed(num_points * 2654435761 + num_sets + density)\n",
    "    sets = sparse.lil_array((num_sets, num_points), dtype=bool).toarray()\n",
    "    for s, p in product(range(num_sets), range(num_points)):\n",
    "        if random() < density:\n",
    "            sets[s, p] = True\n",
    "    for p in range(num_points):\n",
    "        sets[randint(0, num_sets - 1), p] = True\n",
    "    if prob is not None:\n",
    "        np.random.seed(int(num_points * 435761 + num_sets + density))\n",
    "        initial_state = np.random.choice([True, False], size=(num_sets,), p=[prob, 1 - prob])\n",
    "    else:\n",
    "        initial_state = np.full((num_sets,), False, dtype=np.bool_)\n",
    "    return sets, initial_state"
   ]
  },
  {
   "cell_type": "markdown",
   "metadata": {},
   "source": [
    "# Halloween Challenge\n",
    "\n",
    "Find the best solution with the fewest calls to the fitness functions for:\n",
    "\n",
    "* `num_points = [100, 1_000, 5_000]`\n",
    "* `num_sets = num_points`\n",
    "* `density = [.3, .7]` "
   ]
  },
  {
   "cell_type": "markdown",
   "metadata": {},
   "source": [
    "## Problem definition"
   ]
  },
  {
   "cell_type": "code",
   "execution_count": 58,
   "metadata": {},
   "outputs": [
    {
     "name": "stdout",
     "output_type": "stream",
     "text": [
      "Problem shape: (1000, 1000)\n",
      "Initial state shape: (1000,), Taken sets: 0\n"
     ]
    }
   ],
   "source": [
    "NUM_SETS = 1000\n",
    "NUM_POINTS = 1000\n",
    "DENSITY = 0.3\n",
    "# PROB = 0.02\n",
    "\n",
    "# problem, initial_state = make_set_covering_problem(NUM_POINTS, NUM_SETS, DENSITY, PROB)\n",
    "problem, initial_state = make_set_covering_problem(NUM_POINTS, NUM_SETS, DENSITY)\n",
    "print(\n",
    "    f'Problem shape: {problem.shape}',\n",
    "    f'Initial state shape: {initial_state.shape}, Taken sets: {np.sum(initial_state)}',\n",
    "    sep='\\n',\n",
    ")"
   ]
  },
  {
   "cell_type": "code",
   "execution_count": 59,
   "metadata": {},
   "outputs": [],
   "source": [
    "def covered(problem, state):\n",
    "    return reduce(\n",
    "        np.logical_or,\n",
    "        [problem[i] for i, t in enumerate(state) if t],\n",
    "        np.array([False for _ in range(NUM_POINTS)]),\n",
    "    )\n",
    "\n",
    "\n",
    "def check_goal(problem, state):\n",
    "    return np.all(covered(problem, state))"
   ]
  },
  {
   "cell_type": "code",
   "execution_count": 61,
   "metadata": {},
   "outputs": [],
   "source": [
    "assert check_goal(problem, np.full((NUM_SETS,), True, dtype=np.bool_)), \"Problem not solvable\""
   ]
  },
  {
   "cell_type": "code",
   "execution_count": 60,
   "metadata": {},
   "outputs": [],
   "source": [
    "def fitness1(problem, state):\n",
    "    goal = check_goal(problem, state)\n",
    "    cost = np.sum(state)\n",
    "    return goal, cost if not goal else -cost\n",
    "\n",
    "\n",
    "def fitness2(problem, state):\n",
    "    goal = np.sum(covered(problem, state))\n",
    "    cost = sum(state)\n",
    "    return goal, -cost\n",
    "\n",
    "\n",
    "fitness = fitness2"
   ]
  },
  {
   "cell_type": "code",
   "execution_count": 62,
   "metadata": {},
   "outputs": [
    {
     "data": {
      "text/plain": [
       "(0, 0)"
      ]
     },
     "execution_count": 62,
     "metadata": {},
     "output_type": "execute_result"
    }
   ],
   "source": [
    "fitness(problem, initial_state)"
   ]
  },
  {
   "cell_type": "markdown",
   "metadata": {},
   "source": [
    "## Implemented methods - Single-state methods\n",
    "The Halloween challenge has been accepted. To solve it, I'd reply with the following methods (with some modifications described for each algorithm, if any):\n",
    "- **Random-Mutation Hill Climber**;\n",
    "- **Steepest-Step Hill Climber**;\n",
    "- **Steepest-Step Hill Climber with Replacement**;\n",
    "- **Tabu Search**;\n",
    "- **Simulated Annealing**."
   ]
  },
  {
   "cell_type": "code",
   "execution_count": 63,
   "metadata": {},
   "outputs": [],
   "source": [
    "def random_tweak(state):\n",
    "    \"\"\"\n",
    "    Tweak a state randomly.\n",
    "\n",
    "    Args:\n",
    "        state: 1-D boolean ndarray.\n",
    "\n",
    "    Returns:\n",
    "        New state with a changed boolean value.\n",
    "    \"\"\"\n",
    "    new_state = copy(state)\n",
    "    index = randint(0, NUM_SETS - 1)\n",
    "    new_state[index] = not new_state[index]\n",
    "    return new_state\n",
    "\n",
    "\n",
    "def tweak_by_index(state, index):\n",
    "    \"\"\"\n",
    "    Tweak a state changing the value in position index.\n",
    "\n",
    "    Args:\n",
    "        state: 1-D boolean ndarray;\n",
    "        index: int value indicating the boolean value to change.\n",
    "\n",
    "    Returns:\n",
    "        New state with a changed boolean value according\n",
    "        to the value of index.\n",
    "    \"\"\"\n",
    "    new_state = copy(state)\n",
    "    new_state[index] = not new_state[index]\n",
    "    return new_state"
   ]
  },
  {
   "cell_type": "markdown",
   "metadata": {},
   "source": [
    "To make the Random-Mutation Hill Climber run faster, I decided to give up the search when for `max_give_up` times I do not improve my best current solution."
   ]
  },
  {
   "cell_type": "code",
   "execution_count": 64,
   "metadata": {},
   "outputs": [],
   "source": [
    "def RMHC(problem, state, fitness, max_it, max_give_up):\n",
    "    \"\"\"\n",
    "    Random-Mutation Hill Climber implementation.\n",
    "\n",
    "    Args:\n",
    "        problem: 2-D boolean ndarray;\n",
    "        state: 1-D boolean ndarray (dim equal to #rows of problem);\n",
    "        fitness: fitness function to evaluate a state;\n",
    "        max_it: maximum number of iterations (int);\n",
    "        max_give_up: maximum number of evaluations before giving up (int).\n",
    "\n",
    "    Returns:\n",
    "        Possible state solution to the problem.\n",
    "    \"\"\"\n",
    "    changes = 0\n",
    "    evals_giveup = 0\n",
    "    evals = 1\n",
    "    best_fitness = fitness(problem, state)\n",
    "    for it in tqdm(range(max_it)):\n",
    "        new_state = random_tweak(state)\n",
    "        evals += 1\n",
    "        new_state_fitness = fitness(problem, new_state)\n",
    "        if new_state_fitness > best_fitness:\n",
    "            state = new_state\n",
    "            best_fitness = new_state_fitness\n",
    "            changes += 1\n",
    "            evals_giveup = 0\n",
    "        else:\n",
    "            evals_giveup += 1\n",
    "            if evals_giveup == max_give_up:\n",
    "                print('Maximum number of evaluations without improvement reached.')\n",
    "                break\n",
    "\n",
    "    it += 1\n",
    "    if it == max_it:\n",
    "        print('Maximum number of iterations reached.')\n",
    "    print(\n",
    "        f'Terminated after {it} iterations.',\n",
    "        f'Terminated after {changes} changes.',\n",
    "        f'Number of evaluations: {evals}.',\n",
    "        sep='\\n',\n",
    "    )\n",
    "\n",
    "    goal, cost = best_fitness\n",
    "    cond = goal if isinstance(goal, np.bool_) else goal == problem.shape[1]\n",
    "\n",
    "    print(f'Goal reached? {\"Yes\" if cond else \"No\"}', f'State cost: {abs(cost)}', sep='\\n')\n",
    "    return state"
   ]
  },
  {
   "cell_type": "code",
   "execution_count": 11,
   "metadata": {},
   "outputs": [
    {
     "name": "stderr",
     "output_type": "stream",
     "text": [
      " 26%|██▋       | 2641/10000 [00:00<00:01, 5572.68it/s]"
     ]
    },
    {
     "name": "stdout",
     "output_type": "stream",
     "text": [
      "Maximum number of evaluations without improvement reached.\n",
      "Terminated after 2642 iterations.\n",
      "Terminated after 26 changes.\n",
      "Number of evaluations: 2643.\n",
      "Goal reached? Yes\n",
      "State cost: 14\n"
     ]
    },
    {
     "name": "stderr",
     "output_type": "stream",
     "text": [
      "\n"
     ]
    }
   ],
   "source": [
    "_ = RMHC(problem, initial_state, fitness, 10_000, 2_000)"
   ]
  },
  {
   "cell_type": "code",
   "execution_count": 65,
   "metadata": {},
   "outputs": [],
   "source": [
    "def SAHC(problem, state, fitness, max_it):\n",
    "    \"\"\"\n",
    "    Steepest-Ascent Hill Climber implementation.\n",
    "\n",
    "    Args:\n",
    "        problem: 2-D boolean ndarray;\n",
    "        state: 1-D boolean ndarray (dim equal to #rows of problem);\n",
    "        fitness: fitness function to evaluate a state;\n",
    "        max_it: maximum number of iterations (int).\n",
    "\n",
    "    Returns:\n",
    "        Possible state solution to the problem.\n",
    "    \"\"\"\n",
    "    changes = 0\n",
    "    evals = 1\n",
    "    best_fitness = fitness(problem, state)\n",
    "    for it in tqdm(range(max_it)):\n",
    "        succ = tweak_by_index(state, 0)\n",
    "        evals += 1\n",
    "        succ_fitness = fitness(problem, succ)\n",
    "        for index in range(1, NUM_SETS):\n",
    "            new_state = tweak_by_index(state, index)\n",
    "            evals += 1\n",
    "            new_state_fitness = fitness(problem, new_state)\n",
    "            if new_state_fitness > succ_fitness:\n",
    "                succ = new_state\n",
    "                succ_fitness = new_state_fitness\n",
    "        if succ_fitness > best_fitness:\n",
    "            state = succ\n",
    "            best_fitness = succ_fitness\n",
    "            changes += 1\n",
    "        else:\n",
    "            break\n",
    "\n",
    "    it += 1\n",
    "    if it == max_it:\n",
    "        print('Maximum number of iterations reached.')\n",
    "    print(\n",
    "        f'Terminated after {it} iterations.',\n",
    "        f'Terminated after {changes} changes.',\n",
    "        f'Number of evaluations: {evals}.',\n",
    "        sep='\\n',\n",
    "    )\n",
    "\n",
    "    goal, cost = best_fitness\n",
    "    cond = goal if isinstance(goal, np.bool_) else goal == problem.shape[1]\n",
    "\n",
    "    print(f'Goal reached? {\"Yes\" if cond else \"No\"}', f'State cost: {abs(cost)}', sep='\\n')\n",
    "    return state"
   ]
  },
  {
   "cell_type": "code",
   "execution_count": 13,
   "metadata": {},
   "outputs": [
    {
     "name": "stderr",
     "output_type": "stream",
     "text": [
      "  1%|          | 10/1000 [00:01<03:05,  5.34it/s]"
     ]
    },
    {
     "name": "stdout",
     "output_type": "stream",
     "text": [
      "Terminated after 11 iterations.\n",
      "Terminated after 10 changes.\n",
      "Number of evaluations: 11001.\n",
      "Goal reached? Yes\n",
      "State cost: 10\n"
     ]
    },
    {
     "name": "stderr",
     "output_type": "stream",
     "text": [
      "\n"
     ]
    }
   ],
   "source": [
    "_ = SAHC(problem, initial_state, fitness, 1_000)"
   ]
  },
  {
   "cell_type": "code",
   "execution_count": 66,
   "metadata": {},
   "outputs": [],
   "source": [
    "def SAHCwReplacement(problem, state, fitness, n_neighbors, max_it):\n",
    "    \"\"\"\n",
    "    Steepest-Ascent Hill Climber implementation.\n",
    "\n",
    "    Args:\n",
    "        problem: 2-D boolean ndarray;\n",
    "        state: 1-D boolean ndarray (dim equal to #rows of problem);\n",
    "        fitness: fitness function to evaluate a state;\n",
    "        n_neighbors: number of desired tweaks to try;\n",
    "        max_it: maximum number of iterations (int).\n",
    "\n",
    "    Returns:\n",
    "        Possible state solution to the problem.\n",
    "    \"\"\"\n",
    "    changes = 0\n",
    "    evals = 1\n",
    "    best_fitness = fitness(problem, state)\n",
    "    for it in tqdm(range(max_it)):\n",
    "        index = randint(0, NUM_SETS - 1)\n",
    "        succ = tweak_by_index(state, index)\n",
    "        evals += 1\n",
    "        succ_fitness = fitness(problem, succ)\n",
    "        for index in set(sample(range(NUM_SETS), n_neighbors)) - {index}:\n",
    "            new_state = tweak_by_index(state, index)\n",
    "            evals += 1\n",
    "            new_state_fitness = fitness(problem, new_state)\n",
    "            if new_state_fitness > succ_fitness:\n",
    "                succ = new_state\n",
    "                succ_fitness = new_state_fitness\n",
    "        if succ_fitness > best_fitness:\n",
    "            state = succ\n",
    "            best_fitness = succ_fitness\n",
    "            changes += 1\n",
    "        else:\n",
    "            break\n",
    "\n",
    "    it += 1\n",
    "    if it == max_it:\n",
    "        print('Maximum number of iterations reached.')\n",
    "    print(\n",
    "        f'Terminated after {it} iterations.',\n",
    "        f'Terminated after {changes} changes.',\n",
    "        f'Number of evaluations: {evals}.',\n",
    "        sep='\\n',\n",
    "    )\n",
    "\n",
    "    goal, cost = best_fitness\n",
    "    cond = goal if isinstance(goal, np.bool_) else goal == problem.shape[1]\n",
    "\n",
    "    print(f'Goal reached? {\"Yes\" if cond else \"No\"}', f'State cost: {abs(cost)}', sep='\\n')\n",
    "    return state"
   ]
  },
  {
   "cell_type": "code",
   "execution_count": 22,
   "metadata": {},
   "outputs": [
    {
     "name": "stderr",
     "output_type": "stream",
     "text": [
      "  1%|          | 11/1000 [00:00<00:19, 51.33it/s]"
     ]
    },
    {
     "name": "stdout",
     "output_type": "stream",
     "text": [
      "Terminated after 12 iterations.\n",
      "Terminated after 11 changes.\n",
      "Number of evaluations: 1211.\n",
      "Goal reached? Yes\n",
      "State cost: 11\n"
     ]
    },
    {
     "name": "stderr",
     "output_type": "stream",
     "text": [
      "\n"
     ]
    }
   ],
   "source": [
    "_ = SAHCwReplacement(problem, initial_state, fitness, 100, 1_000)"
   ]
  },
  {
   "cell_type": "markdown",
   "metadata": {},
   "source": [
    "For the following method, I took suggestions and code parts from these links:\n",
    "- [www.geeksforgeeks.org](https://www.geeksforgeeks.org/what-is-tabu-search/);\n",
    "- [stackoverflow.com](https://stackoverflow.com/questions/60492520/check-if-array-is-in-deque-of-arrays-python)\n",
    "\n",
    "I implemented the method in a slightly different way than what you can find on the first link. I stop the search if the best successor is not better than the best current solution or every successor is already in the tabu list."
   ]
  },
  {
   "cell_type": "code",
   "execution_count": 67,
   "metadata": {},
   "outputs": [],
   "source": [
    "def tabu_search(problem, state, fitness, n_neighbors, max_tabu_list, max_it):\n",
    "    \"\"\"\n",
    "    Steepest-Ascent Hill Climber implementation.\n",
    "\n",
    "    Args:\n",
    "        problem: 2-D boolean ndarray;\n",
    "        state: 1-D boolean ndarray (dim equal to #rows of problem);\n",
    "        fitness: fitness function to evaluate a state;\n",
    "        n_neighbors: number of desired tweaks to try;\n",
    "        max_tabu_list: tabu list size;\n",
    "        max_it: maximum number of iterations (int).\n",
    "\n",
    "    Returns:\n",
    "        Possible state solution to the problem.\n",
    "    \"\"\"\n",
    "    changes = 0\n",
    "    evals = 1\n",
    "    best_fitness = fitness(problem, state)\n",
    "    tabu_list = deque()\n",
    "    for it in tqdm(range(max_it)):\n",
    "        index = randint(0, NUM_SETS - 1)\n",
    "        succ = tweak_by_index(state, index)\n",
    "        evals += 1\n",
    "        succ_fitness = fitness(problem, succ)\n",
    "        for index in set(sample(range(NUM_SETS), n_neighbors)) - {index}:\n",
    "            new_state = tweak_by_index(state, index)\n",
    "            if not any((new_state == elem).all() for elem in tabu_list):\n",
    "                evals += 1\n",
    "                new_state_fitness = fitness(problem, new_state)\n",
    "                if new_state_fitness > succ_fitness:\n",
    "                    succ = new_state\n",
    "                    succ_fitness = new_state_fitness\n",
    "        if any((succ == elem).all() for elem in tabu_list):\n",
    "            break\n",
    "        tabu_list.append(succ)\n",
    "        if len(tabu_list) > max_tabu_list:\n",
    "            tabu_list.popleft()\n",
    "        if succ_fitness > best_fitness:\n",
    "            state = succ\n",
    "            best_fitness = succ_fitness\n",
    "            changes += 1\n",
    "        else:\n",
    "            break\n",
    "\n",
    "    it += 1\n",
    "    if it == max_it:\n",
    "        print('Maximum number of iterations reached.')\n",
    "    print(\n",
    "        f'Terminated after {it} iterations.',\n",
    "        f'Terminated after {changes} changes.',\n",
    "        f'Number of evaluations: {evals}.',\n",
    "        sep='\\n',\n",
    "    )\n",
    "\n",
    "    goal, cost = best_fitness\n",
    "    cond = goal if isinstance(goal, np.bool_) else goal == problem.shape[1]\n",
    "\n",
    "    print(f'Goal reached? {\"Yes\" if cond else \"No\"}', f'State cost: {abs(cost)}', sep='\\n')\n",
    "    return state"
   ]
  },
  {
   "cell_type": "code",
   "execution_count": 96,
   "metadata": {},
   "outputs": [
    {
     "name": "stderr",
     "output_type": "stream",
     "text": [
      "  1%|          | 10/1000 [00:00<00:20, 48.68it/s]"
     ]
    },
    {
     "name": "stdout",
     "output_type": "stream",
     "text": [
      "Terminated after 11 iterations.\n",
      "Terminated after 10 changes.\n",
      "Number of evaluations: 1112.\n",
      "Goal reached? Yes\n",
      "State cost: 10\n"
     ]
    },
    {
     "name": "stderr",
     "output_type": "stream",
     "text": [
      "\n"
     ]
    }
   ],
   "source": [
    "_ = tabu_search(problem, initial_state, fitness, 100, 5, 1_000)"
   ]
  },
  {
   "cell_type": "markdown",
   "metadata": {},
   "source": [
    "For the implementation of the Simulated Annealing algorithm, I tried to create a function which gets as input a vector of floating point numbers (also called _schedule_), that represents a mapping from the time $t$ to the temperature $T$. \\\n",
    "In this way, I couldn't find a good vector for the _schedule_. I tried to generate several vectors by means of the `np.linspace` function, but none of them worked successfully enough to find an acceptable solution.\n",
    "\n",
    "For this reason, I surfed over the internet to implement an alternative approach without the use of this `schedule` vector. \\\n",
    "The solution I implemented is based on the pseudocode available on [en.wikipedia.org](https://en.wikipedia.org/wiki/Simulated_annealing), which calculates the temperature $T$ directly from the iteration number `it` and the maximum number of iterations `max_it`.\n",
    "\n",
    "If the value `max_it` is large enough, the instructions `math.exp((new_state_fitness[1] - best_fitness[1]) / T)` and `np.exp((new_state_fitness[1] - best_fitness[1]) / T)` return an overflow error. \\\n",
    "To avoid this, you should convert `(new_state_fitness[1] - best_fitness[1]) / T)` to `np.float128`. Unfortunately, this numpy data type is not available on my system.\n",
    "\n",
    "If you do this data type conversion, you should be able to find a much better solution."
   ]
  },
  {
   "cell_type": "code",
   "execution_count": 68,
   "metadata": {},
   "outputs": [],
   "source": [
    "def simulated_annealing(problem, state, fitness, max_it):\n",
    "    \"\"\"\n",
    "    Simulated Annealing implementation.\n",
    "\n",
    "    Args:\n",
    "        problem: 2-D boolean ndarray;\n",
    "        state: 1-D boolean ndarray (dim equal to #rows of problem);\n",
    "        fitness: fitness function to evaluate a state;\n",
    "        max_it: maximum number of iterations (int).\n",
    "\n",
    "    Returns:\n",
    "        Possible state solution to the problem.\n",
    "    \"\"\"\n",
    "    changes = 0\n",
    "    evals = 1\n",
    "    best_fitness = fitness(problem, state)\n",
    "    for it in tqdm(range(max_it)):\n",
    "        T = 1 - ((it + 1) / max_it)\n",
    "        if T == 0:\n",
    "            break\n",
    "        new_state = random_tweak(state)\n",
    "        evals += 1\n",
    "        new_state_fitness = fitness(problem, new_state)\n",
    "        if new_state_fitness > best_fitness:\n",
    "            state = new_state\n",
    "            best_fitness = new_state_fitness\n",
    "            changes += 1\n",
    "        else:\n",
    "            if uniform(0, 1) < math.exp((new_state_fitness[1] - best_fitness[1]) / T):\n",
    "                state = new_state\n",
    "                best_fitness = new_state_fitness\n",
    "                changes += 1\n",
    "\n",
    "    it += 1\n",
    "    print(\n",
    "        f'Terminated after {it} iterations.',\n",
    "        f'Terminated after {changes} changes.',\n",
    "        f'Number of evaluations: {evals}.',\n",
    "        sep='\\n',\n",
    "    )\n",
    "\n",
    "    goal, cost = best_fitness\n",
    "    cond = goal if isinstance(goal, np.bool_) else goal == problem.shape[1]\n",
    "\n",
    "    print(f'Goal reached? {\"Yes\" if cond else \"No\"}', f'State cost: {abs(cost)}', sep='\\n')\n",
    "    return state"
   ]
  },
  {
   "cell_type": "code",
   "execution_count": 67,
   "metadata": {},
   "outputs": [
    {
     "name": "stderr",
     "output_type": "stream",
     "text": [
      "100%|█████████▉| 5399/5400 [00:01<00:00, 4177.21it/s]"
     ]
    },
    {
     "name": "stdout",
     "output_type": "stream",
     "text": [
      "Terminated after 5400 iterations.\n",
      "Terminated after 1301 changes.\n",
      "Number of evaluations: 5400.\n",
      "Goal reached? Yes\n",
      "State cost: 19\n"
     ]
    },
    {
     "name": "stderr",
     "output_type": "stream",
     "text": [
      "\n"
     ]
    }
   ],
   "source": [
    "_ = simulated_annealing(problem, initial_state, fitness, 5_400)"
   ]
  },
  {
   "cell_type": "markdown",
   "metadata": {},
   "source": [
    "## Results"
   ]
  },
  {
   "cell_type": "markdown",
   "metadata": {},
   "source": [
    "### `fitness = fitness1`"
   ]
  },
  {
   "cell_type": "code",
   "execution_count": 74,
   "metadata": {},
   "outputs": [
    {
     "name": "stdout",
     "output_type": "stream",
     "text": [
      "** Combination: NUM_POINTS=100, NUM_SETS=100, DENSITY=0.3 **\n",
      "\n",
      "Problem shape: (100, 100)\n",
      "Initial state shape: (100,), Taken sets: 0\n",
      "\n",
      "-- RMHC\n"
     ]
    },
    {
     "name": "stderr",
     "output_type": "stream",
     "text": [
      " 22%|██▏       | 2183/10000 [00:00<00:00, 43350.59it/s]\n"
     ]
    },
    {
     "name": "stdout",
     "output_type": "stream",
     "text": [
      "Maximum number of evaluations without improvement reached.\n",
      "Terminated after 2184 iterations.\n",
      "Terminated after 14 changes.\n",
      "Number of evaluations: 2185.\n",
      "Goal reached? Yes\n",
      "State cost: 8\n",
      "\n",
      "-- SAHC\n"
     ]
    },
    {
     "name": "stderr",
     "output_type": "stream",
     "text": [
      "  1%|          | 12/1000 [00:00<00:02, 492.59it/s]\n"
     ]
    },
    {
     "name": "stdout",
     "output_type": "stream",
     "text": [
      "Terminated after 13 iterations.\n",
      "Terminated after 12 changes.\n",
      "Number of evaluations: 1301.\n",
      "Goal reached? Yes\n",
      "State cost: 10\n",
      "\n",
      "-- SAHCwReplacement\n"
     ]
    },
    {
     "name": "stderr",
     "output_type": "stream",
     "text": [
      "  1%|          | 8/1000 [00:00<00:02, 454.21it/s]\n"
     ]
    },
    {
     "name": "stdout",
     "output_type": "stream",
     "text": [
      "Terminated after 9 iterations.\n",
      "Terminated after 8 changes.\n",
      "Number of evaluations: 901.\n",
      "Goal reached? Yes\n",
      "State cost: 8\n",
      "\n",
      "-- tabu_search\n"
     ]
    },
    {
     "name": "stderr",
     "output_type": "stream",
     "text": [
      "  1%|          | 11/1000 [00:00<00:02, 363.58it/s]\n"
     ]
    },
    {
     "name": "stdout",
     "output_type": "stream",
     "text": [
      "Terminated after 12 iterations.\n",
      "Terminated after 11 changes.\n",
      "Number of evaluations: 1191.\n",
      "Goal reached? Yes\n",
      "State cost: 9\n",
      "\n",
      "-- simulated_annealing\n"
     ]
    },
    {
     "name": "stderr",
     "output_type": "stream",
     "text": [
      "100%|█████████▉| 904/905 [00:00<00:00, 35060.48it/s]\n"
     ]
    },
    {
     "name": "stdout",
     "output_type": "stream",
     "text": [
      "Terminated after 905 iterations.\n",
      "Terminated after 331 changes.\n",
      "Number of evaluations: 905.\n",
      "Goal reached? Yes\n",
      "State cost: 13\n",
      "\n",
      "** Combination: NUM_POINTS=100, NUM_SETS=100, DENSITY=0.7 **\n",
      "\n",
      "Problem shape: (100, 100)\n",
      "Initial state shape: (100,), Taken sets: 0\n",
      "\n",
      "-- RMHC\n"
     ]
    },
    {
     "name": "stderr",
     "output_type": "stream",
     "text": [
      "  0%|          | 0/10000 [00:00<?, ?it/s]"
     ]
    },
    {
     "name": "stdout",
     "output_type": "stream",
     "text": [
      "Maximum number of evaluations without improvement reached.\n"
     ]
    },
    {
     "name": "stderr",
     "output_type": "stream",
     "text": [
      " 22%|██▏       | 2228/10000 [00:00<00:00, 52228.08it/s]\n"
     ]
    },
    {
     "name": "stdout",
     "output_type": "stream",
     "text": [
      "Terminated after 2229 iterations.\n",
      "Terminated after 5 changes.\n",
      "Number of evaluations: 2230.\n",
      "Goal reached? Yes\n",
      "State cost: 3\n",
      "\n",
      "-- SAHC\n"
     ]
    },
    {
     "name": "stderr",
     "output_type": "stream",
     "text": [
      "  0%|          | 3/1000 [00:00<00:02, 440.78it/s]\n"
     ]
    },
    {
     "name": "stdout",
     "output_type": "stream",
     "text": [
      "Terminated after 4 iterations.\n",
      "Terminated after 3 changes.\n",
      "Number of evaluations: 401.\n",
      "Goal reached? Yes\n",
      "State cost: 3\n",
      "\n",
      "-- SAHCwReplacement\n"
     ]
    },
    {
     "name": "stderr",
     "output_type": "stream",
     "text": [
      "  0%|          | 3/1000 [00:00<00:02, 456.42it/s]\n"
     ]
    },
    {
     "name": "stdout",
     "output_type": "stream",
     "text": [
      "Terminated after 4 iterations.\n",
      "Terminated after 3 changes.\n",
      "Number of evaluations: 401.\n",
      "Goal reached? Yes\n",
      "State cost: 3\n",
      "\n",
      "-- tabu_search\n"
     ]
    },
    {
     "name": "stderr",
     "output_type": "stream",
     "text": [
      "  0%|          | 3/1000 [00:00<00:02, 387.91it/s]\n"
     ]
    },
    {
     "name": "stdout",
     "output_type": "stream",
     "text": [
      "Terminated after 4 iterations.\n",
      "Terminated after 3 changes.\n",
      "Number of evaluations: 399.\n",
      "Goal reached? Yes\n",
      "State cost: 3\n",
      "\n",
      "-- simulated_annealing\n"
     ]
    },
    {
     "name": "stderr",
     "output_type": "stream",
     "text": [
      "100%|█████████▉| 904/905 [00:00<00:00, 37802.35it/s]\n"
     ]
    },
    {
     "name": "stdout",
     "output_type": "stream",
     "text": [
      "Terminated after 905 iterations.\n",
      "Terminated after 260 changes.\n",
      "Number of evaluations: 905.\n",
      "Goal reached? Yes\n",
      "State cost: 4\n",
      "\n",
      "** Combination: NUM_POINTS=1000, NUM_SETS=1000, DENSITY=0.3 **\n",
      "\n",
      "Problem shape: (1000, 1000)\n",
      "Initial state shape: (1000,), Taken sets: 0\n",
      "\n",
      "-- RMHC\n"
     ]
    },
    {
     "name": "stderr",
     "output_type": "stream",
     "text": [
      " 30%|██▉       | 2970/10000 [00:00<00:00, 8533.84it/s]\n"
     ]
    },
    {
     "name": "stdout",
     "output_type": "stream",
     "text": [
      "Maximum number of evaluations without improvement reached.\n",
      "Terminated after 2971 iterations.\n",
      "Terminated after 30 changes.\n",
      "Number of evaluations: 2972.\n",
      "Goal reached? Yes\n",
      "State cost: 14\n",
      "\n",
      "-- SAHC\n"
     ]
    },
    {
     "name": "stderr",
     "output_type": "stream",
     "text": [
      "  2%|▏         | 20/1000 [00:02<01:48,  9.07it/s]\n"
     ]
    },
    {
     "name": "stdout",
     "output_type": "stream",
     "text": [
      "Terminated after 21 iterations.\n",
      "Terminated after 20 changes.\n",
      "Number of evaluations: 21001.\n",
      "Goal reached? Yes\n",
      "State cost: 16\n",
      "\n",
      "-- SAHCwReplacement\n"
     ]
    },
    {
     "name": "stderr",
     "output_type": "stream",
     "text": [
      "  2%|▏         | 19/1000 [00:00<00:11, 86.66it/s]\n"
     ]
    },
    {
     "name": "stdout",
     "output_type": "stream",
     "text": [
      "Terminated after 20 iterations.\n",
      "Terminated after 19 changes.\n",
      "Number of evaluations: 2017.\n",
      "Goal reached? Yes\n",
      "State cost: 15\n",
      "\n",
      "-- tabu_search\n"
     ]
    },
    {
     "name": "stderr",
     "output_type": "stream",
     "text": [
      "  1%|▏         | 14/1000 [00:00<00:12, 81.46it/s]\n"
     ]
    },
    {
     "name": "stdout",
     "output_type": "stream",
     "text": [
      "Terminated after 15 iterations.\n",
      "Terminated after 14 changes.\n",
      "Number of evaluations: 1512.\n",
      "Goal reached? Yes\n",
      "State cost: 14\n",
      "\n",
      "-- simulated_annealing\n"
     ]
    },
    {
     "name": "stderr",
     "output_type": "stream",
     "text": [
      "100%|█████████▉| 904/905 [00:00<00:00, 7279.93it/s]\n"
     ]
    },
    {
     "name": "stdout",
     "output_type": "stream",
     "text": [
      "Terminated after 905 iterations.\n",
      "Terminated after 179 changes.\n",
      "Number of evaluations: 905.\n",
      "Goal reached? Yes\n",
      "State cost: 53\n",
      "\n",
      "** Combination: NUM_POINTS=1000, NUM_SETS=1000, DENSITY=0.7 **\n",
      "\n",
      "Problem shape: (1000, 1000)\n",
      "Initial state shape: (1000,), Taken sets: 0\n",
      "\n",
      "-- RMHC\n"
     ]
    },
    {
     "name": "stderr",
     "output_type": "stream",
     "text": [
      " 20%|██        | 2005/10000 [00:00<00:00, 9279.19it/s]\n"
     ]
    },
    {
     "name": "stdout",
     "output_type": "stream",
     "text": [
      "Maximum number of evaluations without improvement reached.\n",
      "Terminated after 2006 iterations.\n",
      "Terminated after 6 changes.\n",
      "Number of evaluations: 2007.\n",
      "Goal reached? Yes\n",
      "State cost: 6\n",
      "\n",
      "-- SAHC\n"
     ]
    },
    {
     "name": "stderr",
     "output_type": "stream",
     "text": [
      "  0%|          | 4/1000 [00:00<02:10,  7.65it/s]\n"
     ]
    },
    {
     "name": "stdout",
     "output_type": "stream",
     "text": [
      "Terminated after 5 iterations.\n",
      "Terminated after 4 changes.\n",
      "Number of evaluations: 5001.\n",
      "Goal reached? Yes\n",
      "State cost: 4\n",
      "\n",
      "-- SAHCwReplacement\n"
     ]
    },
    {
     "name": "stderr",
     "output_type": "stream",
     "text": [
      "  0%|          | 5/1000 [00:00<00:13, 73.90it/s]\n"
     ]
    },
    {
     "name": "stdout",
     "output_type": "stream",
     "text": [
      "Terminated after 6 iterations.\n",
      "Terminated after 5 changes.\n",
      "Number of evaluations: 607.\n",
      "Goal reached? Yes\n",
      "State cost: 5\n",
      "\n",
      "-- tabu_search\n"
     ]
    },
    {
     "name": "stderr",
     "output_type": "stream",
     "text": [
      "  0%|          | 5/1000 [00:00<00:14, 68.48it/s]\n"
     ]
    },
    {
     "name": "stdout",
     "output_type": "stream",
     "text": [
      "Terminated after 6 iterations.\n",
      "Terminated after 5 changes.\n",
      "Number of evaluations: 607.\n",
      "Goal reached? Yes\n",
      "State cost: 5\n",
      "\n",
      "-- simulated_annealing\n"
     ]
    },
    {
     "name": "stderr",
     "output_type": "stream",
     "text": [
      "100%|█████████▉| 904/905 [00:00<00:00, 6827.90it/s]\n"
     ]
    },
    {
     "name": "stdout",
     "output_type": "stream",
     "text": [
      "Terminated after 905 iterations.\n",
      "Terminated after 204 changes.\n",
      "Number of evaluations: 905.\n",
      "Goal reached? Yes\n",
      "State cost: 64\n",
      "\n",
      "** Combination: NUM_POINTS=5000, NUM_SETS=5000, DENSITY=0.3 **\n",
      "\n",
      "Problem shape: (5000, 5000)\n",
      "Initial state shape: (5000,), Taken sets: 0\n",
      "\n",
      "-- RMHC\n"
     ]
    },
    {
     "name": "stderr",
     "output_type": "stream",
     "text": [
      " 61%|██████    | 6115/10000 [00:02<00:01, 2046.84it/s]\n"
     ]
    },
    {
     "name": "stdout",
     "output_type": "stream",
     "text": [
      "Maximum number of evaluations without improvement reached.\n",
      "Terminated after 6116 iterations.\n",
      "Terminated after 28 changes.\n",
      "Number of evaluations: 6117.\n",
      "Goal reached? Yes\n",
      "State cost: 20\n",
      "\n",
      "-- SAHC\n"
     ]
    },
    {
     "name": "stderr",
     "output_type": "stream",
     "text": [
      "  2%|▏         | 21/1000 [00:52<40:43,  2.50s/it]\n"
     ]
    },
    {
     "name": "stdout",
     "output_type": "stream",
     "text": [
      "Terminated after 22 iterations.\n",
      "Terminated after 21 changes.\n",
      "Number of evaluations: 110001.\n",
      "Goal reached? Yes\n",
      "State cost: 19\n",
      "\n",
      "-- SAHCwReplacement\n"
     ]
    },
    {
     "name": "stderr",
     "output_type": "stream",
     "text": [
      "  2%|▏         | 23/1000 [00:01<00:49, 19.60it/s]\n"
     ]
    },
    {
     "name": "stdout",
     "output_type": "stream",
     "text": [
      "Terminated after 24 iterations.\n",
      "Terminated after 23 changes.\n",
      "Number of evaluations: 2424.\n",
      "Goal reached? Yes\n",
      "State cost: 23\n",
      "\n",
      "-- tabu_search\n"
     ]
    },
    {
     "name": "stderr",
     "output_type": "stream",
     "text": [
      "  2%|▏         | 21/1000 [00:01<00:50, 19.29it/s]\n"
     ]
    },
    {
     "name": "stdout",
     "output_type": "stream",
     "text": [
      "Terminated after 22 iterations.\n",
      "Terminated after 21 changes.\n",
      "Number of evaluations: 2222.\n",
      "Goal reached? Yes\n",
      "State cost: 21\n",
      "\n",
      "-- simulated_annealing\n"
     ]
    },
    {
     "name": "stderr",
     "output_type": "stream",
     "text": [
      "100%|█████████▉| 904/905 [00:00<00:00, 1788.85it/s]\n"
     ]
    },
    {
     "name": "stdout",
     "output_type": "stream",
     "text": [
      "Terminated after 905 iterations.\n",
      "Terminated after 191 changes.\n",
      "Number of evaluations: 905.\n",
      "Goal reached? Yes\n",
      "State cost: 141\n",
      "\n",
      "** Combination: NUM_POINTS=5000, NUM_SETS=5000, DENSITY=0.7 **\n",
      "\n",
      "Problem shape: (5000, 5000)\n",
      "Initial state shape: (5000,), Taken sets: 0\n",
      "\n",
      "-- RMHC\n"
     ]
    },
    {
     "name": "stderr",
     "output_type": "stream",
     "text": [
      " 23%|██▎       | 2307/10000 [00:01<00:03, 2050.27it/s]\n"
     ]
    },
    {
     "name": "stdout",
     "output_type": "stream",
     "text": [
      "Maximum number of evaluations without improvement reached.\n",
      "Terminated after 2308 iterations.\n",
      "Terminated after 11 changes.\n",
      "Number of evaluations: 2309.\n",
      "Goal reached? Yes\n",
      "State cost: 7\n",
      "\n",
      "-- SAHC\n"
     ]
    },
    {
     "name": "stderr",
     "output_type": "stream",
     "text": [
      "  1%|          | 6/1000 [00:16<45:59,  2.78s/it]\n"
     ]
    },
    {
     "name": "stdout",
     "output_type": "stream",
     "text": [
      "Terminated after 7 iterations.\n",
      "Terminated after 6 changes.\n",
      "Number of evaluations: 35001.\n",
      "Goal reached? Yes\n",
      "State cost: 6\n",
      "\n",
      "-- SAHCwReplacement\n"
     ]
    },
    {
     "name": "stderr",
     "output_type": "stream",
     "text": [
      "  1%|          | 6/1000 [00:00<00:57, 17.22it/s]\n"
     ]
    },
    {
     "name": "stdout",
     "output_type": "stream",
     "text": [
      "Terminated after 7 iterations.\n",
      "Terminated after 6 changes.\n",
      "Number of evaluations: 708.\n",
      "Goal reached? Yes\n",
      "State cost: 6\n",
      "\n",
      "-- tabu_search\n"
     ]
    },
    {
     "name": "stderr",
     "output_type": "stream",
     "text": [
      "  1%|          | 6/1000 [00:00<00:58, 16.98it/s]\n"
     ]
    },
    {
     "name": "stdout",
     "output_type": "stream",
     "text": [
      "Terminated after 7 iterations.\n",
      "Terminated after 6 changes.\n",
      "Number of evaluations: 707.\n",
      "Goal reached? Yes\n",
      "State cost: 6\n",
      "\n",
      "-- simulated_annealing\n"
     ]
    },
    {
     "name": "stderr",
     "output_type": "stream",
     "text": [
      "100%|█████████▉| 904/905 [00:00<00:00, 1755.36it/s]"
     ]
    },
    {
     "name": "stdout",
     "output_type": "stream",
     "text": [
      "Terminated after 905 iterations.\n",
      "Terminated after 147 changes.\n",
      "Number of evaluations: 905.\n",
      "Goal reached? Yes\n",
      "State cost: 115\n",
      "\n"
     ]
    },
    {
     "name": "stderr",
     "output_type": "stream",
     "text": [
      "\n"
     ]
    }
   ],
   "source": [
    "fitness = fitness1\n",
    "\n",
    "for NUM_POINTS, DENSITY in product((100, 1_000, 5_000), (0.3, 0.7)):\n",
    "    NUM_SETS = NUM_POINTS\n",
    "\n",
    "    print(f'** Combination: NUM_POINTS={NUM_POINTS}, NUM_SETS={NUM_SETS}, DENSITY={DENSITY} **', end='\\n\\n')\n",
    "\n",
    "    problem, initial_state = make_set_covering_problem(NUM_POINTS, NUM_SETS, DENSITY)\n",
    "    print(\n",
    "        f'Problem shape: {problem.shape}',\n",
    "        f'Initial state shape: {initial_state.shape}, Taken sets: {np.sum(initial_state)}',\n",
    "        sep='\\n',\n",
    "    )\n",
    "\n",
    "    print('\\n-- RMHC')\n",
    "    _ = RMHC(problem, initial_state, fitness, 10_000, 2_000)\n",
    "    print('\\n-- SAHC')\n",
    "    _ = SAHC(problem, initial_state, fitness, 1_000)\n",
    "    print('\\n-- SAHCwReplacement')\n",
    "    _ = SAHCwReplacement(problem, initial_state, fitness, 100, 1_000)\n",
    "    print('\\n-- tabu_search')\n",
    "    _ = tabu_search(problem, initial_state, fitness, 100, 5, 1_000)\n",
    "    print('\\n-- simulated_annealing')\n",
    "    _ = simulated_annealing(problem, initial_state, fitness, 905)\n",
    "\n",
    "    print()"
   ]
  },
  {
   "cell_type": "markdown",
   "metadata": {},
   "source": [
    "### `fitness = fitness2`"
   ]
  },
  {
   "cell_type": "code",
   "execution_count": 24,
   "metadata": {},
   "outputs": [
    {
     "name": "stdout",
     "output_type": "stream",
     "text": [
      "** Combination: NUM_POINTS=100, NUM_SETS=100, DENSITY=0.3 **\n",
      "\n",
      "Problem shape: (100, 100)\n",
      "Initial state shape: (100,), Taken sets: 0\n",
      "\n",
      "-- RMHC\n"
     ]
    },
    {
     "name": "stderr",
     "output_type": "stream",
     "text": [
      " 22%|██▏       | 2183/10000 [00:00<00:00, 30989.11it/s]\n"
     ]
    },
    {
     "name": "stdout",
     "output_type": "stream",
     "text": [
      "Maximum number of evaluations without improvement reached.\n",
      "Terminated after 2184 iterations.\n",
      "Terminated after 14 changes.\n",
      "Number of evaluations: 2185.\n",
      "Goal reached? Yes\n",
      "State cost: 8\n",
      "\n",
      "-- SAHC\n"
     ]
    },
    {
     "name": "stderr",
     "output_type": "stream",
     "text": [
      "  1%|          | 6/1000 [00:00<00:02, 337.57it/s]\n"
     ]
    },
    {
     "name": "stdout",
     "output_type": "stream",
     "text": [
      "Terminated after 7 iterations.\n",
      "Terminated after 6 changes.\n",
      "Number of evaluations: 701.\n",
      "Goal reached? Yes\n",
      "State cost: 6\n",
      "\n",
      "-- SAHCwReplacement\n"
     ]
    },
    {
     "name": "stderr",
     "output_type": "stream",
     "text": [
      "  1%|          | 6/1000 [00:00<00:03, 321.90it/s]\n"
     ]
    },
    {
     "name": "stdout",
     "output_type": "stream",
     "text": [
      "Terminated after 7 iterations.\n",
      "Terminated after 6 changes.\n",
      "Number of evaluations: 701.\n",
      "Goal reached? Yes\n",
      "State cost: 6\n",
      "\n",
      "-- tabu_search\n"
     ]
    },
    {
     "name": "stderr",
     "output_type": "stream",
     "text": [
      "  1%|          | 6/1000 [00:00<00:03, 280.86it/s]\n"
     ]
    },
    {
     "name": "stdout",
     "output_type": "stream",
     "text": [
      "Terminated after 7 iterations.\n",
      "Terminated after 6 changes.\n",
      "Number of evaluations: 696.\n",
      "Goal reached? Yes\n",
      "State cost: 6\n",
      "\n",
      "-- simulated_annealing\n"
     ]
    },
    {
     "name": "stderr",
     "output_type": "stream",
     "text": [
      "100%|█████████▉| 5399/5400 [00:00<00:00, 29396.90it/s]\n"
     ]
    },
    {
     "name": "stdout",
     "output_type": "stream",
     "text": [
      "Terminated after 5400 iterations.\n",
      "Terminated after 1726 changes.\n",
      "Number of evaluations: 5400.\n",
      "Goal reached? Yes\n",
      "State cost: 8\n",
      "\n",
      "** Combination: NUM_POINTS=100, NUM_SETS=100, DENSITY=0.7 **\n",
      "\n",
      "Problem shape: (100, 100)\n",
      "Initial state shape: (100,), Taken sets: 0\n",
      "\n",
      "-- RMHC\n"
     ]
    },
    {
     "name": "stderr",
     "output_type": "stream",
     "text": [
      " 22%|██▏       | 2228/10000 [00:00<00:00, 39503.50it/s]"
     ]
    },
    {
     "name": "stdout",
     "output_type": "stream",
     "text": [
      "Maximum number of evaluations without improvement reached.\n"
     ]
    },
    {
     "name": "stderr",
     "output_type": "stream",
     "text": [
      "\n"
     ]
    },
    {
     "name": "stdout",
     "output_type": "stream",
     "text": [
      "Terminated after 2229 iterations.\n",
      "Terminated after 5 changes.\n",
      "Number of evaluations: 2230.\n",
      "Goal reached? Yes\n",
      "State cost: 3\n",
      "\n",
      "-- SAHC\n"
     ]
    },
    {
     "name": "stderr",
     "output_type": "stream",
     "text": [
      "  0%|          | 3/1000 [00:00<00:03, 294.67it/s]\n"
     ]
    },
    {
     "name": "stdout",
     "output_type": "stream",
     "text": [
      "Terminated after 4 iterations.\n",
      "Terminated after 3 changes.\n",
      "Number of evaluations: 401.\n",
      "Goal reached? Yes\n",
      "State cost: 3\n",
      "\n",
      "-- SAHCwReplacement\n"
     ]
    },
    {
     "name": "stderr",
     "output_type": "stream",
     "text": [
      "  0%|          | 3/1000 [00:00<00:03, 295.27it/s]\n"
     ]
    },
    {
     "name": "stdout",
     "output_type": "stream",
     "text": [
      "Terminated after 4 iterations.\n",
      "Terminated after 3 changes.\n",
      "Number of evaluations: 401.\n",
      "Goal reached? Yes\n",
      "State cost: 3\n",
      "\n",
      "-- tabu_search\n"
     ]
    },
    {
     "name": "stderr",
     "output_type": "stream",
     "text": [
      "  0%|          | 3/1000 [00:00<00:03, 262.08it/s]\n"
     ]
    },
    {
     "name": "stdout",
     "output_type": "stream",
     "text": [
      "Terminated after 4 iterations.\n",
      "Terminated after 3 changes.\n",
      "Number of evaluations: 399.\n",
      "Goal reached? Yes\n",
      "State cost: 3\n",
      "\n",
      "-- simulated_annealing\n"
     ]
    },
    {
     "name": "stderr",
     "output_type": "stream",
     "text": [
      "100%|█████████▉| 5399/5400 [00:00<00:00, 30023.94it/s]\n"
     ]
    },
    {
     "name": "stdout",
     "output_type": "stream",
     "text": [
      "Terminated after 5400 iterations.\n",
      "Terminated after 1470 changes.\n",
      "Number of evaluations: 5400.\n",
      "Goal reached? Yes\n",
      "State cost: 6\n",
      "\n",
      "** Combination: NUM_POINTS=1000, NUM_SETS=1000, DENSITY=0.3 **\n",
      "\n",
      "Problem shape: (1000, 1000)\n",
      "Initial state shape: (1000,), Taken sets: 0\n",
      "\n",
      "-- RMHC\n"
     ]
    },
    {
     "name": "stderr",
     "output_type": "stream",
     "text": [
      " 28%|██▊       | 2822/10000 [00:00<00:01, 5243.77it/s]\n"
     ]
    },
    {
     "name": "stdout",
     "output_type": "stream",
     "text": [
      "Maximum number of evaluations without improvement reached.\n",
      "Terminated after 2823 iterations.\n",
      "Terminated after 23 changes.\n",
      "Number of evaluations: 2824.\n",
      "Goal reached? Yes\n",
      "State cost: 15\n",
      "\n",
      "-- SAHC\n"
     ]
    },
    {
     "name": "stderr",
     "output_type": "stream",
     "text": [
      "  1%|          | 10/1000 [00:01<03:09,  5.23it/s]\n"
     ]
    },
    {
     "name": "stdout",
     "output_type": "stream",
     "text": [
      "Terminated after 11 iterations.\n",
      "Terminated after 10 changes.\n",
      "Number of evaluations: 11001.\n",
      "Goal reached? Yes\n",
      "State cost: 10\n",
      "\n",
      "-- SAHCwReplacement\n"
     ]
    },
    {
     "name": "stderr",
     "output_type": "stream",
     "text": [
      "  1%|          | 11/1000 [00:00<00:19, 51.02it/s]\n"
     ]
    },
    {
     "name": "stdout",
     "output_type": "stream",
     "text": [
      "Terminated after 12 iterations.\n",
      "Terminated after 11 changes.\n",
      "Number of evaluations: 1211.\n",
      "Goal reached? Yes\n",
      "State cost: 11\n",
      "\n",
      "-- tabu_search\n"
     ]
    },
    {
     "name": "stderr",
     "output_type": "stream",
     "text": [
      "  1%|          | 11/1000 [00:00<00:20, 48.73it/s]\n"
     ]
    },
    {
     "name": "stdout",
     "output_type": "stream",
     "text": [
      "Terminated after 12 iterations.\n",
      "Terminated after 11 changes.\n",
      "Number of evaluations: 1210.\n",
      "Goal reached? Yes\n",
      "State cost: 11\n",
      "\n",
      "-- simulated_annealing\n"
     ]
    },
    {
     "name": "stderr",
     "output_type": "stream",
     "text": [
      "100%|█████████▉| 5399/5400 [00:01<00:00, 4054.96it/s]\n"
     ]
    },
    {
     "name": "stdout",
     "output_type": "stream",
     "text": [
      "Terminated after 5400 iterations.\n",
      "Terminated after 1296 changes.\n",
      "Number of evaluations: 5400.\n",
      "Goal reached? Yes\n",
      "State cost: 20\n",
      "\n",
      "** Combination: NUM_POINTS=1000, NUM_SETS=1000, DENSITY=0.7 **\n",
      "\n",
      "Problem shape: (1000, 1000)\n",
      "Initial state shape: (1000,), Taken sets: 0\n",
      "\n",
      "-- RMHC\n"
     ]
    },
    {
     "name": "stderr",
     "output_type": "stream",
     "text": [
      " 20%|██        | 2005/10000 [00:00<00:01, 5622.49it/s]\n"
     ]
    },
    {
     "name": "stdout",
     "output_type": "stream",
     "text": [
      "Maximum number of evaluations without improvement reached.\n",
      "Terminated after 2006 iterations.\n",
      "Terminated after 6 changes.\n",
      "Number of evaluations: 2007.\n",
      "Goal reached? Yes\n",
      "State cost: 6\n",
      "\n",
      "-- SAHC\n"
     ]
    },
    {
     "name": "stderr",
     "output_type": "stream",
     "text": [
      "  0%|          | 4/1000 [00:00<03:34,  4.65it/s]\n"
     ]
    },
    {
     "name": "stdout",
     "output_type": "stream",
     "text": [
      "Terminated after 5 iterations.\n",
      "Terminated after 4 changes.\n",
      "Number of evaluations: 5001.\n",
      "Goal reached? Yes\n",
      "State cost: 4\n",
      "\n",
      "-- SAHCwReplacement\n"
     ]
    },
    {
     "name": "stderr",
     "output_type": "stream",
     "text": [
      "  0%|          | 5/1000 [00:00<00:21, 47.02it/s]\n"
     ]
    },
    {
     "name": "stdout",
     "output_type": "stream",
     "text": [
      "Terminated after 6 iterations.\n",
      "Terminated after 5 changes.\n",
      "Number of evaluations: 607.\n",
      "Goal reached? Yes\n",
      "State cost: 5\n",
      "\n",
      "-- tabu_search\n"
     ]
    },
    {
     "name": "stderr",
     "output_type": "stream",
     "text": [
      "  0%|          | 4/1000 [00:00<00:23, 42.54it/s]\n"
     ]
    },
    {
     "name": "stdout",
     "output_type": "stream",
     "text": [
      "Terminated after 5 iterations.\n",
      "Terminated after 4 changes.\n",
      "Number of evaluations: 505.\n",
      "Goal reached? Yes\n",
      "State cost: 4\n",
      "\n",
      "-- simulated_annealing\n"
     ]
    },
    {
     "name": "stderr",
     "output_type": "stream",
     "text": [
      "100%|█████████▉| 5399/5400 [00:01<00:00, 3934.89it/s]\n"
     ]
    },
    {
     "name": "stdout",
     "output_type": "stream",
     "text": [
      "Terminated after 5400 iterations.\n",
      "Terminated after 1364 changes.\n",
      "Number of evaluations: 5400.\n",
      "Goal reached? Yes\n",
      "State cost: 22\n",
      "\n",
      "** Combination: NUM_POINTS=5000, NUM_SETS=5000, DENSITY=0.3 **\n",
      "\n",
      "Problem shape: (5000, 5000)\n",
      "Initial state shape: (5000,), Taken sets: 0\n",
      "\n",
      "-- RMHC\n"
     ]
    },
    {
     "name": "stderr",
     "output_type": "stream",
     "text": [
      " 20%|██        | 2023/10000 [00:01<00:06, 1177.44it/s]\n"
     ]
    },
    {
     "name": "stdout",
     "output_type": "stream",
     "text": [
      "Maximum number of evaluations without improvement reached.\n",
      "Terminated after 2024 iterations.\n",
      "Terminated after 22 changes.\n",
      "Number of evaluations: 2025.\n",
      "Goal reached? Yes\n",
      "State cost: 22\n",
      "\n",
      "-- SAHC\n"
     ]
    },
    {
     "name": "stderr",
     "output_type": "stream",
     "text": [
      "  1%|▏         | 13/1000 [00:57<1:13:12,  4.45s/it]\n"
     ]
    },
    {
     "name": "stdout",
     "output_type": "stream",
     "text": [
      "Terminated after 14 iterations.\n",
      "Terminated after 13 changes.\n",
      "Number of evaluations: 70001.\n",
      "Goal reached? Yes\n",
      "State cost: 13\n",
      "\n",
      "-- SAHCwReplacement\n"
     ]
    },
    {
     "name": "stderr",
     "output_type": "stream",
     "text": [
      "  2%|▏         | 15/1000 [00:01<01:28, 11.08it/s]\n"
     ]
    },
    {
     "name": "stdout",
     "output_type": "stream",
     "text": [
      "Terminated after 16 iterations.\n",
      "Terminated after 15 changes.\n",
      "Number of evaluations: 1617.\n",
      "Goal reached? Yes\n",
      "State cost: 15\n",
      "\n",
      "-- tabu_search\n"
     ]
    },
    {
     "name": "stderr",
     "output_type": "stream",
     "text": [
      "  2%|▏         | 15/1000 [00:01<01:30, 10.93it/s]\n"
     ]
    },
    {
     "name": "stdout",
     "output_type": "stream",
     "text": [
      "Terminated after 16 iterations.\n",
      "Terminated after 15 changes.\n",
      "Number of evaluations: 1615.\n",
      "Goal reached? Yes\n",
      "State cost: 15\n",
      "\n",
      "-- simulated_annealing\n"
     ]
    },
    {
     "name": "stderr",
     "output_type": "stream",
     "text": [
      "100%|█████████▉| 5399/5400 [00:06<00:00, 892.26it/s]\n"
     ]
    },
    {
     "name": "stdout",
     "output_type": "stream",
     "text": [
      "Terminated after 5400 iterations.\n",
      "Terminated after 1210 changes.\n",
      "Number of evaluations: 5400.\n",
      "Goal reached? Yes\n",
      "State cost: 322\n",
      "\n",
      "** Combination: NUM_POINTS=5000, NUM_SETS=5000, DENSITY=0.7 **\n",
      "\n",
      "Problem shape: (5000, 5000)\n",
      "Initial state shape: (5000,), Taken sets: 0\n",
      "\n",
      "-- RMHC\n"
     ]
    },
    {
     "name": "stderr",
     "output_type": "stream",
     "text": [
      " 21%|██        | 2092/10000 [00:01<00:06, 1198.75it/s]\n"
     ]
    },
    {
     "name": "stdout",
     "output_type": "stream",
     "text": [
      "Maximum number of evaluations without improvement reached.\n",
      "Terminated after 2093 iterations.\n",
      "Terminated after 9 changes.\n",
      "Number of evaluations: 2094.\n",
      "Goal reached? Yes\n",
      "State cost: 7\n",
      "\n",
      "-- SAHC\n"
     ]
    },
    {
     "name": "stderr",
     "output_type": "stream",
     "text": [
      "  0%|          | 5/1000 [00:24<1:21:27,  4.91s/it]\n"
     ]
    },
    {
     "name": "stdout",
     "output_type": "stream",
     "text": [
      "Terminated after 6 iterations.\n",
      "Terminated after 5 changes.\n",
      "Number of evaluations: 30001.\n",
      "Goal reached? Yes\n",
      "State cost: 5\n",
      "\n",
      "-- SAHCwReplacement\n"
     ]
    },
    {
     "name": "stderr",
     "output_type": "stream",
     "text": [
      "  0%|          | 5/1000 [00:00<01:40,  9.87it/s]\n"
     ]
    },
    {
     "name": "stdout",
     "output_type": "stream",
     "text": [
      "Terminated after 6 iterations.\n",
      "Terminated after 5 changes.\n",
      "Number of evaluations: 607.\n",
      "Goal reached? Yes\n",
      "State cost: 5\n",
      "\n",
      "-- tabu_search\n"
     ]
    },
    {
     "name": "stderr",
     "output_type": "stream",
     "text": [
      "  1%|          | 6/1000 [00:00<01:38, 10.10it/s]\n"
     ]
    },
    {
     "name": "stdout",
     "output_type": "stream",
     "text": [
      "Terminated after 7 iterations.\n",
      "Terminated after 6 changes.\n",
      "Number of evaluations: 707.\n",
      "Goal reached? Yes\n",
      "State cost: 6\n",
      "\n",
      "-- simulated_annealing\n"
     ]
    },
    {
     "name": "stderr",
     "output_type": "stream",
     "text": [
      "100%|█████████▉| 5399/5400 [00:06<00:00, 890.24it/s]"
     ]
    },
    {
     "name": "stdout",
     "output_type": "stream",
     "text": [
      "Terminated after 5400 iterations.\n",
      "Terminated after 1183 changes.\n",
      "Number of evaluations: 5400.\n",
      "Goal reached? Yes\n",
      "State cost: 325\n",
      "\n"
     ]
    },
    {
     "name": "stderr",
     "output_type": "stream",
     "text": [
      "\n"
     ]
    }
   ],
   "source": [
    "fitness = fitness2\n",
    "\n",
    "for NUM_POINTS, DENSITY in product((100, 1_000, 5_000), (0.3, 0.7)):\n",
    "    NUM_SETS = NUM_POINTS\n",
    "\n",
    "    print(f'** Combination: NUM_POINTS={NUM_POINTS}, NUM_SETS={NUM_SETS}, DENSITY={DENSITY} **', end='\\n\\n')\n",
    "\n",
    "    problem, initial_state = make_set_covering_problem(NUM_POINTS, NUM_SETS, DENSITY)\n",
    "    print(\n",
    "        f'Problem shape: {problem.shape}',\n",
    "        f'Initial state shape: {initial_state.shape}, Taken sets: {np.sum(initial_state)}',\n",
    "        sep='\\n',\n",
    "    )\n",
    "\n",
    "    print('\\n-- RMHC')\n",
    "    _ = RMHC(problem, initial_state, fitness, 10_000, 2_000)\n",
    "    print('\\n-- SAHC')\n",
    "    _ = SAHC(problem, initial_state, fitness, 1_000)\n",
    "    print('\\n-- SAHCwReplacement')\n",
    "    _ = SAHCwReplacement(problem, initial_state, fitness, 100, 1_000)\n",
    "    print('\\n-- tabu_search')\n",
    "    _ = tabu_search(problem, initial_state, fitness, 100, 5, 1_000)\n",
    "    print('\\n-- simulated_annealing')\n",
    "    _ = simulated_annealing(problem, initial_state, fitness, 5_400)\n",
    "\n",
    "    print()"
   ]
  },
  {
   "cell_type": "markdown",
   "metadata": {},
   "source": [
    "#### Run Simulated Annealing again with same arguments for both `fitness1` and `fitness2`"
   ]
  },
  {
   "cell_type": "code",
   "execution_count": 54,
   "metadata": {},
   "outputs": [
    {
     "name": "stdout",
     "output_type": "stream",
     "text": [
      "** Combination: NUM_POINTS=100, NUM_SETS=100, DENSITY=0.3 **\n",
      "\n",
      "Problem shape: (100, 100)\n",
      "Initial state shape: (100,), Taken sets: 0\n",
      "\n",
      "-- simulated_annealing with fitness1\n"
     ]
    },
    {
     "name": "stderr",
     "output_type": "stream",
     "text": [
      "100%|█████████▉| 904/905 [00:00<00:00, 31919.75it/s]\n"
     ]
    },
    {
     "name": "stdout",
     "output_type": "stream",
     "text": [
      "Terminated after 905 iterations.\n",
      "Terminated after 318 changes.\n",
      "Number of evaluations: 905.\n",
      "Goal reached? Yes\n",
      "State cost: 14\n",
      "\n",
      "-- simulated_annealing with fitness2\n"
     ]
    },
    {
     "name": "stderr",
     "output_type": "stream",
     "text": [
      "100%|█████████▉| 904/905 [00:00<00:00, 29199.79it/s]\n"
     ]
    },
    {
     "name": "stdout",
     "output_type": "stream",
     "text": [
      "Terminated after 905 iterations.\n",
      "Terminated after 299 changes.\n",
      "Number of evaluations: 905.\n",
      "Goal reached? Yes\n",
      "State cost: 9\n",
      "\n",
      "** Combination: NUM_POINTS=100, NUM_SETS=100, DENSITY=0.7 **\n",
      "\n",
      "Problem shape: (100, 100)\n",
      "Initial state shape: (100,), Taken sets: 0\n",
      "\n",
      "-- simulated_annealing with fitness1\n"
     ]
    },
    {
     "name": "stderr",
     "output_type": "stream",
     "text": [
      "100%|█████████▉| 904/905 [00:00<00:00, 37593.21it/s]\n"
     ]
    },
    {
     "name": "stdout",
     "output_type": "stream",
     "text": [
      "Terminated after 905 iterations.\n",
      "Terminated after 242 changes.\n",
      "Number of evaluations: 905.\n",
      "Goal reached? Yes\n",
      "State cost: 4\n",
      "\n",
      "-- simulated_annealing with fitness2\n"
     ]
    },
    {
     "name": "stderr",
     "output_type": "stream",
     "text": [
      "100%|█████████▉| 904/905 [00:00<00:00, 27984.93it/s]\n"
     ]
    },
    {
     "name": "stdout",
     "output_type": "stream",
     "text": [
      "Terminated after 905 iterations.\n",
      "Terminated after 226 changes.\n",
      "Number of evaluations: 905.\n",
      "Goal reached? Yes\n",
      "State cost: 4\n",
      "\n",
      "** Combination: NUM_POINTS=1000, NUM_SETS=1000, DENSITY=0.3 **\n",
      "\n",
      "Problem shape: (1000, 1000)\n",
      "Initial state shape: (1000,), Taken sets: 0\n",
      "\n",
      "-- simulated_annealing with fitness1\n"
     ]
    },
    {
     "name": "stderr",
     "output_type": "stream",
     "text": [
      "100%|█████████▉| 904/905 [00:00<00:00, 6375.73it/s]\n"
     ]
    },
    {
     "name": "stdout",
     "output_type": "stream",
     "text": [
      "Terminated after 905 iterations.\n",
      "Terminated after 204 changes.\n",
      "Number of evaluations: 905.\n",
      "Goal reached? Yes\n",
      "State cost: 70\n",
      "\n",
      "-- simulated_annealing with fitness2\n"
     ]
    },
    {
     "name": "stderr",
     "output_type": "stream",
     "text": [
      "100%|█████████▉| 904/905 [00:00<00:00, 4549.39it/s]\n"
     ]
    },
    {
     "name": "stdout",
     "output_type": "stream",
     "text": [
      "Terminated after 905 iterations.\n",
      "Terminated after 197 changes.\n",
      "Number of evaluations: 905.\n",
      "Goal reached? Yes\n",
      "State cost: 83\n",
      "\n",
      "** Combination: NUM_POINTS=1000, NUM_SETS=1000, DENSITY=0.7 **\n",
      "\n",
      "Problem shape: (1000, 1000)\n",
      "Initial state shape: (1000,), Taken sets: 0\n",
      "\n",
      "-- simulated_annealing with fitness1\n"
     ]
    },
    {
     "name": "stderr",
     "output_type": "stream",
     "text": [
      "100%|█████████▉| 904/905 [00:00<00:00, 6947.91it/s]\n"
     ]
    },
    {
     "name": "stdout",
     "output_type": "stream",
     "text": [
      "Terminated after 905 iterations.\n",
      "Terminated after 202 changes.\n",
      "Number of evaluations: 905.\n",
      "Goal reached? Yes\n",
      "State cost: 68\n",
      "\n",
      "-- simulated_annealing with fitness2\n"
     ]
    },
    {
     "name": "stderr",
     "output_type": "stream",
     "text": [
      "100%|█████████▉| 904/905 [00:00<00:00, 4678.28it/s]\n"
     ]
    },
    {
     "name": "stdout",
     "output_type": "stream",
     "text": [
      "Terminated after 905 iterations.\n",
      "Terminated after 178 changes.\n",
      "Number of evaluations: 905.\n",
      "Goal reached? Yes\n",
      "State cost: 80\n",
      "\n",
      "** Combination: NUM_POINTS=5000, NUM_SETS=5000, DENSITY=0.3 **\n",
      "\n",
      "Problem shape: (5000, 5000)\n",
      "Initial state shape: (5000,), Taken sets: 0\n",
      "\n",
      "-- simulated_annealing with fitness1\n"
     ]
    },
    {
     "name": "stderr",
     "output_type": "stream",
     "text": [
      "100%|█████████▉| 904/905 [00:00<00:00, 1803.73it/s]\n"
     ]
    },
    {
     "name": "stdout",
     "output_type": "stream",
     "text": [
      "Terminated after 905 iterations.\n",
      "Terminated after 141 changes.\n",
      "Number of evaluations: 905.\n",
      "Goal reached? Yes\n",
      "State cost: 123\n",
      "\n",
      "-- simulated_annealing with fitness2\n"
     ]
    },
    {
     "name": "stderr",
     "output_type": "stream",
     "text": [
      "100%|█████████▉| 904/905 [00:00<00:00, 1099.66it/s]\n"
     ]
    },
    {
     "name": "stdout",
     "output_type": "stream",
     "text": [
      "Terminated after 905 iterations.\n",
      "Terminated after 156 changes.\n",
      "Number of evaluations: 905.\n",
      "Goal reached? Yes\n",
      "State cost: 120\n",
      "\n",
      "** Combination: NUM_POINTS=5000, NUM_SETS=5000, DENSITY=0.7 **\n",
      "\n",
      "Problem shape: (5000, 5000)\n",
      "Initial state shape: (5000,), Taken sets: 0\n",
      "\n",
      "-- simulated_annealing with fitness1\n"
     ]
    },
    {
     "name": "stderr",
     "output_type": "stream",
     "text": [
      "100%|█████████▉| 904/905 [00:00<00:00, 1783.70it/s]\n"
     ]
    },
    {
     "name": "stdout",
     "output_type": "stream",
     "text": [
      "Terminated after 905 iterations.\n",
      "Terminated after 167 changes.\n",
      "Number of evaluations: 905.\n",
      "Goal reached? Yes\n",
      "State cost: 123\n",
      "\n",
      "-- simulated_annealing with fitness2\n"
     ]
    },
    {
     "name": "stderr",
     "output_type": "stream",
     "text": [
      "100%|█████████▉| 904/905 [00:00<00:00, 1104.17it/s]"
     ]
    },
    {
     "name": "stdout",
     "output_type": "stream",
     "text": [
      "Terminated after 905 iterations.\n",
      "Terminated after 142 changes.\n",
      "Number of evaluations: 905.\n",
      "Goal reached? Yes\n",
      "State cost: 112\n",
      "\n"
     ]
    },
    {
     "name": "stderr",
     "output_type": "stream",
     "text": [
      "\n"
     ]
    }
   ],
   "source": [
    "for NUM_POINTS, DENSITY in product((100, 1_000, 5_000), (0.3, 0.7)):\n",
    "    NUM_SETS = NUM_POINTS\n",
    "\n",
    "    print(f'** Combination: NUM_POINTS={NUM_POINTS}, NUM_SETS={NUM_SETS}, DENSITY={DENSITY} **', end='\\n\\n')\n",
    "\n",
    "    problem, initial_state = make_set_covering_problem(NUM_POINTS, NUM_SETS, DENSITY)\n",
    "    print(\n",
    "        f'Problem shape: {problem.shape}',\n",
    "        f'Initial state shape: {initial_state.shape}, Taken sets: {np.sum(initial_state)}',\n",
    "        sep='\\n',\n",
    "    )\n",
    "\n",
    "    print('\\n-- simulated_annealing with fitness1')\n",
    "    _ = simulated_annealing(problem, initial_state, fitness1, 905)\n",
    "    print('\\n-- simulated_annealing with fitness2')\n",
    "    _ = simulated_annealing(problem, initial_state, fitness2, 905)\n",
    "\n",
    "    print()"
   ]
  }
 ],
 "metadata": {
  "kernelspec": {
   "display_name": "Python 3 (ipykernel)",
   "language": "python",
   "name": "python3"
  },
  "language_info": {
   "codemirror_mode": {
    "name": "ipython",
    "version": 3
   },
   "file_extension": ".py",
   "mimetype": "text/x-python",
   "name": "python",
   "nbconvert_exporter": "python",
   "pygments_lexer": "ipython3",
   "version": "3.12.0"
  }
 },
 "nbformat": 4,
 "nbformat_minor": 4
}
