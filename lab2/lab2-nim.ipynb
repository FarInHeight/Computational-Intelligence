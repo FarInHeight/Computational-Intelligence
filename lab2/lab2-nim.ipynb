{
 "cells": [
  {
   "cell_type": "markdown",
   "metadata": {
    "pycharm": {
     "name": "#%% md\n"
    }
   },
   "source": [
    "Copyright **`(c)`** 2022 Giovanni Squillero `<squillero@polito.it>`  \n",
    "[`https://github.com/squillero/computational-intelligence`](https://github.com/squillero/computational-intelligence)  \n",
    "Free for personal or classroom use; see [`LICENSE.md`](https://github.com/squillero/computational-intelligence/blob/master/LICENSE.md) for details.  \n"
   ]
  },
  {
   "cell_type": "markdown",
   "metadata": {
    "pycharm": {
     "name": "#%%\n"
    }
   },
   "source": [
    "# Lab 3: ES\n",
    "\n",
    "## Task\n",
    "\n",
    "Write agents able to play [*Nim*](https://en.wikipedia.org/wiki/Nim), with an arbitrary number of rows and an upper bound $k$ on the number of objects that can be removed in a turn (a.k.a., *subtraction game*).\n",
    "\n",
    "The goal of the game is to **avoid** taking the last object.\n",
    "\n",
    "* Task 2.1: An agent using fixed rules based on *nim-sum* (i.e., an *expert system*)\n",
    "* Task 2.2: An agent using evolved rules using ES\n",
    "\n",
    "## Instructions\n",
    "\n",
    "* Create the directory `lab2` inside the course repo \n",
    "* Put a `README.md` and your solution (all the files, code and auxiliary data if needed)\n",
    "\n",
    "## Notes\n",
    "\n",
    "* Working in group is not only allowed, but recommended (see: [Ubuntu](https://en.wikipedia.org/wiki/Ubuntu_philosophy) and [Cooperative Learning](https://files.eric.ed.gov/fulltext/EJ1096789.pdf)). Collaborations must be explicitly declared in the `README.md`.\n",
    "* [Yanking](https://www.emacswiki.org/emacs/KillingAndYanking) from the internet is allowed, but sources must be explicitly declared in the `README.md`.\n",
    "\n"
   ]
  },
  {
   "cell_type": "code",
   "execution_count": 1,
   "metadata": {},
   "outputs": [],
   "source": [
    "import logging\n",
    "from pprint import pprint, pformat\n",
    "from collections import namedtuple\n",
    "from random import random, choice, randint\n",
    "from copy import deepcopy\n",
    "from typing import Callable, Literal\n",
    "from dataclasses import dataclass, field\n",
    "from tqdm.notebook import trange\n",
    "import numpy as np"
   ]
  },
  {
   "cell_type": "markdown",
   "metadata": {},
   "source": [
    "## The *Nim* and *Nimply* classes"
   ]
  },
  {
   "cell_type": "code",
   "execution_count": 2,
   "metadata": {},
   "outputs": [],
   "source": [
    "Nimply = namedtuple(\"Nimply\", \"row, num_objects\")"
   ]
  },
  {
   "cell_type": "code",
   "execution_count": 3,
   "metadata": {},
   "outputs": [],
   "source": [
    "class Nim:\n",
    "    \"\"\"\n",
    "    Class implementing the Nim game.\n",
    "\n",
    "    num_rows: number of rows (piles)\n",
    "    k: maximum number of objects you can nim from a row\n",
    "    \"\"\"\n",
    "\n",
    "    def __init__(self, num_rows: int, k: int = None) -> None:\n",
    "        self._rows = [i * 2 + 1 for i in range(num_rows)]\n",
    "        self._k = k\n",
    "\n",
    "    def __bool__(self):\n",
    "        return sum(self._rows) > 0\n",
    "\n",
    "    def __str__(self):\n",
    "        return \"<\" + \" \".join(str(_) for _ in self._rows) + \">\"\n",
    "\n",
    "    def __repr__(self):\n",
    "        return \"<\" + \" \".join(str(_) for _ in self._rows) + \">\"\n",
    "\n",
    "    @property\n",
    "    def rows(self) -> tuple:\n",
    "        return tuple(self._rows)\n",
    "\n",
    "    @property\n",
    "    def k(self) -> int:\n",
    "        return self._k\n",
    "\n",
    "    def nimming(self, ply: Nimply) -> None:\n",
    "        row, num_objects = ply\n",
    "        assert self._rows[row] >= num_objects\n",
    "        assert self._k is None or num_objects <= self._k, f\"{num_objects=}, {self._k=}\"\n",
    "        self._rows[row] -= num_objects"
   ]
  },
  {
   "cell_type": "markdown",
   "metadata": {},
   "source": [
    "## Rule-based startegies "
   ]
  },
  {
   "cell_type": "code",
   "execution_count": 4,
   "metadata": {},
   "outputs": [],
   "source": [
    "def pure_random(state: Nim) -> Nimply:\n",
    "    \"\"\"A completely random move\"\"\"\n",
    "    row = choice([r for r, c in enumerate(state.rows) if c > 0])\n",
    "    num_objects = randint(1, state.rows[row] if state.k is None else min(state.rows[row], state.k))\n",
    "    return Nimply(row, num_objects)"
   ]
  },
  {
   "cell_type": "code",
   "execution_count": 5,
   "metadata": {},
   "outputs": [],
   "source": [
    "def gabriele(state: Nim) -> Nimply:\n",
    "    \"\"\"Pick always the maximum possible number of the lowest row\"\"\"\n",
    "    possible_moves = [\n",
    "        (r, o) for r, c in enumerate(state.rows) for o in range(1, c + 1 if state.k is None else min(c + 1, state.k))\n",
    "    ]\n",
    "    return Nimply(*max(possible_moves, key=lambda m: (-m[0], m[1])))"
   ]
  },
  {
   "cell_type": "code",
   "execution_count": 6,
   "metadata": {},
   "outputs": [],
   "source": [
    "def nim_sum(state: Nim) -> int:\n",
    "    \"\"\"Compute nim-sum value on a Nim game instance\"\"\"\n",
    "    tmp = np.array([tuple(int(x) for x in f\"{c:032b}\") for c in state.rows])\n",
    "    xor = tmp.sum(axis=0) % 2\n",
    "    return int(\"\".join(str(_) for _ in xor), base=2)\n",
    "\n",
    "\n",
    "def generate_all_plys(raw: Nim) -> list[Nimply]:\n",
    "    return [\n",
    "        Nimply(r, o) for r, c in enumerate(raw.rows) for o in range(1, c + 1 if raw.k is None else min(c + 1, raw.k))\n",
    "    ]\n",
    "\n",
    "\n",
    "def analize(raw: Nim) -> dict:\n",
    "    \"\"\"Given a Nim game instance, this function compute all the possible moves we can do\"\"\"\n",
    "    cooked = dict()\n",
    "    cooked[\"possible_moves\"] = dict()\n",
    "    for ply in generate_all_plys(raw):\n",
    "        tmp = deepcopy(raw)\n",
    "        tmp.nimming(ply)\n",
    "        cooked[\"possible_moves\"][ply] = nim_sum(tmp)\n",
    "    return cooked\n",
    "\n",
    "\n",
    "def optimal(state: Nim) -> Nimply:\n",
    "    \"\"\"\n",
    "    If possible, this function returns a move which leads to a nim-sum value not equal to zero,\n",
    "    otherwise a random move among all the possible moves\n",
    "    \"\"\"\n",
    "    analysis = analize(state)\n",
    "    logging.debug(f\"analysis:\\n{pformat(analysis)}\")\n",
    "    spicy_moves = [ply for ply, ns in analysis[\"possible_moves\"].items() if ns != 0]\n",
    "    if not spicy_moves:\n",
    "        spicy_moves = list(analysis[\"possible_moves\"].keys())\n",
    "    logging.debug(pformat(f\"{analysis['possible_moves']}\"))\n",
    "    ply = choice(spicy_moves)\n",
    "    return ply"
   ]
  },
  {
   "cell_type": "code",
   "execution_count": 7,
   "metadata": {},
   "outputs": [],
   "source": [
    "def play_expert_system(state: Nim) -> Nimply:\n",
    "    \"\"\"\n",
    "    This function implement an expert systems which beats the strategies defined above\n",
    "    \"\"\"\n",
    "    analysis = analize(state)\n",
    "    logging.debug(f\"analysis:\\n{pformat(analysis)}\")\n",
    "    not_zero_rows = len(state.rows) - state.rows.count(0)\n",
    "    one_count_rows = state.rows.count(1)\n",
    "    if one_count_rows == not_zero_rows - 1:\n",
    "        is_odd = (one_count_rows % 2) == 1\n",
    "        row, objects = [(row, objects) for row, objects in enumerate(state.rows) if objects > 1][0]\n",
    "        if is_odd:\n",
    "            return Nimply(row, objects if state.k is None else min(objects, state.k))\n",
    "        return Nimply(row, objects - 1 if state.k is None else min(objects - 1, state.k))\n",
    "    spicy_moves = [ply for ply, ns in analysis[\"possible_moves\"].items() if ns == 0]\n",
    "    if not spicy_moves:\n",
    "        spicy_moves = list(analysis[\"possible_moves\"].keys())\n",
    "    logging.debug(pformat(f\"{analysis['possible_moves']}\"))\n",
    "    ply = choice(spicy_moves)\n",
    "    return ply"
   ]
  },
  {
   "cell_type": "markdown",
   "metadata": {},
   "source": [
    "## Oversimplified match"
   ]
  },
  {
   "cell_type": "code",
   "execution_count": 13,
   "metadata": {},
   "outputs": [],
   "source": [
    "def play_game(nim: Nim, strategy1: Callable[[Nim], Nimply], strategy2: Callable[[Nim], Nimply]) -> Literal[0, 1]:\n",
    "    \"\"\"\n",
    "    Play a Nim game using the given strategies.\n",
    "\n",
    "    Args:\n",
    "        nim: Nim game instance;\n",
    "        strategy1: Player 0 strategy;\n",
    "        strategy2: Player 1 strategy.\n",
    "\n",
    "    Returns:\n",
    "        player: the winning player.\n",
    "    \"\"\"\n",
    "    logging.getLogger().setLevel(logging.WARN)\n",
    "\n",
    "    strategy = (strategy1, strategy2)\n",
    "\n",
    "    logging.info(f\"init : {nim}\")\n",
    "    player = 0\n",
    "    while nim:\n",
    "        ply = strategy[player](nim)\n",
    "        logging.info(f\"ply: player {player} plays {ply}, {nim_sum(nim)}\")\n",
    "        nim.nimming(ply)\n",
    "        logging.info(f\"status: {nim}\")\n",
    "        player = 1 - player\n",
    "    logging.info(f\"status: Player {player} won!\")\n",
    "\n",
    "    return player\n",
    "\n",
    "\n",
    "def play_games(\n",
    "    nim: Nim,\n",
    "    player: int,\n",
    "    player_strategy: Callable[[Nim], Nimply],\n",
    "    opponent_strategy: Callable[[Nim], Nimply],\n",
    "    n_matches: int,\n",
    ") -> None:\n",
    "    return [\n",
    "        play_game(deepcopy(nim), player_strategy, opponent_strategy)\n",
    "        if player == 0\n",
    "        else play_game(deepcopy(nim), opponent_strategy, player_strategy)\n",
    "        for _ in range(n_matches)\n",
    "    ]"
   ]
  },
  {
   "cell_type": "markdown",
   "metadata": {},
   "source": [
    "## Adaptive Strategy"
   ]
  },
  {
   "cell_type": "code",
   "execution_count": 8,
   "metadata": {},
   "outputs": [],
   "source": [
    "def get_phase_ratio(state: Nim) -> Nimply:\n",
    "    all_plys_new_game = len(generate_all_plys(Nim(len(state.rows), state.k)))\n",
    "    all_plys_current_game = len(generate_all_plys(state))\n",
    "    return all_plys_current_game / all_plys_new_game"
   ]
  },
  {
   "cell_type": "code",
   "execution_count": 62,
   "metadata": {},
   "outputs": [],
   "source": [
    "mutation_rate: tuple[float] = (0.1, 0.01)\n",
    "\n",
    "\n",
    "@dataclass(init=False)\n",
    "class Individual:\n",
    "    n_strategies: int\n",
    "    strategy_probs: list[list[float]]\n",
    "    phase_thresholds: list[float]\n",
    "\n",
    "    def __init__(\n",
    "        self, n_strategies: int = None, strategy_probs: list[list[float]] = None, phase_thresholds: list[float] = None\n",
    "    ):\n",
    "        if n_strategies is None:\n",
    "            n_strategies = 3\n",
    "        if strategy_probs is None:\n",
    "            strategy_probs = self._softmax(np.random.randn(3, n_strategies))\n",
    "        else:\n",
    "            strategy_probs = self._softmax(strategy_probs)\n",
    "        if phase_thresholds is None:\n",
    "            phase_thresholds = sorted([random(), random()])\n",
    "        else:\n",
    "            phase_thresholds = sorted(phase_thresholds)\n",
    "\n",
    "        self.n_strategies = n_strategies\n",
    "        self.strategy_probs = strategy_probs\n",
    "        self.phase_thresholds = phase_thresholds\n",
    "\n",
    "    def _softmax(self, values) -> list[list[float]]:\n",
    "        tmp = np.exp(values)\n",
    "        return (tmp / np.sum(tmp, axis=1).reshape(3, 1)).tolist()\n",
    "\n",
    "    def mutate(ind: \"Individual\") -> \"Individual\":\n",
    "        global mutation_rate\n",
    "        strategy_probs = np.random.normal(loc=ind.strategy_probs, scale=mutation_rate[0]).tolist()\n",
    "        phase_thresholds = np.clip(np.random.normal(loc=ind.phase_thresholds, scale=mutation_rate[1]), 0, 1).tolist()\n",
    "        return Individual(\n",
    "            n_strategies=ind.n_strategies, strategy_probs=strategy_probs, phase_thresholds=phase_thresholds\n",
    "        )\n",
    "\n",
    "    def __call__(self, state: Nim) -> Nimply:\n",
    "        phase_ratio = get_phase_ratio(state)\n",
    "        phase_index = (\n",
    "            0 if phase_ratio < self.phase_thresholds[0] else (2 if phase_ratio > self.phase_thresholds[1] else 1)\n",
    "        )\n",
    "        probs = self.strategy_probs[phase_index]\n",
    "        STRATEGIES = [pure_random, gabriele, play_expert_system]\n",
    "        strategy = np.random.choice(STRATEGIES, p=probs)\n",
    "        return strategy(state)"
   ]
  },
  {
   "cell_type": "code",
   "execution_count": 74,
   "metadata": {},
   "outputs": [],
   "source": [
    "LAMBDA = 40\n",
    "N_MATCHES = 16"
   ]
  },
  {
   "cell_type": "code",
   "execution_count": 75,
   "metadata": {},
   "outputs": [],
   "source": [
    "def streak(player_strategy, n_matches, opponent_strategy):\n",
    "    wins = 0\n",
    "    for _ in range(n_matches):\n",
    "        random_size = randint(4, 10)\n",
    "        random_k = choice([None, None, *[randint(2, random_size * 2 + 1) for _ in range(2)]])\n",
    "        nim = Nim(random_size, random_k)\n",
    "        player = choice([0, 1])\n",
    "        wins += 1 if play_games(nim, player, player_strategy, opponent_strategy, 1)[0] == player else 0\n",
    "    return wins / n_matches"
   ]
  },
  {
   "cell_type": "code",
   "execution_count": 76,
   "metadata": {},
   "outputs": [
    {
     "name": "stdout",
     "output_type": "stream",
     "text": [
      "Individual(n_strategies=3,\n",
      "           strategy_probs=[[0.21007028333534858,\n",
      "                            0.2236933223494059,\n",
      "                            0.5662363943152455],\n",
      "                           [0.038730389201127625,\n",
      "                            0.5978504121955865,\n",
      "                            0.36341919860328575],\n",
      "                           [0.0730552767802505,\n",
      "                            0.7932164214088794,\n",
      "                            0.13372830181087011]],\n",
      "           phase_thresholds=[0.07520953305765299, 0.7505734706772872])\n"
     ]
    },
    {
     "data": {
      "application/vnd.jupyter.widget-view+json": {
       "model_id": "15af1c7482974c068c8bd44b85e0da05",
       "version_major": 2,
       "version_minor": 0
      },
      "text/plain": [
       "  0%|          | 0/250 [00:00<?, ?it/s]"
      ]
     },
     "metadata": {},
     "output_type": "display_data"
    },
    {
     "ename": "KeyboardInterrupt",
     "evalue": "",
     "output_type": "error",
     "traceback": [
      "\u001b[0;31m---------------------------------------------------------------------------\u001b[0m",
      "\u001b[0;31mKeyboardInterrupt\u001b[0m                         Traceback (most recent call last)",
      "\u001b[1;32m/Users/sferra/Documents/Universita/Magistrale/PoliTo/Computational_Intelligence/labs/Computational-Intelligence/lab2/lab2-nim.ipynb Cell 19\u001b[0m line \u001b[0;36m9\n\u001b[1;32m      <a href='vscode-notebook-cell:/Users/sferra/Documents/Universita/Magistrale/PoliTo/Computational_Intelligence/labs/Computational-Intelligence/lab2/lab2-nim.ipynb#X51sZmlsZQ%3D%3D?line=6'>7</a>\u001b[0m pbar\u001b[39m.\u001b[39mset_description(\u001b[39mf\u001b[39m\u001b[39m'\u001b[39m\u001b[39mParent Accuracy: \u001b[39m\u001b[39m{\u001b[39;00mparent_result\u001b[39m:\u001b[39;00m\u001b[39m.2%\u001b[39m\u001b[39m}\u001b[39;00m\u001b[39m'\u001b[39m)\n\u001b[1;32m      <a href='vscode-notebook-cell:/Users/sferra/Documents/Universita/Magistrale/PoliTo/Computational_Intelligence/labs/Computational-Intelligence/lab2/lab2-nim.ipynb#X51sZmlsZQ%3D%3D?line=7'>8</a>\u001b[0m offspring \u001b[39m=\u001b[39m [parent\u001b[39m.\u001b[39mmutate() \u001b[39mfor\u001b[39;00m _ \u001b[39min\u001b[39;00m \u001b[39mrange\u001b[39m(LAMBDA)]\n\u001b[0;32m----> <a href='vscode-notebook-cell:/Users/sferra/Documents/Universita/Magistrale/PoliTo/Computational_Intelligence/labs/Computational-Intelligence/lab2/lab2-nim.ipynb#X51sZmlsZQ%3D%3D?line=8'>9</a>\u001b[0m results \u001b[39m=\u001b[39m [streak(ind, N_MATCHES, optimal) \u001b[39mfor\u001b[39;00m ind \u001b[39min\u001b[39;00m offspring]\n\u001b[1;32m     <a href='vscode-notebook-cell:/Users/sferra/Documents/Universita/Magistrale/PoliTo/Computational_Intelligence/labs/Computational-Intelligence/lab2/lab2-nim.ipynb#X51sZmlsZQ%3D%3D?line=10'>11</a>\u001b[0m \u001b[39mif\u001b[39;00m np\u001b[39m.\u001b[39msum(np\u001b[39m.\u001b[39marray(results) \u001b[39m>\u001b[39m parent_result) \u001b[39m/\u001b[39m LAMBDA \u001b[39m>\u001b[39m \u001b[39m1\u001b[39m \u001b[39m/\u001b[39m \u001b[39m5\u001b[39m:\n\u001b[1;32m     <a href='vscode-notebook-cell:/Users/sferra/Documents/Universita/Magistrale/PoliTo/Computational_Intelligence/labs/Computational-Intelligence/lab2/lab2-nim.ipynb#X51sZmlsZQ%3D%3D?line=11'>12</a>\u001b[0m     mutation_rate \u001b[39m=\u001b[39m (mutation_rate[\u001b[39m0\u001b[39m] \u001b[39m*\u001b[39m \u001b[39m1.1\u001b[39m, mutation_rate[\u001b[39m1\u001b[39m] \u001b[39m*\u001b[39m \u001b[39m1.1\u001b[39m)\n",
      "\u001b[1;32m/Users/sferra/Documents/Universita/Magistrale/PoliTo/Computational_Intelligence/labs/Computational-Intelligence/lab2/lab2-nim.ipynb Cell 19\u001b[0m line \u001b[0;36m8\n\u001b[1;32m      <a href='vscode-notebook-cell:/Users/sferra/Documents/Universita/Magistrale/PoliTo/Computational_Intelligence/labs/Computational-Intelligence/lab2/lab2-nim.ipynb#X51sZmlsZQ%3D%3D?line=5'>6</a>\u001b[0m     nim \u001b[39m=\u001b[39m Nim(random_size, random_k)\n\u001b[1;32m      <a href='vscode-notebook-cell:/Users/sferra/Documents/Universita/Magistrale/PoliTo/Computational_Intelligence/labs/Computational-Intelligence/lab2/lab2-nim.ipynb#X51sZmlsZQ%3D%3D?line=6'>7</a>\u001b[0m     player \u001b[39m=\u001b[39m choice([\u001b[39m0\u001b[39m, \u001b[39m1\u001b[39m])\n\u001b[0;32m----> <a href='vscode-notebook-cell:/Users/sferra/Documents/Universita/Magistrale/PoliTo/Computational_Intelligence/labs/Computational-Intelligence/lab2/lab2-nim.ipynb#X51sZmlsZQ%3D%3D?line=7'>8</a>\u001b[0m     wins \u001b[39m+\u001b[39m\u001b[39m=\u001b[39m \u001b[39m1\u001b[39m \u001b[39mif\u001b[39;00m play_games(nim, player, player_strategy, opponent_strategy, \u001b[39m1\u001b[39;49m)[\u001b[39m0\u001b[39m] \u001b[39m==\u001b[39m player \u001b[39melse\u001b[39;00m \u001b[39m0\u001b[39m\n\u001b[1;32m      <a href='vscode-notebook-cell:/Users/sferra/Documents/Universita/Magistrale/PoliTo/Computational_Intelligence/labs/Computational-Intelligence/lab2/lab2-nim.ipynb#X51sZmlsZQ%3D%3D?line=8'>9</a>\u001b[0m \u001b[39mreturn\u001b[39;00m wins \u001b[39m/\u001b[39m n_matches\n",
      "\u001b[1;32m/Users/sferra/Documents/Universita/Magistrale/PoliTo/Computational_Intelligence/labs/Computational-Intelligence/lab2/lab2-nim.ipynb Cell 19\u001b[0m line \u001b[0;36m3\n\u001b[1;32m     <a href='vscode-notebook-cell:/Users/sferra/Documents/Universita/Magistrale/PoliTo/Computational_Intelligence/labs/Computational-Intelligence/lab2/lab2-nim.ipynb#X51sZmlsZQ%3D%3D?line=29'>30</a>\u001b[0m \u001b[39mdef\u001b[39;00m \u001b[39mplay_games\u001b[39m(\n\u001b[1;32m     <a href='vscode-notebook-cell:/Users/sferra/Documents/Universita/Magistrale/PoliTo/Computational_Intelligence/labs/Computational-Intelligence/lab2/lab2-nim.ipynb#X51sZmlsZQ%3D%3D?line=30'>31</a>\u001b[0m     nim: Nim,\n\u001b[1;32m     <a href='vscode-notebook-cell:/Users/sferra/Documents/Universita/Magistrale/PoliTo/Computational_Intelligence/labs/Computational-Intelligence/lab2/lab2-nim.ipynb#X51sZmlsZQ%3D%3D?line=31'>32</a>\u001b[0m     player: \u001b[39mint\u001b[39m,\n\u001b[0;32m   (...)\u001b[0m\n\u001b[1;32m     <a href='vscode-notebook-cell:/Users/sferra/Documents/Universita/Magistrale/PoliTo/Computational_Intelligence/labs/Computational-Intelligence/lab2/lab2-nim.ipynb#X51sZmlsZQ%3D%3D?line=34'>35</a>\u001b[0m     n_matches: \u001b[39mint\u001b[39m,\n\u001b[1;32m     <a href='vscode-notebook-cell:/Users/sferra/Documents/Universita/Magistrale/PoliTo/Computational_Intelligence/labs/Computational-Intelligence/lab2/lab2-nim.ipynb#X51sZmlsZQ%3D%3D?line=35'>36</a>\u001b[0m ) \u001b[39m-\u001b[39m\u001b[39m>\u001b[39m \u001b[39mNone\u001b[39;00m:\n\u001b[1;32m     <a href='vscode-notebook-cell:/Users/sferra/Documents/Universita/Magistrale/PoliTo/Computational_Intelligence/labs/Computational-Intelligence/lab2/lab2-nim.ipynb#X51sZmlsZQ%3D%3D?line=36'>37</a>\u001b[0m     \u001b[39mreturn\u001b[39;00m [\n\u001b[0;32m---> <a href='vscode-notebook-cell:/Users/sferra/Documents/Universita/Magistrale/PoliTo/Computational_Intelligence/labs/Computational-Intelligence/lab2/lab2-nim.ipynb#X51sZmlsZQ%3D%3D?line=37'>38</a>\u001b[0m         play_game(deepcopy(nim), player_strategy, opponent_strategy)\n\u001b[1;32m     <a href='vscode-notebook-cell:/Users/sferra/Documents/Universita/Magistrale/PoliTo/Computational_Intelligence/labs/Computational-Intelligence/lab2/lab2-nim.ipynb#X51sZmlsZQ%3D%3D?line=38'>39</a>\u001b[0m         \u001b[39mif\u001b[39;00m player \u001b[39m==\u001b[39m \u001b[39m0\u001b[39m\n\u001b[1;32m     <a href='vscode-notebook-cell:/Users/sferra/Documents/Universita/Magistrale/PoliTo/Computational_Intelligence/labs/Computational-Intelligence/lab2/lab2-nim.ipynb#X51sZmlsZQ%3D%3D?line=39'>40</a>\u001b[0m         \u001b[39melse\u001b[39;00m play_game(deepcopy(nim), opponent_strategy, player_strategy)\n\u001b[1;32m     <a href='vscode-notebook-cell:/Users/sferra/Documents/Universita/Magistrale/PoliTo/Computational_Intelligence/labs/Computational-Intelligence/lab2/lab2-nim.ipynb#X51sZmlsZQ%3D%3D?line=40'>41</a>\u001b[0m         \u001b[39mfor\u001b[39;00m _ \u001b[39min\u001b[39;00m \u001b[39mrange\u001b[39m(n_matches)\n\u001b[1;32m     <a href='vscode-notebook-cell:/Users/sferra/Documents/Universita/Magistrale/PoliTo/Computational_Intelligence/labs/Computational-Intelligence/lab2/lab2-nim.ipynb#X51sZmlsZQ%3D%3D?line=41'>42</a>\u001b[0m     ]\n",
      "\u001b[1;32m/Users/sferra/Documents/Universita/Magistrale/PoliTo/Computational_Intelligence/labs/Computational-Intelligence/lab2/lab2-nim.ipynb Cell 19\u001b[0m line \u001b[0;36m2\n\u001b[1;32m     <a href='vscode-notebook-cell:/Users/sferra/Documents/Universita/Magistrale/PoliTo/Computational_Intelligence/labs/Computational-Intelligence/lab2/lab2-nim.ipynb#X51sZmlsZQ%3D%3D?line=17'>18</a>\u001b[0m player \u001b[39m=\u001b[39m \u001b[39m0\u001b[39m\n\u001b[1;32m     <a href='vscode-notebook-cell:/Users/sferra/Documents/Universita/Magistrale/PoliTo/Computational_Intelligence/labs/Computational-Intelligence/lab2/lab2-nim.ipynb#X51sZmlsZQ%3D%3D?line=18'>19</a>\u001b[0m \u001b[39mwhile\u001b[39;00m nim:\n\u001b[0;32m---> <a href='vscode-notebook-cell:/Users/sferra/Documents/Universita/Magistrale/PoliTo/Computational_Intelligence/labs/Computational-Intelligence/lab2/lab2-nim.ipynb#X51sZmlsZQ%3D%3D?line=19'>20</a>\u001b[0m     ply \u001b[39m=\u001b[39m strategy[player](nim)\n\u001b[1;32m     <a href='vscode-notebook-cell:/Users/sferra/Documents/Universita/Magistrale/PoliTo/Computational_Intelligence/labs/Computational-Intelligence/lab2/lab2-nim.ipynb#X51sZmlsZQ%3D%3D?line=20'>21</a>\u001b[0m     logging\u001b[39m.\u001b[39minfo(\u001b[39mf\u001b[39m\u001b[39m\"\u001b[39m\u001b[39mply: player \u001b[39m\u001b[39m{\u001b[39;00mplayer\u001b[39m}\u001b[39;00m\u001b[39m plays \u001b[39m\u001b[39m{\u001b[39;00mply\u001b[39m}\u001b[39;00m\u001b[39m, \u001b[39m\u001b[39m{\u001b[39;00mnim_sum(nim)\u001b[39m}\u001b[39;00m\u001b[39m\"\u001b[39m)\n\u001b[1;32m     <a href='vscode-notebook-cell:/Users/sferra/Documents/Universita/Magistrale/PoliTo/Computational_Intelligence/labs/Computational-Intelligence/lab2/lab2-nim.ipynb#X51sZmlsZQ%3D%3D?line=21'>22</a>\u001b[0m     nim\u001b[39m.\u001b[39mnimming(ply)\n",
      "\u001b[1;32m/Users/sferra/Documents/Universita/Magistrale/PoliTo/Computational_Intelligence/labs/Computational-Intelligence/lab2/lab2-nim.ipynb Cell 19\u001b[0m line \u001b[0;36m3\n\u001b[1;32m     <a href='vscode-notebook-cell:/Users/sferra/Documents/Universita/Magistrale/PoliTo/Computational_Intelligence/labs/Computational-Intelligence/lab2/lab2-nim.ipynb#X51sZmlsZQ%3D%3D?line=25'>26</a>\u001b[0m \u001b[39m\u001b[39m\u001b[39m\"\"\"\u001b[39;00m\n\u001b[1;32m     <a href='vscode-notebook-cell:/Users/sferra/Documents/Universita/Magistrale/PoliTo/Computational_Intelligence/labs/Computational-Intelligence/lab2/lab2-nim.ipynb#X51sZmlsZQ%3D%3D?line=26'>27</a>\u001b[0m \u001b[39mIf possible, this function returns a move which leads to a nim-sum value not equal to zero,\u001b[39;00m\n\u001b[1;32m     <a href='vscode-notebook-cell:/Users/sferra/Documents/Universita/Magistrale/PoliTo/Computational_Intelligence/labs/Computational-Intelligence/lab2/lab2-nim.ipynb#X51sZmlsZQ%3D%3D?line=27'>28</a>\u001b[0m \u001b[39motherwise a random move among all the possible moves\u001b[39;00m\n\u001b[1;32m     <a href='vscode-notebook-cell:/Users/sferra/Documents/Universita/Magistrale/PoliTo/Computational_Intelligence/labs/Computational-Intelligence/lab2/lab2-nim.ipynb#X51sZmlsZQ%3D%3D?line=28'>29</a>\u001b[0m \u001b[39m\"\"\"\u001b[39;00m\n\u001b[1;32m     <a href='vscode-notebook-cell:/Users/sferra/Documents/Universita/Magistrale/PoliTo/Computational_Intelligence/labs/Computational-Intelligence/lab2/lab2-nim.ipynb#X51sZmlsZQ%3D%3D?line=29'>30</a>\u001b[0m analysis \u001b[39m=\u001b[39m analize(state)\n\u001b[0;32m---> <a href='vscode-notebook-cell:/Users/sferra/Documents/Universita/Magistrale/PoliTo/Computational_Intelligence/labs/Computational-Intelligence/lab2/lab2-nim.ipynb#X51sZmlsZQ%3D%3D?line=30'>31</a>\u001b[0m logging\u001b[39m.\u001b[39mdebug(\u001b[39mf\u001b[39m\u001b[39m\"\u001b[39m\u001b[39manalysis:\u001b[39m\u001b[39m\\n\u001b[39;00m\u001b[39m{\u001b[39;00mpformat(analysis)\u001b[39m}\u001b[39;00m\u001b[39m\"\u001b[39m)\n\u001b[1;32m     <a href='vscode-notebook-cell:/Users/sferra/Documents/Universita/Magistrale/PoliTo/Computational_Intelligence/labs/Computational-Intelligence/lab2/lab2-nim.ipynb#X51sZmlsZQ%3D%3D?line=31'>32</a>\u001b[0m spicy_moves \u001b[39m=\u001b[39m [ply \u001b[39mfor\u001b[39;00m ply, ns \u001b[39min\u001b[39;00m analysis[\u001b[39m\"\u001b[39m\u001b[39mpossible_moves\u001b[39m\u001b[39m\"\u001b[39m]\u001b[39m.\u001b[39mitems() \u001b[39mif\u001b[39;00m ns \u001b[39m!=\u001b[39m \u001b[39m0\u001b[39m]\n\u001b[1;32m     <a href='vscode-notebook-cell:/Users/sferra/Documents/Universita/Magistrale/PoliTo/Computational_Intelligence/labs/Computational-Intelligence/lab2/lab2-nim.ipynb#X51sZmlsZQ%3D%3D?line=32'>33</a>\u001b[0m \u001b[39mif\u001b[39;00m \u001b[39mnot\u001b[39;00m spicy_moves:\n",
      "File \u001b[0;32m/opt/anaconda3/envs/ci/lib/python3.12/pprint.py:62\u001b[0m, in \u001b[0;36mpformat\u001b[0;34m(object, indent, width, depth, compact, sort_dicts, underscore_numbers)\u001b[0m\n\u001b[1;32m     57\u001b[0m \u001b[39mdef\u001b[39;00m \u001b[39mpformat\u001b[39m(\u001b[39mobject\u001b[39m, indent\u001b[39m=\u001b[39m\u001b[39m1\u001b[39m, width\u001b[39m=\u001b[39m\u001b[39m80\u001b[39m, depth\u001b[39m=\u001b[39m\u001b[39mNone\u001b[39;00m, \u001b[39m*\u001b[39m,\n\u001b[1;32m     58\u001b[0m             compact\u001b[39m=\u001b[39m\u001b[39mFalse\u001b[39;00m, sort_dicts\u001b[39m=\u001b[39m\u001b[39mTrue\u001b[39;00m, underscore_numbers\u001b[39m=\u001b[39m\u001b[39mFalse\u001b[39;00m):\n\u001b[1;32m     59\u001b[0m \u001b[39m    \u001b[39m\u001b[39m\"\"\"Format a Python object into a pretty-printed representation.\"\"\"\u001b[39;00m\n\u001b[1;32m     60\u001b[0m     \u001b[39mreturn\u001b[39;00m PrettyPrinter(indent\u001b[39m=\u001b[39;49mindent, width\u001b[39m=\u001b[39;49mwidth, depth\u001b[39m=\u001b[39;49mdepth,\n\u001b[1;32m     61\u001b[0m                          compact\u001b[39m=\u001b[39;49mcompact, sort_dicts\u001b[39m=\u001b[39;49msort_dicts,\n\u001b[0;32m---> 62\u001b[0m                          underscore_numbers\u001b[39m=\u001b[39;49munderscore_numbers)\u001b[39m.\u001b[39;49mpformat(\u001b[39mobject\u001b[39;49m)\n",
      "File \u001b[0;32m/opt/anaconda3/envs/ci/lib/python3.12/pprint.py:158\u001b[0m, in \u001b[0;36mPrettyPrinter.pformat\u001b[0;34m(self, object)\u001b[0m\n\u001b[1;32m    156\u001b[0m \u001b[39mdef\u001b[39;00m \u001b[39mpformat\u001b[39m(\u001b[39mself\u001b[39m, \u001b[39mobject\u001b[39m):\n\u001b[1;32m    157\u001b[0m     sio \u001b[39m=\u001b[39m _StringIO()\n\u001b[0;32m--> 158\u001b[0m     \u001b[39mself\u001b[39;49m\u001b[39m.\u001b[39;49m_format(\u001b[39mobject\u001b[39;49m, sio, \u001b[39m0\u001b[39;49m, \u001b[39m0\u001b[39;49m, {}, \u001b[39m0\u001b[39;49m)\n\u001b[1;32m    159\u001b[0m     \u001b[39mreturn\u001b[39;00m sio\u001b[39m.\u001b[39mgetvalue()\n",
      "File \u001b[0;32m/opt/anaconda3/envs/ci/lib/python3.12/pprint.py:181\u001b[0m, in \u001b[0;36mPrettyPrinter._format\u001b[0;34m(self, object, stream, indent, allowance, context, level)\u001b[0m\n\u001b[1;32m    179\u001b[0m \u001b[39mif\u001b[39;00m p \u001b[39mis\u001b[39;00m \u001b[39mnot\u001b[39;00m \u001b[39mNone\u001b[39;00m:\n\u001b[1;32m    180\u001b[0m     context[objid] \u001b[39m=\u001b[39m \u001b[39m1\u001b[39m\n\u001b[0;32m--> 181\u001b[0m     p(\u001b[39mself\u001b[39;49m, \u001b[39mobject\u001b[39;49m, stream, indent, allowance, context, level \u001b[39m+\u001b[39;49m \u001b[39m1\u001b[39;49m)\n\u001b[1;32m    182\u001b[0m     \u001b[39mdel\u001b[39;00m context[objid]\n\u001b[1;32m    183\u001b[0m     \u001b[39mreturn\u001b[39;00m\n",
      "File \u001b[0;32m/opt/anaconda3/envs/ci/lib/python3.12/pprint.py:217\u001b[0m, in \u001b[0;36mPrettyPrinter._pprint_dict\u001b[0;34m(self, object, stream, indent, allowance, context, level)\u001b[0m\n\u001b[1;32m    215\u001b[0m     \u001b[39melse\u001b[39;00m:\n\u001b[1;32m    216\u001b[0m         items \u001b[39m=\u001b[39m \u001b[39mobject\u001b[39m\u001b[39m.\u001b[39mitems()\n\u001b[0;32m--> 217\u001b[0m     \u001b[39mself\u001b[39;49m\u001b[39m.\u001b[39;49m_format_dict_items(items, stream, indent, allowance \u001b[39m+\u001b[39;49m \u001b[39m1\u001b[39;49m,\n\u001b[1;32m    218\u001b[0m                             context, level)\n\u001b[1;32m    219\u001b[0m write(\u001b[39m'\u001b[39m\u001b[39m}\u001b[39m\u001b[39m'\u001b[39m)\n",
      "File \u001b[0;32m/opt/anaconda3/envs/ci/lib/python3.12/pprint.py:388\u001b[0m, in \u001b[0;36mPrettyPrinter._format_dict_items\u001b[0;34m(self, items, stream, indent, allowance, context, level)\u001b[0m\n\u001b[1;32m    386\u001b[0m write(rep)\n\u001b[1;32m    387\u001b[0m write(\u001b[39m'\u001b[39m\u001b[39m: \u001b[39m\u001b[39m'\u001b[39m)\n\u001b[0;32m--> 388\u001b[0m \u001b[39mself\u001b[39;49m\u001b[39m.\u001b[39;49m_format(ent, stream, indent \u001b[39m+\u001b[39;49m \u001b[39mlen\u001b[39;49m(rep) \u001b[39m+\u001b[39;49m \u001b[39m2\u001b[39;49m,\n\u001b[1;32m    389\u001b[0m              allowance \u001b[39mif\u001b[39;49;00m last \u001b[39melse\u001b[39;49;00m \u001b[39m1\u001b[39;49m,\n\u001b[1;32m    390\u001b[0m              context, level)\n\u001b[1;32m    391\u001b[0m \u001b[39mif\u001b[39;00m \u001b[39mnot\u001b[39;00m last:\n\u001b[1;32m    392\u001b[0m     write(delimnl)\n",
      "File \u001b[0;32m/opt/anaconda3/envs/ci/lib/python3.12/pprint.py:175\u001b[0m, in \u001b[0;36mPrettyPrinter._format\u001b[0;34m(self, object, stream, indent, allowance, context, level)\u001b[0m\n\u001b[1;32m    173\u001b[0m     \u001b[39mself\u001b[39m\u001b[39m.\u001b[39m_readable \u001b[39m=\u001b[39m \u001b[39mFalse\u001b[39;00m\n\u001b[1;32m    174\u001b[0m     \u001b[39mreturn\u001b[39;00m\n\u001b[0;32m--> 175\u001b[0m rep \u001b[39m=\u001b[39m \u001b[39mself\u001b[39;49m\u001b[39m.\u001b[39;49m_repr(\u001b[39mobject\u001b[39;49m, context, level)\n\u001b[1;32m    176\u001b[0m max_width \u001b[39m=\u001b[39m \u001b[39mself\u001b[39m\u001b[39m.\u001b[39m_width \u001b[39m-\u001b[39m indent \u001b[39m-\u001b[39m allowance\n\u001b[1;32m    177\u001b[0m \u001b[39mif\u001b[39;00m \u001b[39mlen\u001b[39m(rep) \u001b[39m>\u001b[39m max_width:\n",
      "File \u001b[0;32m/opt/anaconda3/envs/ci/lib/python3.12/pprint.py:455\u001b[0m, in \u001b[0;36mPrettyPrinter._repr\u001b[0;34m(self, object, context, level)\u001b[0m\n\u001b[1;32m    454\u001b[0m \u001b[39mdef\u001b[39;00m \u001b[39m_repr\u001b[39m(\u001b[39mself\u001b[39m, \u001b[39mobject\u001b[39m, context, level):\n\u001b[0;32m--> 455\u001b[0m     \u001b[39mrepr\u001b[39m, readable, recursive \u001b[39m=\u001b[39m \u001b[39mself\u001b[39;49m\u001b[39m.\u001b[39;49mformat(\u001b[39mobject\u001b[39;49m, context\u001b[39m.\u001b[39;49mcopy(),\n\u001b[1;32m    456\u001b[0m                                             \u001b[39mself\u001b[39;49m\u001b[39m.\u001b[39;49m_depth, level)\n\u001b[1;32m    457\u001b[0m     \u001b[39mif\u001b[39;00m \u001b[39mnot\u001b[39;00m readable:\n\u001b[1;32m    458\u001b[0m         \u001b[39mself\u001b[39m\u001b[39m.\u001b[39m_readable \u001b[39m=\u001b[39m \u001b[39mFalse\u001b[39;00m\n",
      "File \u001b[0;32m/opt/anaconda3/envs/ci/lib/python3.12/pprint.py:468\u001b[0m, in \u001b[0;36mPrettyPrinter.format\u001b[0;34m(self, object, context, maxlevels, level)\u001b[0m\n\u001b[1;32m    463\u001b[0m \u001b[39mdef\u001b[39;00m \u001b[39mformat\u001b[39m(\u001b[39mself\u001b[39m, \u001b[39mobject\u001b[39m, context, maxlevels, level):\n\u001b[1;32m    464\u001b[0m \u001b[39m    \u001b[39m\u001b[39m\"\"\"Format object for a specific context, returning a string\u001b[39;00m\n\u001b[1;32m    465\u001b[0m \u001b[39m    and flags indicating whether the representation is 'readable'\u001b[39;00m\n\u001b[1;32m    466\u001b[0m \u001b[39m    and whether the object represents a recursive construct.\u001b[39;00m\n\u001b[1;32m    467\u001b[0m \u001b[39m    \"\"\"\u001b[39;00m\n\u001b[0;32m--> 468\u001b[0m     \u001b[39mreturn\u001b[39;00m \u001b[39mself\u001b[39;49m\u001b[39m.\u001b[39;49m_safe_repr(\u001b[39mobject\u001b[39;49m, context, maxlevels, level)\n",
      "File \u001b[0;32m/opt/anaconda3/envs/ci/lib/python3.12/pprint.py:580\u001b[0m, in \u001b[0;36mPrettyPrinter._safe_repr\u001b[0;34m(self, object, context, maxlevels, level)\u001b[0m\n\u001b[1;32m    578\u001b[0m level \u001b[39m+\u001b[39m\u001b[39m=\u001b[39m \u001b[39m1\u001b[39m\n\u001b[1;32m    579\u001b[0m \u001b[39mif\u001b[39;00m \u001b[39mself\u001b[39m\u001b[39m.\u001b[39m_sort_dicts:\n\u001b[0;32m--> 580\u001b[0m     items \u001b[39m=\u001b[39m \u001b[39msorted\u001b[39;49m(\u001b[39mobject\u001b[39;49m\u001b[39m.\u001b[39;49mitems(), key\u001b[39m=\u001b[39;49m_safe_tuple)\n\u001b[1;32m    581\u001b[0m \u001b[39melse\u001b[39;00m:\n\u001b[1;32m    582\u001b[0m     items \u001b[39m=\u001b[39m \u001b[39mobject\u001b[39m\u001b[39m.\u001b[39mitems()\n",
      "\u001b[0;31mKeyboardInterrupt\u001b[0m: "
     ]
    }
   ],
   "source": [
    "parent = Individual()\n",
    "parent_result = streak(parent, N_MATCHES, optimal)\n",
    "pprint(parent)\n",
    "\n",
    "pbar = trange(0, 10_000 // LAMBDA)\n",
    "for _ in pbar:\n",
    "    pbar.set_description(f'Parent Accuracy: {parent_result:.2%}')\n",
    "    offspring = [parent.mutate() for _ in range(LAMBDA)]\n",
    "    results = [streak(ind, N_MATCHES, optimal) for ind in offspring]\n",
    "\n",
    "    if np.sum(np.array(results) > parent_result) / LAMBDA > 1 / 5:\n",
    "        mutation_rate = (mutation_rate[0] * 1.1, mutation_rate[1] * 1.1)\n",
    "    else:\n",
    "        mutation_rate = (mutation_rate[0] / 1.1, mutation_rate[1] / 1.1)\n",
    "\n",
    "    solution_index = np.argmax(results)\n",
    "    if parent_result < results[solution_index]:\n",
    "        parent = offspring[solution_index]\n",
    "        parent_result = results[solution_index]\n",
    "\n",
    "    if parent_result >= 0.999:\n",
    "        break\n",
    "\n",
    "streak(parent, 100, optimal)"
   ]
  },
  {
   "cell_type": "code",
   "execution_count": 77,
   "metadata": {},
   "outputs": [
    {
     "name": "stdout",
     "output_type": "stream",
     "text": [
      "Individual(n_strategies=3,\n",
      "           strategy_probs=[[0.32845477343242346,\n",
      "                            0.328878596314839,\n",
      "                            0.3426666302527375],\n",
      "                           [0.3234416252266368,\n",
      "                            0.34346122649512173,\n",
      "                            0.3330971482782415],\n",
      "                           [0.32293213780298813,\n",
      "                            0.3527240623526987,\n",
      "                            0.32434379984431305]],\n",
      "           phase_thresholds=[0.07525985080352998, 0.7505655173702628])\n"
     ]
    }
   ],
   "source": [
    "pprint(parent)"
   ]
  },
  {
   "cell_type": "code",
   "execution_count": 78,
   "metadata": {},
   "outputs": [
    {
     "data": {
      "text/plain": [
       "0.56"
      ]
     },
     "execution_count": 78,
     "metadata": {},
     "output_type": "execute_result"
    }
   ],
   "source": [
    "streak(parent, 100, optimal)"
   ]
  },
  {
   "cell_type": "code",
   "execution_count": 16,
   "metadata": {},
   "outputs": [],
   "source": [
    "def assess_strategy(\n",
    "    nim: Nim,\n",
    "    player: int,\n",
    "    player_strategy: Callable[[Nim], Nimply],\n",
    "    opponent_strategies: list[Callable[[Nim], Nimply]],\n",
    "    n_matches: int,\n",
    ") -> None:\n",
    "    \"\"\"\n",
    "    This function prints how many times the given player strategy\n",
    "    wins against the opponent strategies.\n",
    "\n",
    "    Args:\n",
    "        nim: Nim game instance;\n",
    "        player: which player to play;\n",
    "        player_strategy: which strategy to play;\n",
    "        opponent_strategies: which strategies to play against;\n",
    "        n_matches: number of matches to assess the quality of the strategy.\n",
    "\n",
    "    Returns:\n",
    "        None.\n",
    "    \"\"\"\n",
    "    for opponent_strategy in opponent_strategies:\n",
    "        games = play_games(nim, player, player_strategy, opponent_strategy, n_matches)\n",
    "        accuracy = games.count(player) / len(games)\n",
    "        print(\n",
    "            f\"-- Player {player} ({player_strategy.__qualname__}) against {opponent_strategy.__qualname__}: {accuracy:.2%} wins\"\n",
    "        )"
   ]
  },
  {
   "cell_type": "code",
   "execution_count": 17,
   "metadata": {},
   "outputs": [],
   "source": [
    "nim = Nim(5, 3)"
   ]
  },
  {
   "cell_type": "code",
   "execution_count": 18,
   "metadata": {},
   "outputs": [
    {
     "name": "stdout",
     "output_type": "stream",
     "text": [
      "-- Player 0 (play_expert_system) against pure_random: 82.10% wins\n",
      "-- Player 0 (play_expert_system) against gabriele: 94.60% wins\n",
      "-- Player 0 (play_expert_system) against optimal: 93.80% wins\n"
     ]
    }
   ],
   "source": [
    "assess_strategy(\n",
    "    nim=nim,\n",
    "    player=0,\n",
    "    player_strategy=play_expert_system,\n",
    "    opponent_strategies=[pure_random, gabriele, optimal],\n",
    "    n_matches=1000,\n",
    ")"
   ]
  },
  {
   "cell_type": "code",
   "execution_count": 19,
   "metadata": {},
   "outputs": [
    {
     "name": "stdout",
     "output_type": "stream",
     "text": [
      "-- Player 1 (play_expert_system) against pure_random: 82.90% wins\n",
      "-- Player 1 (play_expert_system) against gabriele: 93.20% wins\n",
      "-- Player 1 (play_expert_system) against optimal: 92.80% wins\n"
     ]
    }
   ],
   "source": [
    "assess_strategy(\n",
    "    nim=nim,\n",
    "    player=1,\n",
    "    player_strategy=play_expert_system,\n",
    "    opponent_strategies=[pure_random, gabriele, optimal],\n",
    "    n_matches=1000,\n",
    ")"
   ]
  },
  {
   "cell_type": "code",
   "execution_count": null,
   "metadata": {},
   "outputs": [],
   "source": []
  }
 ],
 "metadata": {
  "kernelspec": {
   "display_name": "Python 3.10.7 ('ci22-dPIXJ0_o-py3.10')",
   "language": "python",
   "name": "python3"
  },
  "language_info": {
   "codemirror_mode": {
    "name": "ipython",
    "version": 3
   },
   "file_extension": ".py",
   "mimetype": "text/x-python",
   "name": "python",
   "nbconvert_exporter": "python",
   "pygments_lexer": "ipython3",
   "version": "3.12.0"
  },
  "vscode": {
   "interpreter": {
    "hash": "10197e8e2f2aa67e2c349105091c77f4cd384fce4877865f002d9ec653f96bc0"
   }
  }
 },
 "nbformat": 4,
 "nbformat_minor": 2
}
