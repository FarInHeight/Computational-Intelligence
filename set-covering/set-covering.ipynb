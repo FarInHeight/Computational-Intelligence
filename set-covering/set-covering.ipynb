{
 "cells": [
  {
   "cell_type": "markdown",
   "metadata": {},
   "source": [
    "## General Info - 10/10/2023\n",
    "The notebook was created during the lecture \"Set Covering\", which resulted in the template available [here](https://github.com/squillero/computational-intelligence/blob/master/2023-24/set-covering.ipynb). \n",
    "\n",
    "I extended the content, reorganized the code and created new functions implementing several search algorithms."
   ]
  },
  {
   "cell_type": "markdown",
   "metadata": {},
   "source": [
    "### Nomenclature\n",
    "In what follows:\n",
    "- a **boolean value** is a _**tile**_;\n",
    "- an **array/list of booleans** is a _**set of tiles**_ or _**line of tiles**_."
   ]
  },
  {
   "cell_type": "markdown",
   "metadata": {},
   "source": [
    "#### Code Explanation"
   ]
  },
  {
   "cell_type": "code",
   "execution_count": 85,
   "metadata": {},
   "outputs": [],
   "source": [
    "# import the needed libraries\n",
    "from random import random\n",
    "from functools import reduce\n",
    "from collections import namedtuple\n",
    "from itertools import count\n",
    "from queue import PriorityQueue, SimpleQueue, LifoQueue\n",
    "import numpy as np"
   ]
  },
  {
   "cell_type": "markdown",
   "metadata": {},
   "source": [
    "To correctly model the problem, we represent a set of tiles like a boolean numpy array of size `PROBLEM_SIZE`. A tile is present or not with probability `TILE_PROBABILITY`.\n",
    "\n",
    "A state can be modeled as a tuple of two elements:\n",
    "- the first element is a set of already taken sets of tiles;\n",
    "- the second element is a set of not taken sets of tiles.\n",
    "\n",
    "> Please note that with this representation, the state tuple already contains the path."
   ]
  },
  {
   "cell_type": "code",
   "execution_count": 86,
   "metadata": {},
   "outputs": [],
   "source": [
    "PROBLEM_SIZE = 5\n",
    "NUM_SETS = 10\n",
    "TILE_PROBABILITY = 0.3\n",
    "SETS = tuple(np.array([random() < TILE_PROBABILITY for _ in range(PROBLEM_SIZE)]) for _ in range(NUM_SETS))\n",
    "State = namedtuple(\"State\", [\"taken\", \"not_taken\"])"
   ]
  },
  {
   "cell_type": "markdown",
   "metadata": {},
   "source": [
    "The goal is reached if our taken sets of tiles can be stacked and collapsed into a single set of contiguous `PROBLEM_SIZE` tiles."
   ]
  },
  {
   "cell_type": "code",
   "execution_count": 87,
   "metadata": {},
   "outputs": [],
   "source": [
    "def goal_check(state):\n",
    "    return np.all(\n",
    "        reduce(\n",
    "            np.logical_or,\n",
    "            [SETS[i] for i in state.taken],\n",
    "            np.array([False for _ in range(PROBLEM_SIZE)]),\n",
    "        )\n",
    "    )"
   ]
  },
  {
   "cell_type": "markdown",
   "metadata": {},
   "source": [
    "We can check whether the randomly generated problem is solvable by considering a solution in which we take all sets of tiles."
   ]
  },
  {
   "cell_type": "code",
   "execution_count": 88,
   "metadata": {},
   "outputs": [],
   "source": [
    "assert goal_check(State(set(range(NUM_SETS)), set())), \"Problem not solvable\""
   ]
  },
  {
   "cell_type": "markdown",
   "metadata": {},
   "source": [
    "I define some functions that evaluate a state and assign a value to it based on its content."
   ]
  },
  {
   "cell_type": "code",
   "execution_count": 89,
   "metadata": {},
   "outputs": [],
   "source": [
    "def get_progressive_number(_=None, counter=count(1)):\n",
    "    return next(counter)"
   ]
  },
  {
   "cell_type": "code",
   "execution_count": 90,
   "metadata": {},
   "outputs": [],
   "source": [
    "def count_remaining_tiles(state):\n",
    "    return PROBLEM_SIZE - sum(\n",
    "        reduce(\n",
    "            np.logical_or,\n",
    "            [SETS[i] for i in state.taken],\n",
    "            np.array([False for _ in range(PROBLEM_SIZE)]),\n",
    "        )\n",
    "    )"
   ]
  },
  {
   "cell_type": "code",
   "execution_count": 91,
   "metadata": {},
   "outputs": [],
   "source": [
    "def count_number_taken_sets(state):\n",
    "    return len(state.taken)"
   ]
  },
  {
   "cell_type": "code",
   "execution_count": 92,
   "metadata": {},
   "outputs": [],
   "source": [
    "def sum_occupied_cells(state):\n",
    "    return sum([sum(SETS[i]) for i in state.taken])"
   ]
  },
  {
   "cell_type": "markdown",
   "metadata": {},
   "source": [
    "I define a function that implements the generic search algorithm. The user can specify which data structure to use as the frontier and which priority function to use.\n",
    "\n",
    "If you use a priority queue as the frontier, the lower the priority, the earlier the state tuple will be considered for analysis."
   ]
  },
  {
   "cell_type": "code",
   "execution_count": 93,
   "metadata": {},
   "outputs": [],
   "source": [
    "def generic_search(current_state, frontier=None, priority_function=get_progressive_number):\n",
    "    if not frontier:\n",
    "        frontier = PriorityQueue()\n",
    "\n",
    "    frontier.put((priority_function(current_state), current_state))\n",
    "\n",
    "    counter = 0\n",
    "    _, current_state = frontier.get()\n",
    "    while not goal_check(current_state):\n",
    "        counter += 1\n",
    "        for action in current_state.not_taken:\n",
    "            new_state = State(current_state.taken ^ {action}, current_state.not_taken ^ {action})\n",
    "            frontier.put((priority_function(new_state), new_state))\n",
    "        _, current_state = frontier.get()\n",
    "\n",
    "    print(f\"Solved in {counter:,} steps ({len(current_state.taken)} set of tiles)\")\n",
    "    print(f\"Solution: {current_state}\")"
   ]
  },
  {
   "cell_type": "markdown",
   "metadata": {},
   "source": [
    "Given an initial state in which no set of tiles has been taken, we can perform different types of searches by simply changing the arguments of the `generic_search` function."
   ]
  },
  {
   "cell_type": "code",
   "execution_count": 94,
   "metadata": {},
   "outputs": [
    {
     "name": "stdout",
     "output_type": "stream",
     "text": [
      "-- Breadth-first search\n",
      "Solved in 185 steps (3 set of tiles)\n",
      "Solution: State(taken={1, 2, 6}, not_taken={0, 3, 4, 5, 7, 8, 9})\n",
      "-- Depth-first search\n",
      "Solved in 9 steps (9 set of tiles)\n",
      "Solution: State(taken={1, 2, 3, 4, 5, 6, 7, 8, 9}, not_taken={0})\n",
      "-- Dijkstra with sum_occupied_cells as priority function\n",
      "Solved in 1,489 steps (5 set of tiles)\n",
      "Solution: State(taken={1, 3, 4, 5, 6}, not_taken={0, 2, 7, 8, 9})\n",
      "-- Dijkstra with count_number_taken_sets as priority function\n",
      "Solved in 117 steps (3 set of tiles)\n",
      "Solution: State(taken={1, 2, 6}, not_taken={0, 3, 4, 5, 7, 8, 9})\n",
      "-- Greedy Best-First search\n",
      "Solved in 4 steps (4 set of tiles)\n",
      "Solution: State(taken={0, 1, 2, 6}, not_taken={3, 4, 5, 7, 8, 9})\n"
     ]
    }
   ],
   "source": [
    "current_state = State(set(), set(range(NUM_SETS)))\n",
    "\n",
    "print('-- Breadth-first search')\n",
    "generic_search(current_state, SimpleQueue())\n",
    "print('-- Depth-first search')\n",
    "generic_search(current_state, LifoQueue())\n",
    "print('-- Dijkstra with sum_occupied_cells as priority function')\n",
    "generic_search(current_state, priority_function=sum_occupied_cells)\n",
    "print('-- Dijkstra with count_number_taken_sets as priority function')\n",
    "generic_search(current_state, priority_function=count_number_taken_sets)\n",
    "print('-- Greedy Best-First search')\n",
    "generic_search(current_state, priority_function=count_remaining_tiles)"
   ]
  },
  {
   "cell_type": "markdown",
   "metadata": {},
   "source": [
    "The following function implements a depth-limited search, which by default has no limit and then performs an iterative deepening search."
   ]
  },
  {
   "cell_type": "code",
   "execution_count": 95,
   "metadata": {},
   "outputs": [],
   "source": [
    "def depth_limited_search(current_state, limit=float('inf')):\n",
    "    frontier = LifoQueue()\n",
    "    initial_state = current_state\n",
    "\n",
    "    level = 0\n",
    "\n",
    "    while level <= limit:\n",
    "        frontier.put(initial_state)\n",
    "        counter = 0\n",
    "\n",
    "        while not goal_check(current_state) and frontier.qsize() > 0:\n",
    "            current_state = frontier.get()\n",
    "            counter += 1\n",
    "            for action in current_state.not_taken:\n",
    "                new_state = State(current_state.taken ^ {action}, current_state.not_taken ^ {action})\n",
    "                if len(new_state.taken) <= level:\n",
    "                    frontier.put(new_state)\n",
    "\n",
    "        if goal_check(current_state):\n",
    "            break\n",
    "\n",
    "        level += 1\n",
    "\n",
    "    if goal_check(current_state):\n",
    "        print(f\"Solved in {counter:,} steps\")\n",
    "        print(f\"Solution: {current_state}\")\n",
    "    else:\n",
    "        print(\"Problem not solved. Try increasing the limit.\")"
   ]
  },
  {
   "cell_type": "code",
   "execution_count": 96,
   "metadata": {},
   "outputs": [
    {
     "name": "stdout",
     "output_type": "stream",
     "text": [
      "-- Depth-limited search - limit: 3\n",
      "Solved in 192 steps\n",
      "Solution: State(taken={1, 6, 7}, not_taken={0, 2, 3, 4, 5, 8, 9})\n",
      "-- Depth-limited search - unbounded\n",
      "Solved in 192 steps\n",
      "Solution: State(taken={1, 6, 7}, not_taken={0, 2, 3, 4, 5, 8, 9})\n"
     ]
    }
   ],
   "source": [
    "print('-- Depth-limited search - limit: 3')\n",
    "depth_limited_search(current_state, limit=3)\n",
    "print('-- Depth-limited search - unbounded')\n",
    "depth_limited_search(current_state)"
   ]
  },
  {
   "cell_type": "markdown",
   "metadata": {},
   "source": [
    "### Lab request - 19/10/2023"
   ]
  },
  {
   "cell_type": "markdown",
   "metadata": {},
   "source": [
    "To implement $A^*$, we can simply modify the `generic_search` algorithm. The new function will receive as input the cost function $g(\\cdot)$ and the heuristic function $h(\\cdot)$. Each state $n$ will be inserted in the priority queue according to the value of $g(n) + h(n)$."
   ]
  },
  {
   "cell_type": "code",
   "execution_count": 97,
   "metadata": {},
   "outputs": [],
   "source": [
    "def a_star(current_state, cost_function=get_progressive_number, heuristic_function=get_progressive_number):\n",
    "    frontier = PriorityQueue()\n",
    "    frontier.put((cost_function(current_state) + heuristic_function(current_state), current_state))\n",
    "\n",
    "    counter = 0\n",
    "    _, current_state = frontier.get()\n",
    "    while not goal_check(current_state):\n",
    "        counter += 1\n",
    "        for action in current_state.not_taken:\n",
    "            new_state = State(current_state.taken ^ {action}, current_state.not_taken ^ {action})\n",
    "            frontier.put((cost_function(new_state) + heuristic_function(new_state), new_state))\n",
    "        _, current_state = frontier.get()\n",
    "\n",
    "    print(f\"Solved in {counter:,} steps ({len(current_state.taken)} set of tiles)\")\n",
    "    print(f\"Solution: {current_state}\")"
   ]
  },
  {
   "cell_type": "code",
   "execution_count": 98,
   "metadata": {},
   "outputs": [
    {
     "name": "stdout",
     "output_type": "stream",
     "text": [
      "Solved in 4 steps (3 set of tiles)\n",
      "Solution: State(taken={1, 2, 6}, not_taken={0, 3, 4, 5, 7, 8, 9})\n"
     ]
    }
   ],
   "source": [
    "a_star(current_state, cost_function=count_number_taken_sets, heuristic_function=count_remaining_tiles)"
   ]
  }
 ],
 "metadata": {
  "kernelspec": {
   "display_name": "ci",
   "language": "python",
   "name": "python3"
  },
  "language_info": {
   "codemirror_mode": {
    "name": "ipython",
    "version": 3
   },
   "file_extension": ".py",
   "mimetype": "text/x-python",
   "name": "python",
   "nbconvert_exporter": "python",
   "pygments_lexer": "ipython3",
   "version": "3.12.0"
  }
 },
 "nbformat": 4,
 "nbformat_minor": 2
}
