{
 "cells": [
  {
   "cell_type": "markdown",
   "metadata": {},
   "source": [
    "## General Info - 10/10/2023\n",
    "\n",
    "Copyright (c) 2023 Davide Sferrazza\n",
    "\n",
    "The notebook was created during the lecture \"Set Covering\", which resulted in the template available [here](https://github.com/squillero/computational-intelligence/blob/a62479c672c960a49c18532e1b6cc43d0c9eb01f/2023-24/set-covering.ipynb). \n",
    "\n",
    "I extended the content, reorganized the code and created new functions implementing several search algorithms."
   ]
  },
  {
   "cell_type": "markdown",
   "metadata": {},
   "source": [
    "### Nomenclature\n",
    "In what follows:\n",
    "- a **boolean value** is a _**tile**_;\n",
    "- an **array/list of booleans** is a _**set of tiles**_ or _**line of tiles**_."
   ]
  },
  {
   "cell_type": "markdown",
   "metadata": {},
   "source": [
    "#### Code Explanation"
   ]
  },
  {
   "cell_type": "code",
   "execution_count": 181,
   "metadata": {},
   "outputs": [],
   "source": [
    "# import the needed libraries\n",
    "from random import random\n",
    "from functools import reduce\n",
    "from collections import namedtuple\n",
    "from itertools import count\n",
    "from queue import PriorityQueue, SimpleQueue, LifoQueue\n",
    "import math\n",
    "import numpy as np"
   ]
  },
  {
   "cell_type": "markdown",
   "metadata": {},
   "source": [
    "To correctly model the problem, we represent a set of tiles like a boolean numpy array of size `PROBLEM_SIZE`. A tile is present or not with probability `TILE_PROBABILITY`.\n",
    "\n",
    "A state can be modeled as a tuple of two elements:\n",
    "- the first element is a set of already taken sets of tiles;\n",
    "- the second element is a set of not taken sets of tiles.\n",
    "\n",
    "> Please note that with this representation, the state tuple already contains the path."
   ]
  },
  {
   "cell_type": "code",
   "execution_count": 182,
   "metadata": {},
   "outputs": [],
   "source": [
    "PROBLEM_SIZE = 5\n",
    "NUM_SETS = 10\n",
    "TILE_PROBABILITY = 0.3\n",
    "SETS = tuple(np.array([random() < TILE_PROBABILITY for _ in range(PROBLEM_SIZE)]) for _ in range(NUM_SETS))\n",
    "State = namedtuple(\"State\", [\"taken\", \"not_taken\"])"
   ]
  },
  {
   "cell_type": "markdown",
   "metadata": {},
   "source": [
    "The goal is reached if our taken sets of tiles can be stacked and collapsed into a single set of contiguous `PROBLEM_SIZE` tiles."
   ]
  },
  {
   "cell_type": "code",
   "execution_count": 183,
   "metadata": {},
   "outputs": [],
   "source": [
    "def covered(state):\n",
    "    return reduce(\n",
    "        np.logical_or,\n",
    "        [SETS[i] for i in state.taken],\n",
    "        np.array([False for _ in range(PROBLEM_SIZE)]),\n",
    "    )"
   ]
  },
  {
   "cell_type": "code",
   "execution_count": 184,
   "metadata": {},
   "outputs": [],
   "source": [
    "def goal_check(state):\n",
    "    return np.all(covered(state))"
   ]
  },
  {
   "cell_type": "markdown",
   "metadata": {},
   "source": [
    "We can check whether the randomly generated problem is solvable by considering a solution in which we take all sets of tiles."
   ]
  },
  {
   "cell_type": "code",
   "execution_count": 185,
   "metadata": {},
   "outputs": [],
   "source": [
    "assert goal_check(State(set(range(NUM_SETS)), set())), \"Problem not solvable\""
   ]
  },
  {
   "cell_type": "markdown",
   "metadata": {},
   "source": [
    "I define some functions that evaluate a state and assign a value to it based on its content."
   ]
  },
  {
   "cell_type": "code",
   "execution_count": 186,
   "metadata": {},
   "outputs": [],
   "source": [
    "def get_progressive_number(_=None, counter=count(1)):\n",
    "    return next(counter)"
   ]
  },
  {
   "cell_type": "code",
   "execution_count": 187,
   "metadata": {},
   "outputs": [],
   "source": [
    "def count_remaining_tiles(state):\n",
    "    return PROBLEM_SIZE - sum(covered(state))"
   ]
  },
  {
   "cell_type": "code",
   "execution_count": 188,
   "metadata": {},
   "outputs": [],
   "source": [
    "def count_number_taken_sets(state):\n",
    "    return len(state.taken)"
   ]
  },
  {
   "cell_type": "code",
   "execution_count": 189,
   "metadata": {},
   "outputs": [],
   "source": [
    "def sum_occupied_cells(state):\n",
    "    return sum([sum(SETS[i]) for i in state.taken])"
   ]
  },
  {
   "cell_type": "markdown",
   "metadata": {},
   "source": [
    "I define a function that implements the generic search algorithm. The user can specify which data structure to use as the frontier and which priority function to use.\n",
    "\n",
    "If you use a priority queue as the frontier, the lower the priority, the earlier the state tuple will be considered for analysis."
   ]
  },
  {
   "cell_type": "code",
   "execution_count": 190,
   "metadata": {},
   "outputs": [],
   "source": [
    "def generic_search(current_state, frontier=None, priority_function=get_progressive_number):\n",
    "    if not frontier:\n",
    "        frontier = PriorityQueue()\n",
    "\n",
    "    frontier.put((priority_function(current_state), current_state))\n",
    "\n",
    "    counter = 0\n",
    "    _, current_state = frontier.get()\n",
    "    while not goal_check(current_state):\n",
    "        counter += 1\n",
    "        for action in current_state.not_taken:\n",
    "            new_state = State(current_state.taken ^ {action}, current_state.not_taken ^ {action})\n",
    "            frontier.put((priority_function(new_state), new_state))\n",
    "        _, current_state = frontier.get()\n",
    "\n",
    "    print(f\"Solved in {counter:,} steps ({len(current_state.taken)} set of tiles)\")\n",
    "    print(f\"Solution: {current_state}\")"
   ]
  },
  {
   "cell_type": "markdown",
   "metadata": {},
   "source": [
    "Given an initial state in which no set of tiles has been taken, we can perform different types of searches by simply changing the arguments of the `generic_search` function."
   ]
  },
  {
   "cell_type": "code",
   "execution_count": 191,
   "metadata": {},
   "outputs": [],
   "source": [
    "current_state = State(set(), set(range(NUM_SETS)))"
   ]
  },
  {
   "cell_type": "code",
   "execution_count": 192,
   "metadata": {},
   "outputs": [
    {
     "name": "stdout",
     "output_type": "stream",
     "text": [
      "-- Breadth-first search\n",
      "Solved in 156 steps (3 set of tiles)\n",
      "Solution: State(taken={0, 9, 7}, not_taken={1, 2, 3, 4, 5, 6, 8})\n",
      "-- Depth-first search\n",
      "Solved in 5 steps (5 set of tiles)\n",
      "Solution: State(taken={5, 6, 7, 8, 9}, not_taken={0, 1, 2, 3, 4})\n",
      "-- Dijkstra with sum_occupied_cells as priority function (here for the sake of trying)\n",
      "Solved in 2,658 steps (4 set of tiles)\n",
      "Solution: State(taken={8, 9, 2, 7}, not_taken={0, 1, 3, 4, 5, 6})\n",
      "-- Dijkstra with count_number_taken_sets as priority function\n",
      "Solved in 102 steps (3 set of tiles)\n",
      "Solution: State(taken={9, 5, 6}, not_taken={0, 1, 2, 3, 4, 7, 8})\n",
      "-- Greedy Best-First search\n",
      "Solved in 3 steps (3 set of tiles)\n",
      "Solution: State(taken={9, 1, 6}, not_taken={0, 2, 3, 4, 5, 7, 8})\n"
     ]
    }
   ],
   "source": [
    "print('-- Breadth-first search')\n",
    "generic_search(current_state, SimpleQueue())\n",
    "print('-- Depth-first search')\n",
    "generic_search(current_state, LifoQueue())\n",
    "print('-- Dijkstra with sum_occupied_cells as priority function (here for the sake of trying)')\n",
    "generic_search(current_state, priority_function=sum_occupied_cells)\n",
    "print('-- Dijkstra with count_number_taken_sets as priority function')\n",
    "generic_search(current_state, priority_function=count_number_taken_sets)\n",
    "print('-- Greedy Best-First search')\n",
    "generic_search(current_state, priority_function=count_remaining_tiles)"
   ]
  },
  {
   "cell_type": "markdown",
   "metadata": {},
   "source": [
    "The following function implements a depth-limited search, which by default has no limit and then performs an iterative deepening search."
   ]
  },
  {
   "cell_type": "code",
   "execution_count": 193,
   "metadata": {},
   "outputs": [],
   "source": [
    "def depth_limited_search(current_state, limit=float('inf')):\n",
    "    frontier = LifoQueue()\n",
    "    initial_state = current_state\n",
    "\n",
    "    level = 0\n",
    "\n",
    "    while level <= limit:\n",
    "        frontier.put(initial_state)\n",
    "        counter = 0\n",
    "\n",
    "        while not goal_check(current_state) and frontier.qsize() > 0:\n",
    "            current_state = frontier.get()\n",
    "            counter += 1\n",
    "            for action in current_state.not_taken:\n",
    "                new_state = State(current_state.taken ^ {action}, current_state.not_taken ^ {action})\n",
    "                if len(new_state.taken) <= level:\n",
    "                    frontier.put(new_state)\n",
    "\n",
    "        if goal_check(current_state):\n",
    "            break\n",
    "\n",
    "        level += 1\n",
    "\n",
    "    if goal_check(current_state):\n",
    "        print(f\"Solved in {counter:,} steps\")\n",
    "        print(f\"Solution: {current_state}\")\n",
    "    else:\n",
    "        print(\"Problem not solved. Try increasing the limit.\")"
   ]
  },
  {
   "cell_type": "code",
   "execution_count": 194,
   "metadata": {},
   "outputs": [
    {
     "name": "stdout",
     "output_type": "stream",
     "text": [
      "-- Depth-limited search - limit: 3\n",
      "Solved in 15 steps\n",
      "Solution: State(taken={9, 5, 7}, not_taken={0, 1, 2, 3, 4, 6, 8})\n",
      "-- Depth-limited search - unbounded\n",
      "Solved in 15 steps\n",
      "Solution: State(taken={9, 5, 7}, not_taken={0, 1, 2, 3, 4, 6, 8})\n"
     ]
    }
   ],
   "source": [
    "print('-- Depth-limited search - limit: 3')\n",
    "depth_limited_search(current_state, limit=3)\n",
    "print('-- Depth-limited search - unbounded')\n",
    "depth_limited_search(current_state)"
   ]
  },
  {
   "cell_type": "markdown",
   "metadata": {},
   "source": [
    "### Lab 01 - 19/10/2023"
   ]
  },
  {
   "cell_type": "markdown",
   "metadata": {},
   "source": [
    "To implement $A^*$, we can simply modify the `generic_search` algorithm. The new function will receive as input the cost function $g(\\cdot)$ and the heuristic function $h(\\cdot)$. Each state $n$ will be inserted in the priority queue according to the value of $g(n) + h(n)$."
   ]
  },
  {
   "cell_type": "code",
   "execution_count": 195,
   "metadata": {},
   "outputs": [],
   "source": [
    "def a_star(current_state, cost_function=get_progressive_number, heuristic_function=get_progressive_number):\n",
    "    frontier = PriorityQueue()\n",
    "    frontier.put((cost_function(current_state) + heuristic_function(current_state), current_state))\n",
    "\n",
    "    counter = 0\n",
    "    _, current_state = frontier.get()\n",
    "    while not goal_check(current_state):\n",
    "        counter += 1\n",
    "        for action in current_state.not_taken:\n",
    "            new_state = State(current_state.taken ^ {action}, current_state.not_taken ^ {action})\n",
    "            frontier.put((cost_function(new_state) + heuristic_function(new_state), new_state))\n",
    "        _, current_state = frontier.get()\n",
    "\n",
    "    print(f\"Solved in {counter:,} steps ({len(current_state.taken)} set of tiles)\")\n",
    "    print(f\"Solution: {current_state}\")"
   ]
  },
  {
   "cell_type": "markdown",
   "metadata": {},
   "source": [
    "If we choose $h$ as `count_remaining_tiles`, which is a non-admissible function, we obtain the following result:"
   ]
  },
  {
   "cell_type": "code",
   "execution_count": 196,
   "metadata": {},
   "outputs": [
    {
     "name": "stdout",
     "output_type": "stream",
     "text": [
      "-- A-star with count_remaining_tiles as heuristic function\n",
      "Solved in 8 steps (3 set of tiles)\n",
      "Solution: State(taken={9, 1, 7}, not_taken={0, 2, 3, 4, 5, 6, 8})\n"
     ]
    }
   ],
   "source": [
    "print('-- A-star with count_remaining_tiles as heuristic function')\n",
    "a_star(current_state, cost_function=count_number_taken_sets, heuristic_function=count_remaining_tiles)"
   ]
  },
  {
   "cell_type": "markdown",
   "metadata": {},
   "source": [
    "`count_remaining_tiles` is non-admissible function because we reason in a pessimistic way. Given $n$ remaining tiles, we say that we need at least $n$ set of tiles to cover them, which means that each set covers 0 or at most 1 tile. \\\n",
    "Using it as a heuristic function in the $A^*$ algorithm does not guarantee that we will get an optimal solution. By the way, the algorithm with this function ends in a very limited number of steps and with a pretty good solution."
   ]
  },
  {
   "cell_type": "markdown",
   "metadata": {},
   "source": [
    "To implement an $A^*$ algorithm which leads to an optimal solution, i.e. the solution with the minimum cost, while expanding the minimum number of nodes, we should use an admissible heuristic. \\\n",
    "The closer the heuristic is to the true cost, the faster the algorithm will converge to the optimum.\n",
    "\n",
    "To create an admissible heuristic, given the current state, we compute the missing tiles and the covered tiles from it, while sorting the not taken sets of tiles in decreasing order of the possible tiles that each set could cover. \\\n",
    "The heuristic function returns the minimum number of not taken sets we need to reach our goal."
   ]
  },
  {
   "cell_type": "code",
   "execution_count": 197,
   "metadata": {},
   "outputs": [],
   "source": [
    "def admissible_heuristic(state):\n",
    "    covered_tiles = covered(state)\n",
    "    missing_tiles = count_remaining_tiles(state)\n",
    "    if missing_tiles == 0:\n",
    "        return 0\n",
    "    candidates = sorted(\n",
    "        (sum(np.logical_and(SETS[i], np.logical_not(covered_tiles))) for i in state.not_taken), reverse=True\n",
    "    )\n",
    "    taken = 1\n",
    "    while sum(candidates[:taken]) < missing_tiles:\n",
    "        taken += 1\n",
    "    return taken"
   ]
  },
  {
   "cell_type": "code",
   "execution_count": 198,
   "metadata": {},
   "outputs": [
    {
     "name": "stdout",
     "output_type": "stream",
     "text": [
      "-- A-star with admissible_heuristic as heuristic function\n",
      "Solved in 11 steps (3 set of tiles)\n",
      "Solution: State(taken={0, 9, 7}, not_taken={1, 2, 3, 4, 5, 6, 8})\n"
     ]
    }
   ],
   "source": [
    "print('-- A-star with admissible_heuristic as heuristic function')\n",
    "a_star(current_state, cost_function=count_number_taken_sets, heuristic_function=admissible_heuristic)"
   ]
  },
  {
   "cell_type": "markdown",
   "metadata": {},
   "source": [
    "Here I reorganized the code and improved the solution proposed by the Professor on [24th October 2023](https://github.com/squillero/computational-intelligence/blob/2683313a93160547d1cb8ab1a275fcea039fe492/2023-24/set-covering_path-search.ipynb) by restricting the sorting problem only to those sets we have not yet taken. \\\n",
    "The Professor's solution sorts over all sets (`state.taken.union(state.not_taken)`), but for the taken sets `sum(np.logical_and(SETS[i], np.logical_not(covered_tiles)))` is always equal to zero. We can simply ignore them."
   ]
  }
 ],
 "metadata": {
  "kernelspec": {
   "display_name": "ci",
   "language": "python",
   "name": "python3"
  },
  "language_info": {
   "codemirror_mode": {
    "name": "ipython",
    "version": 3
   },
   "file_extension": ".py",
   "mimetype": "text/x-python",
   "name": "python",
   "nbconvert_exporter": "python",
   "pygments_lexer": "ipython3",
   "version": "3.12.0"
  }
 },
 "nbformat": 4,
 "nbformat_minor": 2
}
