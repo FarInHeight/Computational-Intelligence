{
 "cells": [
  {
   "cell_type": "markdown",
   "metadata": {},
   "source": [
    "### General Info\n",
    "The notebook was created during the lecture \"Set Covering\", which resulted in the template available [here](https://github.com/squillero/computational-intelligence/blob/master/2023-24/set-covering.ipynb). \n",
    "\n",
    "I extended the content, reorganized the code and created new functions implementing several search algorithms."
   ]
  },
  {
   "cell_type": "markdown",
   "metadata": {},
   "source": [
    "#### Code Explanation"
   ]
  },
  {
   "cell_type": "code",
   "execution_count": 1,
   "metadata": {},
   "outputs": [],
   "source": [
    "# import the needed libraries\n",
    "from random import random\n",
    "from functools import reduce\n",
    "from collections import namedtuple\n",
    "from itertools import count\n",
    "from queue import PriorityQueue, SimpleQueue, LifoQueue\n",
    "import numpy as np"
   ]
  },
  {
   "cell_type": "markdown",
   "metadata": {},
   "source": [
    "To correctly model the problem, we represent a set of tiles like a boolean numpy array of size `PROBLEM_SIZE`. A tile is present or not with probability `TILE_PROBABILITY`.\n",
    "\n",
    "A state can be modeled as a tuple of two elements:\n",
    "- the first element is a set of already taken sets of tiles;\n",
    "- the second element is a set of not taken sets of tiles.\n",
    "\n",
    "> Please note that with this representation, the state tuple already contains the path."
   ]
  },
  {
   "cell_type": "code",
   "execution_count": 2,
   "metadata": {},
   "outputs": [],
   "source": [
    "PROBLEM_SIZE = 5\n",
    "NUM_SETS = 10\n",
    "TILE_PROBABILITY = 0.3\n",
    "SETS = tuple(np.array([random() < TILE_PROBABILITY for _ in range(PROBLEM_SIZE)]) for _ in range(NUM_SETS))\n",
    "State = namedtuple(\"State\", [\"taken\", \"not_taken\"])"
   ]
  },
  {
   "cell_type": "markdown",
   "metadata": {},
   "source": [
    "The goal is reached if our taken sets of tiles can be stacked and collapsed into a single set of contiguous `PROBLEM_SIZE` tiles."
   ]
  },
  {
   "cell_type": "code",
   "execution_count": 3,
   "metadata": {},
   "outputs": [],
   "source": [
    "def goal_check(state):\n",
    "    return np.all(\n",
    "        reduce(\n",
    "            np.logical_or,\n",
    "            [SETS[i] for i in state.taken],\n",
    "            np.array([False for _ in range(PROBLEM_SIZE)]),\n",
    "        )\n",
    "    )"
   ]
  },
  {
   "cell_type": "markdown",
   "metadata": {},
   "source": [
    "We can check whether the randomly generated problem is solvable by considering a solution in which we take all sets of tiles."
   ]
  },
  {
   "cell_type": "code",
   "execution_count": 4,
   "metadata": {},
   "outputs": [],
   "source": [
    "assert goal_check(State(set(range(NUM_SETS)), set())), \"Problem not solvable\""
   ]
  },
  {
   "cell_type": "markdown",
   "metadata": {},
   "source": [
    "I define some functions that evaluate a state and assign a score to it based on its content."
   ]
  },
  {
   "cell_type": "code",
   "execution_count": 5,
   "metadata": {},
   "outputs": [],
   "source": [
    "def get_progressive_number(_=None, counter=count(1)):\n",
    "    return next(counter)"
   ]
  },
  {
   "cell_type": "code",
   "execution_count": 6,
   "metadata": {},
   "outputs": [],
   "source": [
    "def count_remaining_tiles(state):\n",
    "    return sum(\n",
    "        np.logical_not(\n",
    "            reduce(\n",
    "                np.logical_or,\n",
    "                [SETS[i] for i in state.taken],\n",
    "                np.array([False for _ in range(PROBLEM_SIZE)]),\n",
    "            )\n",
    "        )\n",
    "    )"
   ]
  },
  {
   "cell_type": "code",
   "execution_count": 7,
   "metadata": {},
   "outputs": [],
   "source": [
    "def sum_occupied_cells(state):\n",
    "    return sum([np.sum(SETS[i]) for i in state.taken])"
   ]
  },
  {
   "cell_type": "markdown",
   "metadata": {},
   "source": [
    "I define a function that implements the generic search algorithm. The user can specify which data structure to use as the frontier and which priority function to use.\n",
    "\n",
    "If you use a priority queue as the frontier, the lower the priority, the earlier the state tuple will be considered for analysis."
   ]
  },
  {
   "cell_type": "code",
   "execution_count": 8,
   "metadata": {},
   "outputs": [],
   "source": [
    "def generic_search(current_state, frontier=None, priority_function=get_progressive_number):\n",
    "    if not frontier:\n",
    "        frontier = PriorityQueue()\n",
    "\n",
    "    frontier.put((priority_function(current_state), current_state))\n",
    "\n",
    "    counter = 0\n",
    "    _, current_state = frontier.get()\n",
    "    while not goal_check(current_state):\n",
    "        counter += 1\n",
    "        for action in current_state.not_taken:\n",
    "            new_state = State(current_state.taken ^ {action}, current_state.not_taken ^ {action})\n",
    "            frontier.put((priority_function(new_state), new_state))\n",
    "        _, current_state = frontier.get()\n",
    "\n",
    "    print(f\"Solved in {counter:,} steps\")\n",
    "    print(f\"Solution: {current_state}\")"
   ]
  },
  {
   "cell_type": "markdown",
   "metadata": {},
   "source": [
    "Given an initial state in which no set of tiles has been taken, we can perform different types of searches by simply changing the arguments of the `generic_search` function."
   ]
  },
  {
   "cell_type": "code",
   "execution_count": 9,
   "metadata": {},
   "outputs": [
    {
     "name": "stdout",
     "output_type": "stream",
     "text": [
      "-- Breadth-first search\n",
      "Solved in 32 steps\n",
      "Solution: State(taken={2, 4}, not_taken={0, 1, 3, 5, 6, 7, 8, 9})\n",
      "-- Depth-first search\n",
      "Solved in 6 steps\n",
      "Solution: State(taken={4, 5, 6, 7, 8, 9}, not_taken={0, 1, 2, 3})\n",
      "-- Dijkstra with sum_occupied_cells as priority function\n",
      "Solved in 3,211 steps\n",
      "Solution: State(taken={0, 9, 5}, not_taken={1, 2, 3, 4, 6, 7, 8})\n",
      "-- Greedy Best-First search\n",
      "Solved in 2 steps\n",
      "Solution: State(taken={2, 4}, not_taken={0, 1, 3, 5, 6, 7, 8, 9})\n"
     ]
    }
   ],
   "source": [
    "current_state = State(set(), set(range(NUM_SETS)))\n",
    "\n",
    "print('-- Breadth-first search')\n",
    "generic_search(current_state, SimpleQueue())\n",
    "print('-- Depth-first search')\n",
    "generic_search(current_state, LifoQueue())\n",
    "print('-- Dijkstra with sum_occupied_cells as priority function')\n",
    "generic_search(current_state, priority_function=sum_occupied_cells)\n",
    "print('-- Greedy Best-First search')\n",
    "generic_search(current_state, priority_function=count_remaining_tiles)"
   ]
  },
  {
   "cell_type": "markdown",
   "metadata": {},
   "source": [
    "The following function implements a depth-limited search, which by default has no limit and then performs an iterative deepening search."
   ]
  },
  {
   "cell_type": "code",
   "execution_count": 10,
   "metadata": {},
   "outputs": [],
   "source": [
    "def depth_limited_search(current_state, limit=float('inf')):\n",
    "    frontier = LifoQueue()\n",
    "    initial_state = current_state\n",
    "\n",
    "    level = 0\n",
    "\n",
    "    while level <= limit:\n",
    "        frontier.put(initial_state)\n",
    "        counter = 0\n",
    "\n",
    "        while not goal_check(current_state) and frontier.qsize() > 0:\n",
    "            current_state = frontier.get()\n",
    "            counter += 1\n",
    "            for action in current_state.not_taken:\n",
    "                new_state = State(current_state.taken ^ {action}, current_state.not_taken ^ {action})\n",
    "                if len(new_state.taken) <= level:\n",
    "                    frontier.put(new_state)\n",
    "\n",
    "        if goal_check(current_state):\n",
    "            break\n",
    "\n",
    "        level += 1\n",
    "\n",
    "    if goal_check(current_state):\n",
    "        print(\n",
    "            f\"Solved in {counter:,} steps\"\n",
    "        )\n",
    "        print(f\"Solution: {current_state}\")\n",
    "    else:\n",
    "        print(\"Problem not solved. Try increasing the limit.\")"
   ]
  },
  {
   "cell_type": "code",
   "execution_count": 11,
   "metadata": {},
   "outputs": [
    {
     "name": "stdout",
     "output_type": "stream",
     "text": [
      "-- Depth-limited search - limit: 3\n",
      "Solved in 7 steps\n",
      "Solution: State(taken={9, 4}, not_taken={0, 1, 2, 3, 5, 6, 7, 8})\n",
      "-- Depth-limited search - unbounded\n",
      "Solved in 7 steps\n",
      "Solution: State(taken={9, 4}, not_taken={0, 1, 2, 3, 5, 6, 7, 8})\n"
     ]
    }
   ],
   "source": [
    "print('-- Depth-limited search - limit: 3')\n",
    "depth_limited_search(current_state, limit=3)\n",
    "print('-- Depth-limited search - unbounded')\n",
    "depth_limited_search(current_state)"
   ]
  }
 ],
 "metadata": {
  "kernelspec": {
   "display_name": "ci",
   "language": "python",
   "name": "python3"
  },
  "language_info": {
   "codemirror_mode": {
    "name": "ipython",
    "version": 3
   },
   "file_extension": ".py",
   "mimetype": "text/x-python",
   "name": "python",
   "nbconvert_exporter": "python",
   "pygments_lexer": "ipython3",
   "version": "3.12.0"
  }
 },
 "nbformat": 4,
 "nbformat_minor": 2
}
